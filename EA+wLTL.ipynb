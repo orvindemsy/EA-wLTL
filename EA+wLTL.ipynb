{
 "cells": [
  {
   "cell_type": "markdown",
   "metadata": {},
   "source": [
    "# Euclidean Alignment + Weighted TL"
   ]
  },
  {
   "cell_type": "markdown",
   "metadata": {},
   "source": [
    "## Load dataset"
   ]
  },
  {
   "cell_type": "code",
   "execution_count": 1,
   "metadata": {},
   "outputs": [],
   "source": [
    "import sys"
   ]
  },
  {
   "cell_type": "code",
   "execution_count": 2,
   "metadata": {},
   "outputs": [],
   "source": [
    "sys.path.append('D:\\Google_Drive\\JupyterNotebookProjects\\bci-research\\plan_c\\csp')"
   ]
  },
  {
   "cell_type": "code",
   "execution_count": 3,
   "metadata": {},
   "outputs": [],
   "source": [
    "import numpy as np\n",
    "import matplotlib.pyplot as plt\n",
    "import pandas as pd\n",
    "\n",
    "import moabb.datasets\n",
    "import moabb.paradigms\n",
    "\n",
    "\n",
    "from copy import deepcopy\n",
    "from csp.utils import subject_counter\n",
    "from csp.preprocess import fir_bandpass, apply_bandpass, fetch_left_right_EEG\n",
    "from csp.preprocess import split_EEG_one_class, process_s_data\n",
    "from csp.feat_extraction import compute_Z, feat_vector, true_label\n",
    "from csp.csp import CSP"
   ]
  },
  {
   "cell_type": "code",
   "execution_count": 4,
   "metadata": {},
   "outputs": [],
   "source": [
    "dframe = pd.DataFrame"
   ]
  },
  {
   "cell_type": "code",
   "execution_count": 25,
   "metadata": {},
   "outputs": [],
   "source": [
    "# First import the data\n",
    "\n",
    "# Number of subject, n + 1 for iteration purpose (there are 9 subjects)\n",
    "ns = 10\n",
    "\n",
    "# Creating dict to store original data and modified data\n",
    "# ori_data will serve as initial loaded data that will remain unchanged\n",
    "ori_data = dict()\n",
    "mod_data = dict() "
   ]
  },
  {
   "cell_type": "markdown",
   "metadata": {},
   "source": [
    "## Load Dataset"
   ]
  },
  {
   "cell_type": "code",
   "execution_count": 26,
   "metadata": {},
   "outputs": [],
   "source": [
    "# Iter over all data path then store them in sub0X variable\n",
    "for subj in range(1, 10):\n",
    "    data_path = '../../datasets/BCICIV2a/A{:02d}T.npz'.format(subj)\n",
    "    \n",
    "    # Load EEG data from datapath and store into subj0X variabel then store into ori_dict\n",
    "    # Then also fetch 's' (EEG data) into mod_data\n",
    "    ori_data[subj] = np.load(data_path)\n",
    "    mod_data[subj] = {}\n",
    "    mod_data[subj]['s'] = deepcopy(ori_data[subj]['s'])\n",
    "    mod_data[subj]['etyp'] = deepcopy(ori_data[subj]['etyp'])\n",
    "    mod_data[subj]['epos'] = deepcopy(ori_data[subj]['epos'])\n",
    "    \n",
    "    # Remove last three EOG electrodes\n",
    "    mod_data[subj]['s'] = np.delete(mod_data[subj]['s'], np.s_[22:], 1)"
   ]
  },
  {
   "cell_type": "markdown",
   "metadata": {},
   "source": [
    "## Preprocessing"
   ]
  },
  {
   "cell_type": "markdown",
   "metadata": {},
   "source": [
    "### Apply Bandpass Filter"
   ]
  },
  {
   "cell_type": "code",
   "execution_count": 27,
   "metadata": {},
   "outputs": [],
   "source": [
    "from scipy.signal import firwin, freqs, lfilter"
   ]
  },
  {
   "cell_type": "code",
   "execution_count": 28,
   "metadata": {},
   "outputs": [],
   "source": [
    "# Frequency sampling at 250 Hz\n",
    "fs = 250\n",
    "\n",
    "# Applying bandpass filter 8-30 Hz to all subjects raw EEG\n",
    "b = fir_bandpass(51, low=8, high=30, fs=fs)"
   ]
  },
  {
   "cell_type": "code",
   "execution_count": 29,
   "metadata": {},
   "outputs": [],
   "source": [
    "## PREPROCESSING ##\n",
    "\n",
    "# Frequency sampling at 250 Hz\n",
    "fs = 250\n",
    "\n",
    "# Applying bandpass filter 8-30 Hz to all subjects raw EEG\n",
    "b = fir_bandpass(51, low=8, high=30, fs=fs)\n",
    "\n",
    "for subj in mod_data.keys():\n",
    "    temp_raw_EEG = mod_data[subj]['s']\n",
    "    \n",
    "    mod_data[subj]['EEG_filtered'] = apply_bandpass(temp_raw_EEG, b)"
   ]
  },
  {
   "cell_type": "code",
   "execution_count": 30,
   "metadata": {},
   "outputs": [
    {
     "data": {
      "text/html": [
       "<div>\n",
       "<style scoped>\n",
       "    .dataframe tbody tr th:only-of-type {\n",
       "        vertical-align: middle;\n",
       "    }\n",
       "\n",
       "    .dataframe tbody tr th {\n",
       "        vertical-align: top;\n",
       "    }\n",
       "\n",
       "    .dataframe thead th {\n",
       "        text-align: right;\n",
       "    }\n",
       "</style>\n",
       "<table border=\"1\" class=\"dataframe\">\n",
       "  <thead>\n",
       "    <tr style=\"text-align: right;\">\n",
       "      <th></th>\n",
       "      <th>0</th>\n",
       "      <th>1</th>\n",
       "      <th>2</th>\n",
       "      <th>3</th>\n",
       "      <th>4</th>\n",
       "      <th>5</th>\n",
       "      <th>6</th>\n",
       "      <th>7</th>\n",
       "      <th>8</th>\n",
       "      <th>9</th>\n",
       "      <th>...</th>\n",
       "      <th>12</th>\n",
       "      <th>13</th>\n",
       "      <th>14</th>\n",
       "      <th>15</th>\n",
       "      <th>16</th>\n",
       "      <th>17</th>\n",
       "      <th>18</th>\n",
       "      <th>19</th>\n",
       "      <th>20</th>\n",
       "      <th>21</th>\n",
       "    </tr>\n",
       "  </thead>\n",
       "  <tbody>\n",
       "    <tr>\n",
       "      <th>0</th>\n",
       "      <td>-0.020422</td>\n",
       "      <td>-0.022875</td>\n",
       "      <td>-0.020752</td>\n",
       "      <td>-0.024290</td>\n",
       "      <td>-0.024856</td>\n",
       "      <td>-0.026978</td>\n",
       "      <td>-0.014055</td>\n",
       "      <td>-0.021743</td>\n",
       "      <td>-0.024573</td>\n",
       "      <td>-0.027733</td>\n",
       "      <td>...</td>\n",
       "      <td>-0.025186</td>\n",
       "      <td>-0.022356</td>\n",
       "      <td>-0.023960</td>\n",
       "      <td>-0.029572</td>\n",
       "      <td>-0.028629</td>\n",
       "      <td>-0.025752</td>\n",
       "      <td>-0.020234</td>\n",
       "      <td>-0.024573</td>\n",
       "      <td>-0.024054</td>\n",
       "      <td>-0.019007</td>\n",
       "    </tr>\n",
       "    <tr>\n",
       "      <th>1</th>\n",
       "      <td>-0.028404</td>\n",
       "      <td>-0.031205</td>\n",
       "      <td>-0.030831</td>\n",
       "      <td>-0.033074</td>\n",
       "      <td>-0.033981</td>\n",
       "      <td>-0.033931</td>\n",
       "      <td>-0.020491</td>\n",
       "      <td>-0.029673</td>\n",
       "      <td>-0.036051</td>\n",
       "      <td>-0.038065</td>\n",
       "      <td>...</td>\n",
       "      <td>-0.031740</td>\n",
       "      <td>-0.030597</td>\n",
       "      <td>-0.034277</td>\n",
       "      <td>-0.040461</td>\n",
       "      <td>-0.039797</td>\n",
       "      <td>-0.034346</td>\n",
       "      <td>-0.029374</td>\n",
       "      <td>-0.034872</td>\n",
       "      <td>-0.033981</td>\n",
       "      <td>-0.029271</td>\n",
       "    </tr>\n",
       "    <tr>\n",
       "      <th>2</th>\n",
       "      <td>-0.022534</td>\n",
       "      <td>-0.027174</td>\n",
       "      <td>-0.026464</td>\n",
       "      <td>-0.029447</td>\n",
       "      <td>-0.028894</td>\n",
       "      <td>-0.029548</td>\n",
       "      <td>-0.017482</td>\n",
       "      <td>-0.027437</td>\n",
       "      <td>-0.032539</td>\n",
       "      <td>-0.034971</td>\n",
       "      <td>...</td>\n",
       "      <td>-0.024285</td>\n",
       "      <td>-0.029289</td>\n",
       "      <td>-0.032084</td>\n",
       "      <td>-0.038319</td>\n",
       "      <td>-0.037874</td>\n",
       "      <td>-0.032493</td>\n",
       "      <td>-0.028467</td>\n",
       "      <td>-0.033443</td>\n",
       "      <td>-0.032392</td>\n",
       "      <td>-0.028682</td>\n",
       "    </tr>\n",
       "    <tr>\n",
       "      <th>3</th>\n",
       "      <td>-0.027857</td>\n",
       "      <td>-0.027150</td>\n",
       "      <td>-0.032594</td>\n",
       "      <td>-0.035113</td>\n",
       "      <td>-0.038213</td>\n",
       "      <td>-0.037143</td>\n",
       "      <td>-0.019260</td>\n",
       "      <td>-0.029577</td>\n",
       "      <td>-0.040505</td>\n",
       "      <td>-0.041637</td>\n",
       "      <td>...</td>\n",
       "      <td>-0.035856</td>\n",
       "      <td>-0.031609</td>\n",
       "      <td>-0.039735</td>\n",
       "      <td>-0.045916</td>\n",
       "      <td>-0.046540</td>\n",
       "      <td>-0.041085</td>\n",
       "      <td>-0.032311</td>\n",
       "      <td>-0.039749</td>\n",
       "      <td>-0.039492</td>\n",
       "      <td>-0.030589</td>\n",
       "    </tr>\n",
       "    <tr>\n",
       "      <th>4</th>\n",
       "      <td>-0.064138</td>\n",
       "      <td>-0.066045</td>\n",
       "      <td>-0.067683</td>\n",
       "      <td>-0.079740</td>\n",
       "      <td>-0.082914</td>\n",
       "      <td>-0.087771</td>\n",
       "      <td>-0.040368</td>\n",
       "      <td>-0.065460</td>\n",
       "      <td>-0.080927</td>\n",
       "      <td>-0.091818</td>\n",
       "      <td>...</td>\n",
       "      <td>-0.087361</td>\n",
       "      <td>-0.067454</td>\n",
       "      <td>-0.079225</td>\n",
       "      <td>-0.097632</td>\n",
       "      <td>-0.098159</td>\n",
       "      <td>-0.089933</td>\n",
       "      <td>-0.064292</td>\n",
       "      <td>-0.082052</td>\n",
       "      <td>-0.082849</td>\n",
       "      <td>-0.061782</td>\n",
       "    </tr>\n",
       "  </tbody>\n",
       "</table>\n",
       "<p>5 rows × 22 columns</p>\n",
       "</div>"
      ],
      "text/plain": [
       "         0         1         2         3         4         5         6   \\\n",
       "0 -0.020422 -0.022875 -0.020752 -0.024290 -0.024856 -0.026978 -0.014055   \n",
       "1 -0.028404 -0.031205 -0.030831 -0.033074 -0.033981 -0.033931 -0.020491   \n",
       "2 -0.022534 -0.027174 -0.026464 -0.029447 -0.028894 -0.029548 -0.017482   \n",
       "3 -0.027857 -0.027150 -0.032594 -0.035113 -0.038213 -0.037143 -0.019260   \n",
       "4 -0.064138 -0.066045 -0.067683 -0.079740 -0.082914 -0.087771 -0.040368   \n",
       "\n",
       "         7         8         9   ...        12        13        14        15  \\\n",
       "0 -0.021743 -0.024573 -0.027733  ... -0.025186 -0.022356 -0.023960 -0.029572   \n",
       "1 -0.029673 -0.036051 -0.038065  ... -0.031740 -0.030597 -0.034277 -0.040461   \n",
       "2 -0.027437 -0.032539 -0.034971  ... -0.024285 -0.029289 -0.032084 -0.038319   \n",
       "3 -0.029577 -0.040505 -0.041637  ... -0.035856 -0.031609 -0.039735 -0.045916   \n",
       "4 -0.065460 -0.080927 -0.091818  ... -0.087361 -0.067454 -0.079225 -0.097632   \n",
       "\n",
       "         16        17        18        19        20        21  \n",
       "0 -0.028629 -0.025752 -0.020234 -0.024573 -0.024054 -0.019007  \n",
       "1 -0.039797 -0.034346 -0.029374 -0.034872 -0.033981 -0.029271  \n",
       "2 -0.037874 -0.032493 -0.028467 -0.033443 -0.032392 -0.028682  \n",
       "3 -0.046540 -0.041085 -0.032311 -0.039749 -0.039492 -0.030589  \n",
       "4 -0.098159 -0.089933 -0.064292 -0.082052 -0.082849 -0.061782  \n",
       "\n",
       "[5 rows x 22 columns]"
      ]
     },
     "execution_count": 30,
     "metadata": {},
     "output_type": "execute_result"
    }
   ],
   "source": [
    "dframe(mod_data[1]['EEG_filtered']).head()"
   ]
  },
  {
   "cell_type": "markdown",
   "metadata": {},
   "source": [
    "### Convert samples x n_electrodes -> no_trials x n_electrodes x samples \n",
    "Remember to process the filtered EEG with shape of samples x electrodes"
   ]
  },
  {
   "cell_type": "code",
   "execution_count": null,
   "metadata": {},
   "outputs": [],
   "source": []
  },
  {
   "cell_type": "code",
   "execution_count": null,
   "metadata": {},
   "outputs": [],
   "source": []
  },
  {
   "cell_type": "code",
   "execution_count": 44,
   "metadata": {},
   "outputs": [
    {
     "name": "stdout",
     "output_type": "stream",
     "text": [
      "Processing for subject 1\n",
      "Processing for subject 2\n",
      "Processing for subject 3\n",
      "Processing for subject 4\n",
      "Processing for subject 5\n",
      "Processing for subject 6\n",
      "Processing for subject 7\n",
      "Processing for subject 8\n",
      "Processing for subject 9\n"
     ]
    }
   ],
   "source": [
    "# Iterate overall all_data\n",
    "for subj in mod_data.keys():\n",
    "    print('Processing for subject', subj)\n",
    "    mod_data[subj]['all_trials'], mod_data[subj]['y'], _ = process_s_data(data=mod_data[subj], eeg_key='EEG_filtered', start_t=0.5, end_t=0.5, fs=250)"
   ]
  },
  {
   "cell_type": "code",
   "execution_count": 46,
   "metadata": {},
   "outputs": [
    {
     "data": {
      "text/plain": [
       "(144, 22, 0)"
      ]
     },
     "execution_count": 46,
     "metadata": {},
     "output_type": "execute_result"
    }
   ],
   "source": [
    "mod_data[2]['all_trials'].shape"
   ]
  },
  {
   "cell_type": "code",
   "execution_count": null,
   "metadata": {},
   "outputs": [],
   "source": []
  },
  {
   "cell_type": "code",
   "execution_count": 40,
   "metadata": {},
   "outputs": [],
   "source": [
    "data = mod_data[1]\n",
    "eeg_key = 'EEG_filtered'\n",
    "start_t = 0.5\n",
    "end_t = 3.5\n",
    "fs=250"
   ]
  },
  {
   "cell_type": "code",
   "execution_count": 41,
   "metadata": {},
   "outputs": [],
   "source": [
    "# Event type and position of subject\n",
    "typ = data['etyp']\n",
    "pos = data['epos']\n",
    "\n",
    "# Grab position of each left (etype=769) and right (etype=770) class\n",
    "pos_left = pos[typ==769]\n",
    "pos_right = pos[typ==770]\n",
    "all_pos = np.hstack([pos_left, pos_right])\n",
    "\n",
    "# True label\n",
    "y_left = np.zeros(len(pos_left))\n",
    "y_right = np.ones(len(pos_right))\n",
    "all_y = np.hstack([y_left, y_right])\n",
    "\n",
    "# Sort them ascendingly based on event occurences\n",
    "ids = np.argsort(all_pos)\n",
    "all_pos = all_pos[ids]\n",
    "all_y = all_y[ids]\n",
    "\n",
    "fs=250\n",
    "\n",
    "# Now convert 's' data into data of trials\n",
    "s = data[eeg_key]\n",
    "\n",
    "all_trials = []\n",
    "for pos in all_pos:\n",
    "    all_trials.append(s[(pos-1)+int(fs*start_t) : (pos-1)+int(fs*end_t)].T)\n",
    "\n",
    "all_trials = np.array(all_trials) \n",
    "\n",
    "# # Return these\n",
    "# return all_trials, all_y, all_pos"
   ]
  },
  {
   "cell_type": "code",
   "execution_count": 42,
   "metadata": {},
   "outputs": [
    {
     "data": {
      "text/plain": [
       "(144, 22, 750)"
      ]
     },
     "execution_count": 42,
     "metadata": {},
     "output_type": "execute_result"
    }
   ],
   "source": [
    "all_trials.shape"
   ]
  },
  {
   "cell_type": "code",
   "execution_count": null,
   "metadata": {},
   "outputs": [],
   "source": []
  },
  {
   "cell_type": "code",
   "execution_count": null,
   "metadata": {},
   "outputs": [],
   "source": []
  },
  {
   "cell_type": "code",
   "execution_count": null,
   "metadata": {},
   "outputs": [],
   "source": []
  },
  {
   "cell_type": "code",
   "execution_count": null,
   "metadata": {},
   "outputs": [],
   "source": []
  },
  {
   "cell_type": "code",
   "execution_count": null,
   "metadata": {},
   "outputs": [],
   "source": []
  },
  {
   "cell_type": "code",
   "execution_count": null,
   "metadata": {},
   "outputs": [],
   "source": []
  },
  {
   "cell_type": "code",
   "execution_count": null,
   "metadata": {},
   "outputs": [],
   "source": []
  },
  {
   "cell_type": "code",
   "execution_count": null,
   "metadata": {},
   "outputs": [],
   "source": []
  },
  {
   "cell_type": "code",
   "execution_count": null,
   "metadata": {},
   "outputs": [],
   "source": []
  },
  {
   "cell_type": "code",
   "execution_count": null,
   "metadata": {},
   "outputs": [],
   "source": []
  },
  {
   "cell_type": "code",
   "execution_count": null,
   "metadata": {},
   "outputs": [],
   "source": []
  },
  {
   "cell_type": "code",
   "execution_count": null,
   "metadata": {},
   "outputs": [],
   "source": []
  },
  {
   "cell_type": "code",
   "execution_count": null,
   "metadata": {},
   "outputs": [],
   "source": []
  },
  {
   "cell_type": "code",
   "execution_count": null,
   "metadata": {},
   "outputs": [],
   "source": []
  },
  {
   "cell_type": "code",
   "execution_count": null,
   "metadata": {},
   "outputs": [],
   "source": []
  },
  {
   "cell_type": "code",
   "execution_count": null,
   "metadata": {},
   "outputs": [],
   "source": []
  },
  {
   "cell_type": "code",
   "execution_count": null,
   "metadata": {},
   "outputs": [],
   "source": []
  },
  {
   "cell_type": "code",
   "execution_count": null,
   "metadata": {},
   "outputs": [],
   "source": []
  },
  {
   "cell_type": "code",
   "execution_count": null,
   "metadata": {},
   "outputs": [],
   "source": []
  },
  {
   "cell_type": "code",
   "execution_count": null,
   "metadata": {},
   "outputs": [],
   "source": []
  },
  {
   "cell_type": "code",
   "execution_count": null,
   "metadata": {},
   "outputs": [],
   "source": []
  },
  {
   "cell_type": "code",
   "execution_count": null,
   "metadata": {},
   "outputs": [],
   "source": []
  },
  {
   "cell_type": "code",
   "execution_count": null,
   "metadata": {},
   "outputs": [],
   "source": []
  },
  {
   "cell_type": "code",
   "execution_count": null,
   "metadata": {},
   "outputs": [],
   "source": []
  },
  {
   "cell_type": "code",
   "execution_count": null,
   "metadata": {},
   "outputs": [],
   "source": []
  },
  {
   "cell_type": "code",
   "execution_count": null,
   "metadata": {},
   "outputs": [],
   "source": []
  },
  {
   "cell_type": "code",
   "execution_count": null,
   "metadata": {},
   "outputs": [],
   "source": []
  },
  {
   "cell_type": "code",
   "execution_count": null,
   "metadata": {},
   "outputs": [],
   "source": []
  },
  {
   "cell_type": "code",
   "execution_count": null,
   "metadata": {},
   "outputs": [],
   "source": []
  },
  {
   "cell_type": "code",
   "execution_count": null,
   "metadata": {},
   "outputs": [],
   "source": []
  },
  {
   "cell_type": "code",
   "execution_count": null,
   "metadata": {},
   "outputs": [],
   "source": []
  },
  {
   "cell_type": "code",
   "execution_count": null,
   "metadata": {},
   "outputs": [],
   "source": []
  },
  {
   "cell_type": "code",
   "execution_count": null,
   "metadata": {},
   "outputs": [],
   "source": []
  },
  {
   "cell_type": "code",
   "execution_count": null,
   "metadata": {},
   "outputs": [],
   "source": []
  },
  {
   "cell_type": "code",
   "execution_count": null,
   "metadata": {},
   "outputs": [],
   "source": []
  },
  {
   "cell_type": "code",
   "execution_count": null,
   "metadata": {},
   "outputs": [],
   "source": []
  },
  {
   "cell_type": "code",
   "execution_count": null,
   "metadata": {},
   "outputs": [],
   "source": []
  },
  {
   "cell_type": "code",
   "execution_count": null,
   "metadata": {},
   "outputs": [],
   "source": []
  },
  {
   "cell_type": "code",
   "execution_count": null,
   "metadata": {},
   "outputs": [],
   "source": []
  },
  {
   "cell_type": "code",
   "execution_count": null,
   "metadata": {},
   "outputs": [],
   "source": []
  },
  {
   "cell_type": "code",
   "execution_count": null,
   "metadata": {},
   "outputs": [],
   "source": []
  },
  {
   "cell_type": "code",
   "execution_count": null,
   "metadata": {},
   "outputs": [],
   "source": []
  },
  {
   "cell_type": "code",
   "execution_count": null,
   "metadata": {},
   "outputs": [],
   "source": []
  },
  {
   "cell_type": "code",
   "execution_count": null,
   "metadata": {},
   "outputs": [],
   "source": []
  },
  {
   "cell_type": "code",
   "execution_count": null,
   "metadata": {},
   "outputs": [],
   "source": []
  },
  {
   "cell_type": "code",
   "execution_count": null,
   "metadata": {},
   "outputs": [],
   "source": []
  },
  {
   "cell_type": "code",
   "execution_count": null,
   "metadata": {},
   "outputs": [],
   "source": []
  },
  {
   "cell_type": "code",
   "execution_count": null,
   "metadata": {},
   "outputs": [],
   "source": []
  },
  {
   "cell_type": "code",
   "execution_count": null,
   "metadata": {},
   "outputs": [],
   "source": []
  },
  {
   "cell_type": "code",
   "execution_count": null,
   "metadata": {},
   "outputs": [],
   "source": []
  },
  {
   "cell_type": "code",
   "execution_count": null,
   "metadata": {},
   "outputs": [],
   "source": []
  },
  {
   "cell_type": "code",
   "execution_count": null,
   "metadata": {},
   "outputs": [],
   "source": []
  },
  {
   "cell_type": "code",
   "execution_count": null,
   "metadata": {},
   "outputs": [],
   "source": []
  },
  {
   "cell_type": "code",
   "execution_count": null,
   "metadata": {},
   "outputs": [],
   "source": []
  },
  {
   "cell_type": "code",
   "execution_count": null,
   "metadata": {},
   "outputs": [],
   "source": []
  },
  {
   "cell_type": "code",
   "execution_count": null,
   "metadata": {},
   "outputs": [],
   "source": []
  },
  {
   "cell_type": "code",
   "execution_count": null,
   "metadata": {},
   "outputs": [],
   "source": []
  },
  {
   "cell_type": "code",
   "execution_count": null,
   "metadata": {},
   "outputs": [],
   "source": []
  },
  {
   "cell_type": "code",
   "execution_count": null,
   "metadata": {},
   "outputs": [],
   "source": []
  },
  {
   "cell_type": "code",
   "execution_count": null,
   "metadata": {},
   "outputs": [],
   "source": []
  },
  {
   "cell_type": "code",
   "execution_count": null,
   "metadata": {},
   "outputs": [],
   "source": []
  },
  {
   "cell_type": "code",
   "execution_count": null,
   "metadata": {},
   "outputs": [],
   "source": []
  },
  {
   "cell_type": "code",
   "execution_count": null,
   "metadata": {},
   "outputs": [],
   "source": []
  },
  {
   "cell_type": "code",
   "execution_count": null,
   "metadata": {},
   "outputs": [],
   "source": []
  },
  {
   "cell_type": "code",
   "execution_count": null,
   "metadata": {},
   "outputs": [],
   "source": []
  },
  {
   "cell_type": "code",
   "execution_count": null,
   "metadata": {},
   "outputs": [],
   "source": []
  },
  {
   "cell_type": "code",
   "execution_count": null,
   "metadata": {},
   "outputs": [],
   "source": []
  },
  {
   "cell_type": "code",
   "execution_count": null,
   "metadata": {},
   "outputs": [],
   "source": []
  },
  {
   "cell_type": "code",
   "execution_count": null,
   "metadata": {},
   "outputs": [],
   "source": []
  },
  {
   "cell_type": "code",
   "execution_count": null,
   "metadata": {},
   "outputs": [],
   "source": []
  },
  {
   "cell_type": "code",
   "execution_count": null,
   "metadata": {},
   "outputs": [],
   "source": []
  },
  {
   "cell_type": "code",
   "execution_count": null,
   "metadata": {},
   "outputs": [],
   "source": []
  },
  {
   "cell_type": "code",
   "execution_count": null,
   "metadata": {},
   "outputs": [],
   "source": []
  },
  {
   "cell_type": "code",
   "execution_count": null,
   "metadata": {},
   "outputs": [],
   "source": []
  },
  {
   "cell_type": "code",
   "execution_count": null,
   "metadata": {},
   "outputs": [],
   "source": []
  },
  {
   "cell_type": "code",
   "execution_count": null,
   "metadata": {},
   "outputs": [],
   "source": []
  },
  {
   "cell_type": "code",
   "execution_count": null,
   "metadata": {},
   "outputs": [],
   "source": []
  },
  {
   "cell_type": "code",
   "execution_count": null,
   "metadata": {},
   "outputs": [],
   "source": []
  },
  {
   "cell_type": "code",
   "execution_count": null,
   "metadata": {},
   "outputs": [],
   "source": []
  },
  {
   "cell_type": "code",
   "execution_count": null,
   "metadata": {},
   "outputs": [],
   "source": []
  },
  {
   "cell_type": "code",
   "execution_count": null,
   "metadata": {},
   "outputs": [],
   "source": []
  },
  {
   "cell_type": "code",
   "execution_count": null,
   "metadata": {},
   "outputs": [],
   "source": []
  },
  {
   "cell_type": "code",
   "execution_count": null,
   "metadata": {},
   "outputs": [],
   "source": []
  },
  {
   "cell_type": "code",
   "execution_count": null,
   "metadata": {},
   "outputs": [],
   "source": []
  },
  {
   "cell_type": "code",
   "execution_count": null,
   "metadata": {},
   "outputs": [],
   "source": []
  },
  {
   "cell_type": "code",
   "execution_count": null,
   "metadata": {},
   "outputs": [],
   "source": []
  },
  {
   "cell_type": "code",
   "execution_count": null,
   "metadata": {},
   "outputs": [],
   "source": []
  },
  {
   "cell_type": "code",
   "execution_count": null,
   "metadata": {},
   "outputs": [],
   "source": []
  },
  {
   "cell_type": "code",
   "execution_count": null,
   "metadata": {},
   "outputs": [],
   "source": []
  },
  {
   "cell_type": "code",
   "execution_count": null,
   "metadata": {},
   "outputs": [],
   "source": []
  },
  {
   "cell_type": "code",
   "execution_count": null,
   "metadata": {},
   "outputs": [],
   "source": []
  },
  {
   "cell_type": "code",
   "execution_count": null,
   "metadata": {},
   "outputs": [],
   "source": []
  },
  {
   "cell_type": "code",
   "execution_count": null,
   "metadata": {},
   "outputs": [],
   "source": []
  },
  {
   "cell_type": "code",
   "execution_count": null,
   "metadata": {},
   "outputs": [],
   "source": []
  },
  {
   "cell_type": "code",
   "execution_count": null,
   "metadata": {},
   "outputs": [],
   "source": []
  },
  {
   "cell_type": "code",
   "execution_count": null,
   "metadata": {},
   "outputs": [],
   "source": []
  },
  {
   "cell_type": "code",
   "execution_count": null,
   "metadata": {},
   "outputs": [],
   "source": []
  },
  {
   "cell_type": "code",
   "execution_count": null,
   "metadata": {},
   "outputs": [],
   "source": []
  },
  {
   "cell_type": "code",
   "execution_count": null,
   "metadata": {},
   "outputs": [],
   "source": []
  },
  {
   "cell_type": "code",
   "execution_count": null,
   "metadata": {},
   "outputs": [],
   "source": []
  },
  {
   "cell_type": "code",
   "execution_count": null,
   "metadata": {},
   "outputs": [],
   "source": []
  },
  {
   "cell_type": "code",
   "execution_count": null,
   "metadata": {},
   "outputs": [],
   "source": []
  },
  {
   "cell_type": "code",
   "execution_count": null,
   "metadata": {},
   "outputs": [],
   "source": []
  },
  {
   "cell_type": "code",
   "execution_count": null,
   "metadata": {},
   "outputs": [],
   "source": []
  },
  {
   "cell_type": "code",
   "execution_count": null,
   "metadata": {},
   "outputs": [],
   "source": []
  },
  {
   "cell_type": "code",
   "execution_count": null,
   "metadata": {},
   "outputs": [],
   "source": []
  },
  {
   "cell_type": "code",
   "execution_count": null,
   "metadata": {},
   "outputs": [],
   "source": []
  },
  {
   "cell_type": "code",
   "execution_count": null,
   "metadata": {},
   "outputs": [],
   "source": []
  },
  {
   "cell_type": "code",
   "execution_count": null,
   "metadata": {},
   "outputs": [],
   "source": []
  },
  {
   "cell_type": "code",
   "execution_count": null,
   "metadata": {},
   "outputs": [],
   "source": []
  },
  {
   "cell_type": "code",
   "execution_count": null,
   "metadata": {},
   "outputs": [],
   "source": []
  },
  {
   "cell_type": "code",
   "execution_count": null,
   "metadata": {},
   "outputs": [],
   "source": []
  },
  {
   "cell_type": "code",
   "execution_count": null,
   "metadata": {},
   "outputs": [],
   "source": []
  },
  {
   "cell_type": "code",
   "execution_count": null,
   "metadata": {},
   "outputs": [],
   "source": []
  },
  {
   "cell_type": "code",
   "execution_count": null,
   "metadata": {},
   "outputs": [],
   "source": []
  },
  {
   "cell_type": "code",
   "execution_count": null,
   "metadata": {},
   "outputs": [],
   "source": []
  },
  {
   "cell_type": "code",
   "execution_count": null,
   "metadata": {},
   "outputs": [],
   "source": []
  },
  {
   "cell_type": "code",
   "execution_count": null,
   "metadata": {},
   "outputs": [],
   "source": []
  },
  {
   "cell_type": "code",
   "execution_count": null,
   "metadata": {},
   "outputs": [],
   "source": []
  },
  {
   "cell_type": "code",
   "execution_count": null,
   "metadata": {},
   "outputs": [],
   "source": []
  },
  {
   "cell_type": "code",
   "execution_count": null,
   "metadata": {},
   "outputs": [],
   "source": []
  },
  {
   "cell_type": "code",
   "execution_count": null,
   "metadata": {},
   "outputs": [],
   "source": []
  },
  {
   "cell_type": "code",
   "execution_count": null,
   "metadata": {},
   "outputs": [],
   "source": []
  }
 ],
 "metadata": {
  "kernelspec": {
   "display_name": "eeg-gpu",
   "language": "python",
   "name": "eeg-gpu"
  },
  "language_info": {
   "codemirror_mode": {
    "name": "ipython",
    "version": 3
   },
   "file_extension": ".py",
   "mimetype": "text/x-python",
   "name": "python",
   "nbconvert_exporter": "python",
   "pygments_lexer": "ipython3",
   "version": "3.7.9"
  }
 },
 "nbformat": 4,
 "nbformat_minor": 4
}
