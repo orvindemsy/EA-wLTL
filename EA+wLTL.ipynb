{
 "cells": [
  {
   "cell_type": "markdown",
   "metadata": {},
   "source": [
    "# Euclidean Alignment + Weighted TL"
   ]
  },
  {
   "cell_type": "markdown",
   "metadata": {},
   "source": [
    "## Load dataset"
   ]
  },
  {
   "cell_type": "code",
   "execution_count": null,
   "metadata": {},
   "outputs": [],
   "source": [
    "import sys"
   ]
  },
  {
   "cell_type": "code",
   "execution_count": null,
   "metadata": {},
   "outputs": [],
   "source": [
    "sys.path.append('D:\\Google_Drive\\JupyterNotebookProjects\\bci-research\\plan_c\\csp')\n",
    "sys.path.append('D:\\Google_Drive\\JupyterNotebookProjects\\bci-research\\plan_c\\func')"
   ]
  },
  {
   "cell_type": "code",
   "execution_count": 3,
   "metadata": {},
   "outputs": [],
   "source": [
    "import numpy as np\n",
    "import matplotlib.pyplot as plt\n",
    "import pandas as pd\n",
    "\n",
    "import moabb.datasets\n",
    "import moabb.paradigms\n",
    "\n",
    "\n",
    "from copy import deepcopy\n",
    "from csp.utils import subject_counter\n",
    "from csp.preprocess import fir_bandpass, apply_bandpass, fetch_left_right_EEG\n",
    "from csp.preprocess import split_EEG_one_class, process_s_data\n",
    "from csp.feat_extraction import compute_Z, feat_vector, true_label\n",
    "from csp.csp import CSP"
   ]
  },
  {
   "cell_type": "code",
   "execution_count": 4,
   "metadata": {},
   "outputs": [],
   "source": [
    "dframe = pd.DataFrame"
   ]
  },
  {
   "cell_type": "code",
   "execution_count": 5,
   "metadata": {},
   "outputs": [],
   "source": [
    "# First import the data\n",
    "\n",
    "# Number of subject, n + 1 for iteration purpose (there are 9 subjects)\n",
    "ns = 10\n",
    "\n",
    "# Creating dict to store original data and modified data\n",
    "# ori_data will serve as initial loaded data that will remain unchanged\n",
    "ori_data = dict()\n",
    "mod_data = dict() "
   ]
  },
  {
   "cell_type": "markdown",
   "metadata": {},
   "source": [
    "## Load Dataset"
   ]
  },
  {
   "cell_type": "code",
   "execution_count": 6,
   "metadata": {},
   "outputs": [],
   "source": [
    "# Iter over all data path then store them in sub0X variable\n",
    "for subj in range(1, 10):\n",
    "    data_path = '../../datasets/BCICIV2a/A{:02d}T.npz'.format(subj)\n",
    "    \n",
    "    # Load EEG data from datapath and store into subj0X variabel then store into ori_dict\n",
    "    # Then also fetch 's' (EEG data) into mod_data\n",
    "    ori_data[subj] = np.load(data_path)\n",
    "    mod_data[subj] = {}\n",
    "    mod_data[subj]['s'] = deepcopy(ori_data[subj]['s'])\n",
    "    mod_data[subj]['etyp'] = deepcopy(ori_data[subj]['etyp'])\n",
    "    mod_data[subj]['epos'] = deepcopy(ori_data[subj]['epos'])\n",
    "    \n",
    "    # Remove last three EOG electrodes\n",
    "    mod_data[subj]['s'] = np.delete(mod_data[subj]['s'], np.s_[22:], 1)"
   ]
  },
  {
   "cell_type": "markdown",
   "metadata": {},
   "source": [
    "## Preprocessing"
   ]
  },
  {
   "cell_type": "markdown",
   "metadata": {},
   "source": [
    "### Apply Bandpass Filter"
   ]
  },
  {
   "cell_type": "code",
   "execution_count": 7,
   "metadata": {},
   "outputs": [],
   "source": [
    "from scipy.signal import firwin, freqs, lfilter"
   ]
  },
  {
   "cell_type": "code",
   "execution_count": 8,
   "metadata": {},
   "outputs": [],
   "source": [
    "# Frequency sampling at 250 Hz\n",
    "fs = 250\n",
    "\n",
    "# Applying bandpass filter 8-30 Hz to all subjects raw EEG\n",
    "b = fir_bandpass(51, low=8, high=30, fs=fs)"
   ]
  },
  {
   "cell_type": "code",
   "execution_count": 9,
   "metadata": {},
   "outputs": [],
   "source": [
    "## PREPROCESSING ##\n",
    "\n",
    "# Frequency sampling at 250 Hz\n",
    "fs = 250\n",
    "\n",
    "# Applying bandpass filter 8-30 Hz to all subjects raw EEG\n",
    "b = fir_bandpass(51, low=8, high=30, fs=fs)\n",
    "\n",
    "for subj in mod_data.keys():\n",
    "    temp_raw_EEG = mod_data[subj]['s']\n",
    "    \n",
    "    mod_data[subj]['EEG_filtered'] = apply_bandpass(temp_raw_EEG, b)"
   ]
  },
  {
   "cell_type": "code",
   "execution_count": 10,
   "metadata": {},
   "outputs": [
    {
     "data": {
      "text/html": [
       "<div>\n",
       "<style scoped>\n",
       "    .dataframe tbody tr th:only-of-type {\n",
       "        vertical-align: middle;\n",
       "    }\n",
       "\n",
       "    .dataframe tbody tr th {\n",
       "        vertical-align: top;\n",
       "    }\n",
       "\n",
       "    .dataframe thead th {\n",
       "        text-align: right;\n",
       "    }\n",
       "</style>\n",
       "<table border=\"1\" class=\"dataframe\">\n",
       "  <thead>\n",
       "    <tr style=\"text-align: right;\">\n",
       "      <th></th>\n",
       "      <th>0</th>\n",
       "      <th>1</th>\n",
       "      <th>2</th>\n",
       "      <th>3</th>\n",
       "      <th>4</th>\n",
       "      <th>5</th>\n",
       "      <th>6</th>\n",
       "      <th>7</th>\n",
       "      <th>8</th>\n",
       "      <th>9</th>\n",
       "      <th>...</th>\n",
       "      <th>12</th>\n",
       "      <th>13</th>\n",
       "      <th>14</th>\n",
       "      <th>15</th>\n",
       "      <th>16</th>\n",
       "      <th>17</th>\n",
       "      <th>18</th>\n",
       "      <th>19</th>\n",
       "      <th>20</th>\n",
       "      <th>21</th>\n",
       "    </tr>\n",
       "  </thead>\n",
       "  <tbody>\n",
       "    <tr>\n",
       "      <th>0</th>\n",
       "      <td>-0.020422</td>\n",
       "      <td>-0.022875</td>\n",
       "      <td>-0.020752</td>\n",
       "      <td>-0.024290</td>\n",
       "      <td>-0.024856</td>\n",
       "      <td>-0.026978</td>\n",
       "      <td>-0.014055</td>\n",
       "      <td>-0.021743</td>\n",
       "      <td>-0.024573</td>\n",
       "      <td>-0.027733</td>\n",
       "      <td>...</td>\n",
       "      <td>-0.025186</td>\n",
       "      <td>-0.022356</td>\n",
       "      <td>-0.023960</td>\n",
       "      <td>-0.029572</td>\n",
       "      <td>-0.028629</td>\n",
       "      <td>-0.025752</td>\n",
       "      <td>-0.020234</td>\n",
       "      <td>-0.024573</td>\n",
       "      <td>-0.024054</td>\n",
       "      <td>-0.019007</td>\n",
       "    </tr>\n",
       "    <tr>\n",
       "      <th>1</th>\n",
       "      <td>-0.028404</td>\n",
       "      <td>-0.031205</td>\n",
       "      <td>-0.030831</td>\n",
       "      <td>-0.033074</td>\n",
       "      <td>-0.033981</td>\n",
       "      <td>-0.033931</td>\n",
       "      <td>-0.020491</td>\n",
       "      <td>-0.029673</td>\n",
       "      <td>-0.036051</td>\n",
       "      <td>-0.038065</td>\n",
       "      <td>...</td>\n",
       "      <td>-0.031740</td>\n",
       "      <td>-0.030597</td>\n",
       "      <td>-0.034277</td>\n",
       "      <td>-0.040461</td>\n",
       "      <td>-0.039797</td>\n",
       "      <td>-0.034346</td>\n",
       "      <td>-0.029374</td>\n",
       "      <td>-0.034872</td>\n",
       "      <td>-0.033981</td>\n",
       "      <td>-0.029271</td>\n",
       "    </tr>\n",
       "    <tr>\n",
       "      <th>2</th>\n",
       "      <td>-0.022534</td>\n",
       "      <td>-0.027174</td>\n",
       "      <td>-0.026464</td>\n",
       "      <td>-0.029447</td>\n",
       "      <td>-0.028894</td>\n",
       "      <td>-0.029548</td>\n",
       "      <td>-0.017482</td>\n",
       "      <td>-0.027437</td>\n",
       "      <td>-0.032539</td>\n",
       "      <td>-0.034971</td>\n",
       "      <td>...</td>\n",
       "      <td>-0.024285</td>\n",
       "      <td>-0.029289</td>\n",
       "      <td>-0.032084</td>\n",
       "      <td>-0.038319</td>\n",
       "      <td>-0.037874</td>\n",
       "      <td>-0.032493</td>\n",
       "      <td>-0.028467</td>\n",
       "      <td>-0.033443</td>\n",
       "      <td>-0.032392</td>\n",
       "      <td>-0.028682</td>\n",
       "    </tr>\n",
       "    <tr>\n",
       "      <th>3</th>\n",
       "      <td>-0.027857</td>\n",
       "      <td>-0.027150</td>\n",
       "      <td>-0.032594</td>\n",
       "      <td>-0.035113</td>\n",
       "      <td>-0.038213</td>\n",
       "      <td>-0.037143</td>\n",
       "      <td>-0.019260</td>\n",
       "      <td>-0.029577</td>\n",
       "      <td>-0.040505</td>\n",
       "      <td>-0.041637</td>\n",
       "      <td>...</td>\n",
       "      <td>-0.035856</td>\n",
       "      <td>-0.031609</td>\n",
       "      <td>-0.039735</td>\n",
       "      <td>-0.045916</td>\n",
       "      <td>-0.046540</td>\n",
       "      <td>-0.041085</td>\n",
       "      <td>-0.032311</td>\n",
       "      <td>-0.039749</td>\n",
       "      <td>-0.039492</td>\n",
       "      <td>-0.030589</td>\n",
       "    </tr>\n",
       "    <tr>\n",
       "      <th>4</th>\n",
       "      <td>-0.064138</td>\n",
       "      <td>-0.066045</td>\n",
       "      <td>-0.067683</td>\n",
       "      <td>-0.079740</td>\n",
       "      <td>-0.082914</td>\n",
       "      <td>-0.087771</td>\n",
       "      <td>-0.040368</td>\n",
       "      <td>-0.065460</td>\n",
       "      <td>-0.080927</td>\n",
       "      <td>-0.091818</td>\n",
       "      <td>...</td>\n",
       "      <td>-0.087361</td>\n",
       "      <td>-0.067454</td>\n",
       "      <td>-0.079225</td>\n",
       "      <td>-0.097632</td>\n",
       "      <td>-0.098159</td>\n",
       "      <td>-0.089933</td>\n",
       "      <td>-0.064292</td>\n",
       "      <td>-0.082052</td>\n",
       "      <td>-0.082849</td>\n",
       "      <td>-0.061782</td>\n",
       "    </tr>\n",
       "  </tbody>\n",
       "</table>\n",
       "<p>5 rows × 22 columns</p>\n",
       "</div>"
      ],
      "text/plain": [
       "         0         1         2         3         4         5         6   \\\n",
       "0 -0.020422 -0.022875 -0.020752 -0.024290 -0.024856 -0.026978 -0.014055   \n",
       "1 -0.028404 -0.031205 -0.030831 -0.033074 -0.033981 -0.033931 -0.020491   \n",
       "2 -0.022534 -0.027174 -0.026464 -0.029447 -0.028894 -0.029548 -0.017482   \n",
       "3 -0.027857 -0.027150 -0.032594 -0.035113 -0.038213 -0.037143 -0.019260   \n",
       "4 -0.064138 -0.066045 -0.067683 -0.079740 -0.082914 -0.087771 -0.040368   \n",
       "\n",
       "         7         8         9   ...        12        13        14        15  \\\n",
       "0 -0.021743 -0.024573 -0.027733  ... -0.025186 -0.022356 -0.023960 -0.029572   \n",
       "1 -0.029673 -0.036051 -0.038065  ... -0.031740 -0.030597 -0.034277 -0.040461   \n",
       "2 -0.027437 -0.032539 -0.034971  ... -0.024285 -0.029289 -0.032084 -0.038319   \n",
       "3 -0.029577 -0.040505 -0.041637  ... -0.035856 -0.031609 -0.039735 -0.045916   \n",
       "4 -0.065460 -0.080927 -0.091818  ... -0.087361 -0.067454 -0.079225 -0.097632   \n",
       "\n",
       "         16        17        18        19        20        21  \n",
       "0 -0.028629 -0.025752 -0.020234 -0.024573 -0.024054 -0.019007  \n",
       "1 -0.039797 -0.034346 -0.029374 -0.034872 -0.033981 -0.029271  \n",
       "2 -0.037874 -0.032493 -0.028467 -0.033443 -0.032392 -0.028682  \n",
       "3 -0.046540 -0.041085 -0.032311 -0.039749 -0.039492 -0.030589  \n",
       "4 -0.098159 -0.089933 -0.064292 -0.082052 -0.082849 -0.061782  \n",
       "\n",
       "[5 rows x 22 columns]"
      ]
     },
     "execution_count": 10,
     "metadata": {},
     "output_type": "execute_result"
    }
   ],
   "source": [
    "dframe(mod_data[1]['EEG_filtered']).head()"
   ]
  },
  {
   "cell_type": "markdown",
   "metadata": {},
   "source": [
    "### Convert samples x n_electrodes -> no_trials x n_electrodes x samples \n",
    "Remember to process the filtered EEG with shape of samples x electrodes"
   ]
  },
  {
   "cell_type": "code",
   "execution_count": 11,
   "metadata": {},
   "outputs": [
    {
     "name": "stdout",
     "output_type": "stream",
     "text": [
      "Processing for subject 1\n",
      "Processing for subject 2\n",
      "Processing for subject 3\n",
      "Processing for subject 4\n",
      "Processing for subject 5\n",
      "Processing for subject 6\n",
      "Processing for subject 7\n",
      "Processing for subject 8\n",
      "Processing for subject 9\n"
     ]
    }
   ],
   "source": [
    "# Iterate overall all_data\n",
    "for subj in mod_data.keys():\n",
    "    print('Processing for subject', subj)\n",
    "    mod_data[subj]['all_trials'], mod_data[subj]['y'], _ = process_s_data(data=mod_data[subj], eeg_key='EEG_filtered', start_t=0.5, end_t=3.5, fs=250)"
   ]
  },
  {
   "cell_type": "code",
   "execution_count": 12,
   "metadata": {},
   "outputs": [
    {
     "data": {
      "text/plain": [
       "(144, 22, 750)"
      ]
     },
     "execution_count": 12,
     "metadata": {},
     "output_type": "execute_result"
    }
   ],
   "source": [
    "mod_data[2]['all_trials'].shape"
   ]
  },
  {
   "cell_type": "code",
   "execution_count": 108,
   "metadata": {},
   "outputs": [
    {
     "data": {
      "text/html": [
       "<div>\n",
       "<style scoped>\n",
       "    .dataframe tbody tr th:only-of-type {\n",
       "        vertical-align: middle;\n",
       "    }\n",
       "\n",
       "    .dataframe tbody tr th {\n",
       "        vertical-align: top;\n",
       "    }\n",
       "\n",
       "    .dataframe thead th {\n",
       "        text-align: right;\n",
       "    }\n",
       "</style>\n",
       "<table border=\"1\" class=\"dataframe\">\n",
       "  <thead>\n",
       "    <tr style=\"text-align: right;\">\n",
       "      <th></th>\n",
       "      <th>0</th>\n",
       "      <th>1</th>\n",
       "      <th>2</th>\n",
       "      <th>3</th>\n",
       "      <th>4</th>\n",
       "      <th>5</th>\n",
       "      <th>6</th>\n",
       "      <th>7</th>\n",
       "      <th>8</th>\n",
       "      <th>9</th>\n",
       "      <th>...</th>\n",
       "      <th>740</th>\n",
       "      <th>741</th>\n",
       "      <th>742</th>\n",
       "      <th>743</th>\n",
       "      <th>744</th>\n",
       "      <th>745</th>\n",
       "      <th>746</th>\n",
       "      <th>747</th>\n",
       "      <th>748</th>\n",
       "      <th>749</th>\n",
       "    </tr>\n",
       "  </thead>\n",
       "  <tbody>\n",
       "    <tr>\n",
       "      <th>0</th>\n",
       "      <td>2.831225</td>\n",
       "      <td>3.908294</td>\n",
       "      <td>4.449849</td>\n",
       "      <td>4.378324</td>\n",
       "      <td>3.742567</td>\n",
       "      <td>2.703605</td>\n",
       "      <td>1.307775</td>\n",
       "      <td>-0.408919</td>\n",
       "      <td>-2.290599</td>\n",
       "      <td>-4.026515</td>\n",
       "      <td>...</td>\n",
       "      <td>-3.934988</td>\n",
       "      <td>-3.078539</td>\n",
       "      <td>-2.011369</td>\n",
       "      <td>-0.861646</td>\n",
       "      <td>0.192806</td>\n",
       "      <td>0.994518</td>\n",
       "      <td>1.429399</td>\n",
       "      <td>1.528896</td>\n",
       "      <td>1.414543</td>\n",
       "      <td>1.317802</td>\n",
       "    </tr>\n",
       "    <tr>\n",
       "      <th>1</th>\n",
       "      <td>4.552508</td>\n",
       "      <td>5.900402</td>\n",
       "      <td>6.152449</td>\n",
       "      <td>5.226010</td>\n",
       "      <td>3.403669</td>\n",
       "      <td>1.273342</td>\n",
       "      <td>-0.632542</td>\n",
       "      <td>-1.959919</td>\n",
       "      <td>-2.534516</td>\n",
       "      <td>-2.362089</td>\n",
       "      <td>...</td>\n",
       "      <td>-4.288117</td>\n",
       "      <td>-4.128549</td>\n",
       "      <td>-3.374571</td>\n",
       "      <td>-2.117593</td>\n",
       "      <td>-0.630167</td>\n",
       "      <td>0.755886</td>\n",
       "      <td>1.699310</td>\n",
       "      <td>2.052092</td>\n",
       "      <td>1.845995</td>\n",
       "      <td>1.337277</td>\n",
       "    </tr>\n",
       "    <tr>\n",
       "      <th>2</th>\n",
       "      <td>4.040848</td>\n",
       "      <td>5.192079</td>\n",
       "      <td>5.402117</td>\n",
       "      <td>4.672942</td>\n",
       "      <td>3.285968</td>\n",
       "      <td>1.715717</td>\n",
       "      <td>0.279973</td>\n",
       "      <td>-0.873856</td>\n",
       "      <td>-1.699544</td>\n",
       "      <td>-2.192805</td>\n",
       "      <td>...</td>\n",
       "      <td>-5.330225</td>\n",
       "      <td>-4.911525</td>\n",
       "      <td>-4.056859</td>\n",
       "      <td>-2.824312</td>\n",
       "      <td>-1.390331</td>\n",
       "      <td>0.014043</td>\n",
       "      <td>1.130867</td>\n",
       "      <td>1.826411</td>\n",
       "      <td>2.081070</td>\n",
       "      <td>2.069634</td>\n",
       "    </tr>\n",
       "    <tr>\n",
       "      <th>3</th>\n",
       "      <td>3.429017</td>\n",
       "      <td>4.367521</td>\n",
       "      <td>4.607730</td>\n",
       "      <td>4.135970</td>\n",
       "      <td>3.124638</td>\n",
       "      <td>1.889428</td>\n",
       "      <td>0.611817</td>\n",
       "      <td>-0.651014</td>\n",
       "      <td>-1.836032</td>\n",
       "      <td>-2.805330</td>\n",
       "      <td>...</td>\n",
       "      <td>-5.934167</td>\n",
       "      <td>-5.142495</td>\n",
       "      <td>-3.934169</td>\n",
       "      <td>-2.513212</td>\n",
       "      <td>-1.105981</td>\n",
       "      <td>0.119408</td>\n",
       "      <td>1.018298</td>\n",
       "      <td>1.584724</td>\n",
       "      <td>1.865963</td>\n",
       "      <td>2.015373</td>\n",
       "    </tr>\n",
       "    <tr>\n",
       "      <th>4</th>\n",
       "      <td>3.608418</td>\n",
       "      <td>4.045117</td>\n",
       "      <td>4.080243</td>\n",
       "      <td>3.825804</td>\n",
       "      <td>3.409204</td>\n",
       "      <td>2.922179</td>\n",
       "      <td>2.212409</td>\n",
       "      <td>1.050827</td>\n",
       "      <td>-0.628231</td>\n",
       "      <td>-2.609484</td>\n",
       "      <td>...</td>\n",
       "      <td>-4.718487</td>\n",
       "      <td>-4.275966</td>\n",
       "      <td>-3.733652</td>\n",
       "      <td>-3.069747</td>\n",
       "      <td>-2.261631</td>\n",
       "      <td>-1.279024</td>\n",
       "      <td>-0.158012</td>\n",
       "      <td>1.047967</td>\n",
       "      <td>2.223742</td>\n",
       "      <td>3.281814</td>\n",
       "    </tr>\n",
       "    <tr>\n",
       "      <th>5</th>\n",
       "      <td>3.991446</td>\n",
       "      <td>4.108935</td>\n",
       "      <td>3.930405</td>\n",
       "      <td>3.574364</td>\n",
       "      <td>3.110047</td>\n",
       "      <td>2.547555</td>\n",
       "      <td>1.686041</td>\n",
       "      <td>0.297946</td>\n",
       "      <td>-1.609874</td>\n",
       "      <td>-3.700618</td>\n",
       "      <td>...</td>\n",
       "      <td>-3.648237</td>\n",
       "      <td>-3.251446</td>\n",
       "      <td>-2.710506</td>\n",
       "      <td>-2.094913</td>\n",
       "      <td>-1.448670</td>\n",
       "      <td>-0.720658</td>\n",
       "      <td>0.128474</td>\n",
       "      <td>1.159591</td>\n",
       "      <td>2.326735</td>\n",
       "      <td>3.512759</td>\n",
       "    </tr>\n",
       "    <tr>\n",
       "      <th>6</th>\n",
       "      <td>3.822723</td>\n",
       "      <td>5.666412</td>\n",
       "      <td>6.340582</td>\n",
       "      <td>5.781415</td>\n",
       "      <td>4.293528</td>\n",
       "      <td>2.477332</td>\n",
       "      <td>0.826080</td>\n",
       "      <td>-0.355372</td>\n",
       "      <td>-0.973503</td>\n",
       "      <td>-1.115745</td>\n",
       "      <td>...</td>\n",
       "      <td>-3.103053</td>\n",
       "      <td>-3.804356</td>\n",
       "      <td>-3.950902</td>\n",
       "      <td>-3.348587</td>\n",
       "      <td>-2.100468</td>\n",
       "      <td>-0.522067</td>\n",
       "      <td>0.955570</td>\n",
       "      <td>2.006688</td>\n",
       "      <td>2.452539</td>\n",
       "      <td>2.364979</td>\n",
       "    </tr>\n",
       "    <tr>\n",
       "      <th>7</th>\n",
       "      <td>3.740346</td>\n",
       "      <td>4.855241</td>\n",
       "      <td>5.011246</td>\n",
       "      <td>4.229082</td>\n",
       "      <td>2.809719</td>\n",
       "      <td>1.268153</td>\n",
       "      <td>-0.009607</td>\n",
       "      <td>-0.838442</td>\n",
       "      <td>-1.180222</td>\n",
       "      <td>-1.092079</td>\n",
       "      <td>...</td>\n",
       "      <td>-5.881179</td>\n",
       "      <td>-5.997063</td>\n",
       "      <td>-5.324623</td>\n",
       "      <td>-3.946722</td>\n",
       "      <td>-2.149172</td>\n",
       "      <td>-0.293058</td>\n",
       "      <td>1.224050</td>\n",
       "      <td>2.189421</td>\n",
       "      <td>2.533206</td>\n",
       "      <td>2.405074</td>\n",
       "    </tr>\n",
       "    <tr>\n",
       "      <th>8</th>\n",
       "      <td>3.354028</td>\n",
       "      <td>4.185194</td>\n",
       "      <td>4.205664</td>\n",
       "      <td>3.508617</td>\n",
       "      <td>2.399137</td>\n",
       "      <td>1.296841</td>\n",
       "      <td>0.408868</td>\n",
       "      <td>-0.249901</td>\n",
       "      <td>-0.745095</td>\n",
       "      <td>-1.133733</td>\n",
       "      <td>...</td>\n",
       "      <td>-5.957361</td>\n",
       "      <td>-5.987533</td>\n",
       "      <td>-5.491642</td>\n",
       "      <td>-4.454690</td>\n",
       "      <td>-3.001376</td>\n",
       "      <td>-1.341464</td>\n",
       "      <td>0.246939</td>\n",
       "      <td>1.559108</td>\n",
       "      <td>2.456476</td>\n",
       "      <td>2.974979</td>\n",
       "    </tr>\n",
       "    <tr>\n",
       "      <th>9</th>\n",
       "      <td>3.062213</td>\n",
       "      <td>3.871230</td>\n",
       "      <td>3.991827</td>\n",
       "      <td>3.514069</td>\n",
       "      <td>2.684576</td>\n",
       "      <td>1.821369</td>\n",
       "      <td>1.027980</td>\n",
       "      <td>0.235331</td>\n",
       "      <td>-0.629816</td>\n",
       "      <td>-1.515984</td>\n",
       "      <td>...</td>\n",
       "      <td>-6.550056</td>\n",
       "      <td>-6.024622</td>\n",
       "      <td>-5.098191</td>\n",
       "      <td>-3.890149</td>\n",
       "      <td>-2.519493</td>\n",
       "      <td>-1.067594</td>\n",
       "      <td>0.341394</td>\n",
       "      <td>1.628959</td>\n",
       "      <td>2.674813</td>\n",
       "      <td>3.423529</td>\n",
       "    </tr>\n",
       "  </tbody>\n",
       "</table>\n",
       "<p>10 rows × 750 columns</p>\n",
       "</div>"
      ],
      "text/plain": [
       "        0         1         2         3         4         5         6    \\\n",
       "0  2.831225  3.908294  4.449849  4.378324  3.742567  2.703605  1.307775   \n",
       "1  4.552508  5.900402  6.152449  5.226010  3.403669  1.273342 -0.632542   \n",
       "2  4.040848  5.192079  5.402117  4.672942  3.285968  1.715717  0.279973   \n",
       "3  3.429017  4.367521  4.607730  4.135970  3.124638  1.889428  0.611817   \n",
       "4  3.608418  4.045117  4.080243  3.825804  3.409204  2.922179  2.212409   \n",
       "5  3.991446  4.108935  3.930405  3.574364  3.110047  2.547555  1.686041   \n",
       "6  3.822723  5.666412  6.340582  5.781415  4.293528  2.477332  0.826080   \n",
       "7  3.740346  4.855241  5.011246  4.229082  2.809719  1.268153 -0.009607   \n",
       "8  3.354028  4.185194  4.205664  3.508617  2.399137  1.296841  0.408868   \n",
       "9  3.062213  3.871230  3.991827  3.514069  2.684576  1.821369  1.027980   \n",
       "\n",
       "        7         8         9    ...       740       741       742       743  \\\n",
       "0 -0.408919 -2.290599 -4.026515  ... -3.934988 -3.078539 -2.011369 -0.861646   \n",
       "1 -1.959919 -2.534516 -2.362089  ... -4.288117 -4.128549 -3.374571 -2.117593   \n",
       "2 -0.873856 -1.699544 -2.192805  ... -5.330225 -4.911525 -4.056859 -2.824312   \n",
       "3 -0.651014 -1.836032 -2.805330  ... -5.934167 -5.142495 -3.934169 -2.513212   \n",
       "4  1.050827 -0.628231 -2.609484  ... -4.718487 -4.275966 -3.733652 -3.069747   \n",
       "5  0.297946 -1.609874 -3.700618  ... -3.648237 -3.251446 -2.710506 -2.094913   \n",
       "6 -0.355372 -0.973503 -1.115745  ... -3.103053 -3.804356 -3.950902 -3.348587   \n",
       "7 -0.838442 -1.180222 -1.092079  ... -5.881179 -5.997063 -5.324623 -3.946722   \n",
       "8 -0.249901 -0.745095 -1.133733  ... -5.957361 -5.987533 -5.491642 -4.454690   \n",
       "9  0.235331 -0.629816 -1.515984  ... -6.550056 -6.024622 -5.098191 -3.890149   \n",
       "\n",
       "        744       745       746       747       748       749  \n",
       "0  0.192806  0.994518  1.429399  1.528896  1.414543  1.317802  \n",
       "1 -0.630167  0.755886  1.699310  2.052092  1.845995  1.337277  \n",
       "2 -1.390331  0.014043  1.130867  1.826411  2.081070  2.069634  \n",
       "3 -1.105981  0.119408  1.018298  1.584724  1.865963  2.015373  \n",
       "4 -2.261631 -1.279024 -0.158012  1.047967  2.223742  3.281814  \n",
       "5 -1.448670 -0.720658  0.128474  1.159591  2.326735  3.512759  \n",
       "6 -2.100468 -0.522067  0.955570  2.006688  2.452539  2.364979  \n",
       "7 -2.149172 -0.293058  1.224050  2.189421  2.533206  2.405074  \n",
       "8 -3.001376 -1.341464  0.246939  1.559108  2.456476  2.974979  \n",
       "9 -2.519493 -1.067594  0.341394  1.628959  2.674813  3.423529  \n",
       "\n",
       "[10 rows x 750 columns]"
      ]
     },
     "execution_count": 108,
     "metadata": {},
     "output_type": "execute_result"
    }
   ],
   "source": [
    "dframe(mod_data[5]['all_trials'][6]).iloc[:10]"
   ]
  },
  {
   "cell_type": "code",
   "execution_count": null,
   "metadata": {},
   "outputs": [],
   "source": []
  },
  {
   "cell_type": "markdown",
   "metadata": {},
   "source": [
    "## Apply Data Alignment on raw EEG"
   ]
  },
  {
   "cell_type": "code",
   "execution_count": 14,
   "metadata": {},
   "outputs": [],
   "source": [
    "from func.EA import apply_EA"
   ]
  },
  {
   "cell_type": "code",
   "execution_count": 15,
   "metadata": {},
   "outputs": [
    {
     "data": {
      "text/plain": [
       "dict_keys(['s', 'etyp', 'epos', 'EEG_filtered', 'all_trials', 'y'])"
      ]
     },
     "execution_count": 15,
     "metadata": {},
     "output_type": "execute_result"
    }
   ],
   "source": [
    "mod_data[1].keys()"
   ]
  },
  {
   "cell_type": "code",
   "execution_count": 16,
   "metadata": {},
   "outputs": [
    {
     "name": "stdout",
     "output_type": "stream",
     "text": [
      "Processing subject  1\n",
      "Found 1 key(s) in which EEG data is stored\n",
      "Computing reference matrix RefEA\n",
      "Add RefEA as a new key in data\n",
      "\n",
      "Processing subject  2\n",
      "Found 1 key(s) in which EEG data is stored\n",
      "Computing reference matrix RefEA\n",
      "Add RefEA as a new key in data\n",
      "\n",
      "Processing subject  3\n",
      "Found 1 key(s) in which EEG data is stored\n",
      "Computing reference matrix RefEA\n",
      "Add RefEA as a new key in data\n",
      "\n",
      "Processing subject  4\n",
      "Found 1 key(s) in which EEG data is stored\n",
      "Computing reference matrix RefEA\n",
      "Add RefEA as a new key in data\n",
      "\n",
      "Processing subject  5\n",
      "Found 1 key(s) in which EEG data is stored\n",
      "Computing reference matrix RefEA\n",
      "Add RefEA as a new key in data\n",
      "\n",
      "Processing subject  6\n",
      "Found 1 key(s) in which EEG data is stored\n",
      "Computing reference matrix RefEA\n",
      "Add RefEA as a new key in data\n",
      "\n",
      "Processing subject  7\n",
      "Found 1 key(s) in which EEG data is stored\n",
      "Computing reference matrix RefEA\n",
      "Add RefEA as a new key in data\n",
      "\n",
      "Processing subject  8\n",
      "Found 1 key(s) in which EEG data is stored\n",
      "Computing reference matrix RefEA\n",
      "Add RefEA as a new key in data\n",
      "\n",
      "Processing subject  9\n",
      "Found 1 key(s) in which EEG data is stored\n",
      "Computing reference matrix RefEA\n",
      "Add RefEA as a new key in data\n",
      "\n"
     ]
    }
   ],
   "source": [
    "# Iterate over all subjects to apply EA to all trials\n",
    "# Define keys to be processed\n",
    "process_key = ['all_trials']\n",
    "\n",
    "for subj in mod_data.keys():\n",
    "    print('Processing subject ', subj)\n",
    "    mod_data[subj]['all_trials_EA']  = apply_EA(mod_data[subj], process_key)\n",
    "    print('')"
   ]
  },
  {
   "cell_type": "code",
   "execution_count": 17,
   "metadata": {},
   "outputs": [
    {
     "data": {
      "text/plain": [
       "dict_keys(['s', 'etyp', 'epos', 'EEG_filtered', 'all_trials', 'y', 'RefEA', 'R_inv', 'all_trials_EA'])"
      ]
     },
     "execution_count": 17,
     "metadata": {},
     "output_type": "execute_result"
    }
   ],
   "source": [
    "mod_data[1].keys()"
   ]
  },
  {
   "cell_type": "code",
   "execution_count": 117,
   "metadata": {},
   "outputs": [
    {
     "data": {
      "text/html": [
       "<div>\n",
       "<style scoped>\n",
       "    .dataframe tbody tr th:only-of-type {\n",
       "        vertical-align: middle;\n",
       "    }\n",
       "\n",
       "    .dataframe tbody tr th {\n",
       "        vertical-align: top;\n",
       "    }\n",
       "\n",
       "    .dataframe thead th {\n",
       "        text-align: right;\n",
       "    }\n",
       "</style>\n",
       "<table border=\"1\" class=\"dataframe\">\n",
       "  <thead>\n",
       "    <tr style=\"text-align: right;\">\n",
       "      <th></th>\n",
       "      <th>0</th>\n",
       "      <th>1</th>\n",
       "      <th>2</th>\n",
       "      <th>3</th>\n",
       "      <th>4</th>\n",
       "      <th>5</th>\n",
       "      <th>6</th>\n",
       "      <th>7</th>\n",
       "      <th>8</th>\n",
       "      <th>9</th>\n",
       "      <th>...</th>\n",
       "      <th>12</th>\n",
       "      <th>13</th>\n",
       "      <th>14</th>\n",
       "      <th>15</th>\n",
       "      <th>16</th>\n",
       "      <th>17</th>\n",
       "      <th>18</th>\n",
       "      <th>19</th>\n",
       "      <th>20</th>\n",
       "      <th>21</th>\n",
       "    </tr>\n",
       "  </thead>\n",
       "  <tbody>\n",
       "    <tr>\n",
       "      <th>0</th>\n",
       "      <td>1.050787</td>\n",
       "      <td>-0.137931</td>\n",
       "      <td>-0.284588</td>\n",
       "      <td>-0.398178</td>\n",
       "      <td>-0.248363</td>\n",
       "      <td>-0.180263</td>\n",
       "      <td>-0.068785</td>\n",
       "      <td>0.112794</td>\n",
       "      <td>0.049804</td>\n",
       "      <td>0.161666</td>\n",
       "      <td>...</td>\n",
       "      <td>-0.075583</td>\n",
       "      <td>0.053906</td>\n",
       "      <td>-0.110657</td>\n",
       "      <td>0.012190</td>\n",
       "      <td>-0.006318</td>\n",
       "      <td>-0.044003</td>\n",
       "      <td>0.028455</td>\n",
       "      <td>-0.018040</td>\n",
       "      <td>0.016138</td>\n",
       "      <td>0.002165</td>\n",
       "    </tr>\n",
       "    <tr>\n",
       "      <th>1</th>\n",
       "      <td>-0.137931</td>\n",
       "      <td>1.275520</td>\n",
       "      <td>-0.654065</td>\n",
       "      <td>-0.031563</td>\n",
       "      <td>0.152953</td>\n",
       "      <td>-0.069335</td>\n",
       "      <td>-0.210779</td>\n",
       "      <td>-0.586293</td>\n",
       "      <td>0.093911</td>\n",
       "      <td>-0.038425</td>\n",
       "      <td>...</td>\n",
       "      <td>0.059156</td>\n",
       "      <td>0.163120</td>\n",
       "      <td>0.158174</td>\n",
       "      <td>-0.106424</td>\n",
       "      <td>0.001245</td>\n",
       "      <td>-0.000951</td>\n",
       "      <td>-0.037840</td>\n",
       "      <td>0.007077</td>\n",
       "      <td>-0.009058</td>\n",
       "      <td>0.005652</td>\n",
       "    </tr>\n",
       "    <tr>\n",
       "      <th>2</th>\n",
       "      <td>-0.284588</td>\n",
       "      <td>-0.654065</td>\n",
       "      <td>2.009974</td>\n",
       "      <td>-0.555685</td>\n",
       "      <td>-0.116620</td>\n",
       "      <td>0.157323</td>\n",
       "      <td>0.033919</td>\n",
       "      <td>0.075621</td>\n",
       "      <td>-0.913413</td>\n",
       "      <td>0.108439</td>\n",
       "      <td>...</td>\n",
       "      <td>-0.051272</td>\n",
       "      <td>0.135705</td>\n",
       "      <td>-0.040324</td>\n",
       "      <td>0.193394</td>\n",
       "      <td>-0.001307</td>\n",
       "      <td>-0.025685</td>\n",
       "      <td>-0.045824</td>\n",
       "      <td>0.017960</td>\n",
       "      <td>-0.004297</td>\n",
       "      <td>0.005540</td>\n",
       "    </tr>\n",
       "    <tr>\n",
       "      <th>3</th>\n",
       "      <td>-0.398178</td>\n",
       "      <td>-0.031563</td>\n",
       "      <td>-0.555685</td>\n",
       "      <td>1.857500</td>\n",
       "      <td>-0.404813</td>\n",
       "      <td>-0.078543</td>\n",
       "      <td>0.190657</td>\n",
       "      <td>-0.175220</td>\n",
       "      <td>0.122410</td>\n",
       "      <td>-0.622188</td>\n",
       "      <td>...</td>\n",
       "      <td>0.105236</td>\n",
       "      <td>-0.174931</td>\n",
       "      <td>0.396956</td>\n",
       "      <td>-0.033827</td>\n",
       "      <td>0.073182</td>\n",
       "      <td>0.061909</td>\n",
       "      <td>-0.041013</td>\n",
       "      <td>-0.030554</td>\n",
       "      <td>-0.044469</td>\n",
       "      <td>0.014605</td>\n",
       "    </tr>\n",
       "    <tr>\n",
       "      <th>4</th>\n",
       "      <td>-0.248363</td>\n",
       "      <td>0.152953</td>\n",
       "      <td>-0.116620</td>\n",
       "      <td>-0.404813</td>\n",
       "      <td>1.648440</td>\n",
       "      <td>-0.466228</td>\n",
       "      <td>-0.099422</td>\n",
       "      <td>0.077973</td>\n",
       "      <td>-0.124647</td>\n",
       "      <td>0.029821</td>\n",
       "      <td>...</td>\n",
       "      <td>0.040989</td>\n",
       "      <td>0.085390</td>\n",
       "      <td>-0.115529</td>\n",
       "      <td>0.122820</td>\n",
       "      <td>0.035246</td>\n",
       "      <td>0.036044</td>\n",
       "      <td>-0.001525</td>\n",
       "      <td>0.022960</td>\n",
       "      <td>0.006968</td>\n",
       "      <td>-0.013308</td>\n",
       "    </tr>\n",
       "  </tbody>\n",
       "</table>\n",
       "<p>5 rows × 22 columns</p>\n",
       "</div>"
      ],
      "text/plain": [
       "         0         1         2         3         4         5         6   \\\n",
       "0  1.050787 -0.137931 -0.284588 -0.398178 -0.248363 -0.180263 -0.068785   \n",
       "1 -0.137931  1.275520 -0.654065 -0.031563  0.152953 -0.069335 -0.210779   \n",
       "2 -0.284588 -0.654065  2.009974 -0.555685 -0.116620  0.157323  0.033919   \n",
       "3 -0.398178 -0.031563 -0.555685  1.857500 -0.404813 -0.078543  0.190657   \n",
       "4 -0.248363  0.152953 -0.116620 -0.404813  1.648440 -0.466228 -0.099422   \n",
       "\n",
       "         7         8         9   ...        12        13        14        15  \\\n",
       "0  0.112794  0.049804  0.161666  ... -0.075583  0.053906 -0.110657  0.012190   \n",
       "1 -0.586293  0.093911 -0.038425  ...  0.059156  0.163120  0.158174 -0.106424   \n",
       "2  0.075621 -0.913413  0.108439  ... -0.051272  0.135705 -0.040324  0.193394   \n",
       "3 -0.175220  0.122410 -0.622188  ...  0.105236 -0.174931  0.396956 -0.033827   \n",
       "4  0.077973 -0.124647  0.029821  ...  0.040989  0.085390 -0.115529  0.122820   \n",
       "\n",
       "         16        17        18        19        20        21  \n",
       "0 -0.006318 -0.044003  0.028455 -0.018040  0.016138  0.002165  \n",
       "1  0.001245 -0.000951 -0.037840  0.007077 -0.009058  0.005652  \n",
       "2 -0.001307 -0.025685 -0.045824  0.017960 -0.004297  0.005540  \n",
       "3  0.073182  0.061909 -0.041013 -0.030554 -0.044469  0.014605  \n",
       "4  0.035246  0.036044 -0.001525  0.022960  0.006968 -0.013308  \n",
       "\n",
       "[5 rows x 22 columns]"
      ]
     },
     "execution_count": 117,
     "metadata": {},
     "output_type": "execute_result"
    }
   ],
   "source": [
    "dframe(mod_data[7]['R_inv']).head()"
   ]
  },
  {
   "cell_type": "code",
   "execution_count": null,
   "metadata": {},
   "outputs": [],
   "source": []
  },
  {
   "cell_type": "code",
   "execution_count": null,
   "metadata": {},
   "outputs": [],
   "source": []
  },
  {
   "cell_type": "code",
   "execution_count": null,
   "metadata": {},
   "outputs": [],
   "source": []
  },
  {
   "cell_type": "code",
   "execution_count": null,
   "metadata": {},
   "outputs": [],
   "source": []
  },
  {
   "cell_type": "code",
   "execution_count": null,
   "metadata": {},
   "outputs": [],
   "source": []
  },
  {
   "cell_type": "code",
   "execution_count": null,
   "metadata": {},
   "outputs": [],
   "source": []
  },
  {
   "cell_type": "code",
   "execution_count": null,
   "metadata": {},
   "outputs": [],
   "source": []
  },
  {
   "cell_type": "code",
   "execution_count": null,
   "metadata": {},
   "outputs": [],
   "source": []
  },
  {
   "cell_type": "code",
   "execution_count": null,
   "metadata": {},
   "outputs": [],
   "source": []
  },
  {
   "cell_type": "code",
   "execution_count": null,
   "metadata": {},
   "outputs": [],
   "source": []
  },
  {
   "cell_type": "code",
   "execution_count": null,
   "metadata": {},
   "outputs": [],
   "source": []
  },
  {
   "cell_type": "code",
   "execution_count": null,
   "metadata": {},
   "outputs": [],
   "source": []
  },
  {
   "cell_type": "code",
   "execution_count": null,
   "metadata": {},
   "outputs": [],
   "source": []
  },
  {
   "cell_type": "code",
   "execution_count": null,
   "metadata": {},
   "outputs": [],
   "source": []
  },
  {
   "cell_type": "code",
   "execution_count": null,
   "metadata": {},
   "outputs": [],
   "source": []
  },
  {
   "cell_type": "code",
   "execution_count": null,
   "metadata": {},
   "outputs": [],
   "source": []
  },
  {
   "cell_type": "code",
   "execution_count": null,
   "metadata": {},
   "outputs": [],
   "source": []
  },
  {
   "cell_type": "code",
   "execution_count": null,
   "metadata": {},
   "outputs": [],
   "source": []
  },
  {
   "cell_type": "code",
   "execution_count": null,
   "metadata": {},
   "outputs": [],
   "source": []
  },
  {
   "cell_type": "code",
   "execution_count": null,
   "metadata": {},
   "outputs": [],
   "source": []
  },
  {
   "cell_type": "code",
   "execution_count": null,
   "metadata": {},
   "outputs": [],
   "source": []
  },
  {
   "cell_type": "code",
   "execution_count": null,
   "metadata": {},
   "outputs": [],
   "source": []
  },
  {
   "cell_type": "code",
   "execution_count": null,
   "metadata": {},
   "outputs": [],
   "source": []
  },
  {
   "cell_type": "code",
   "execution_count": null,
   "metadata": {},
   "outputs": [],
   "source": []
  },
  {
   "cell_type": "code",
   "execution_count": null,
   "metadata": {},
   "outputs": [],
   "source": []
  },
  {
   "cell_type": "code",
   "execution_count": null,
   "metadata": {},
   "outputs": [],
   "source": []
  },
  {
   "cell_type": "code",
   "execution_count": null,
   "metadata": {},
   "outputs": [],
   "source": []
  },
  {
   "cell_type": "code",
   "execution_count": null,
   "metadata": {},
   "outputs": [],
   "source": []
  },
  {
   "cell_type": "code",
   "execution_count": null,
   "metadata": {},
   "outputs": [],
   "source": []
  },
  {
   "cell_type": "code",
   "execution_count": null,
   "metadata": {},
   "outputs": [],
   "source": []
  },
  {
   "cell_type": "code",
   "execution_count": null,
   "metadata": {},
   "outputs": [],
   "source": []
  },
  {
   "cell_type": "code",
   "execution_count": null,
   "metadata": {},
   "outputs": [],
   "source": []
  },
  {
   "cell_type": "code",
   "execution_count": null,
   "metadata": {},
   "outputs": [],
   "source": []
  },
  {
   "cell_type": "code",
   "execution_count": null,
   "metadata": {},
   "outputs": [],
   "source": []
  },
  {
   "cell_type": "code",
   "execution_count": null,
   "metadata": {},
   "outputs": [],
   "source": []
  },
  {
   "cell_type": "code",
   "execution_count": null,
   "metadata": {},
   "outputs": [],
   "source": []
  },
  {
   "cell_type": "code",
   "execution_count": null,
   "metadata": {},
   "outputs": [],
   "source": []
  },
  {
   "cell_type": "code",
   "execution_count": null,
   "metadata": {},
   "outputs": [],
   "source": []
  },
  {
   "cell_type": "code",
   "execution_count": null,
   "metadata": {},
   "outputs": [],
   "source": []
  },
  {
   "cell_type": "code",
   "execution_count": null,
   "metadata": {},
   "outputs": [],
   "source": []
  },
  {
   "cell_type": "code",
   "execution_count": null,
   "metadata": {},
   "outputs": [],
   "source": []
  },
  {
   "cell_type": "code",
   "execution_count": null,
   "metadata": {},
   "outputs": [],
   "source": []
  },
  {
   "cell_type": "code",
   "execution_count": null,
   "metadata": {},
   "outputs": [],
   "source": []
  },
  {
   "cell_type": "code",
   "execution_count": null,
   "metadata": {},
   "outputs": [],
   "source": []
  },
  {
   "cell_type": "code",
   "execution_count": null,
   "metadata": {},
   "outputs": [],
   "source": []
  },
  {
   "cell_type": "code",
   "execution_count": null,
   "metadata": {},
   "outputs": [],
   "source": []
  },
  {
   "cell_type": "code",
   "execution_count": null,
   "metadata": {},
   "outputs": [],
   "source": []
  },
  {
   "cell_type": "code",
   "execution_count": null,
   "metadata": {},
   "outputs": [],
   "source": []
  },
  {
   "cell_type": "code",
   "execution_count": null,
   "metadata": {},
   "outputs": [],
   "source": []
  },
  {
   "cell_type": "code",
   "execution_count": null,
   "metadata": {},
   "outputs": [],
   "source": []
  },
  {
   "cell_type": "code",
   "execution_count": null,
   "metadata": {},
   "outputs": [],
   "source": []
  },
  {
   "cell_type": "code",
   "execution_count": null,
   "metadata": {},
   "outputs": [],
   "source": []
  },
  {
   "cell_type": "code",
   "execution_count": null,
   "metadata": {},
   "outputs": [],
   "source": []
  },
  {
   "cell_type": "code",
   "execution_count": null,
   "metadata": {},
   "outputs": [],
   "source": []
  },
  {
   "cell_type": "code",
   "execution_count": null,
   "metadata": {},
   "outputs": [],
   "source": []
  },
  {
   "cell_type": "code",
   "execution_count": null,
   "metadata": {},
   "outputs": [],
   "source": []
  },
  {
   "cell_type": "code",
   "execution_count": null,
   "metadata": {},
   "outputs": [],
   "source": []
  },
  {
   "cell_type": "code",
   "execution_count": null,
   "metadata": {},
   "outputs": [],
   "source": []
  },
  {
   "cell_type": "code",
   "execution_count": null,
   "metadata": {},
   "outputs": [],
   "source": []
  },
  {
   "cell_type": "code",
   "execution_count": null,
   "metadata": {},
   "outputs": [],
   "source": []
  },
  {
   "cell_type": "code",
   "execution_count": null,
   "metadata": {},
   "outputs": [],
   "source": []
  },
  {
   "cell_type": "code",
   "execution_count": null,
   "metadata": {},
   "outputs": [],
   "source": []
  },
  {
   "cell_type": "code",
   "execution_count": null,
   "metadata": {},
   "outputs": [],
   "source": []
  },
  {
   "cell_type": "code",
   "execution_count": null,
   "metadata": {},
   "outputs": [],
   "source": []
  },
  {
   "cell_type": "code",
   "execution_count": null,
   "metadata": {},
   "outputs": [],
   "source": []
  },
  {
   "cell_type": "code",
   "execution_count": null,
   "metadata": {},
   "outputs": [],
   "source": []
  },
  {
   "cell_type": "code",
   "execution_count": null,
   "metadata": {},
   "outputs": [],
   "source": []
  },
  {
   "cell_type": "code",
   "execution_count": null,
   "metadata": {},
   "outputs": [],
   "source": []
  },
  {
   "cell_type": "code",
   "execution_count": null,
   "metadata": {},
   "outputs": [],
   "source": []
  },
  {
   "cell_type": "code",
   "execution_count": null,
   "metadata": {},
   "outputs": [],
   "source": []
  },
  {
   "cell_type": "code",
   "execution_count": null,
   "metadata": {},
   "outputs": [],
   "source": []
  },
  {
   "cell_type": "code",
   "execution_count": null,
   "metadata": {},
   "outputs": [],
   "source": []
  },
  {
   "cell_type": "code",
   "execution_count": null,
   "metadata": {},
   "outputs": [],
   "source": []
  },
  {
   "cell_type": "code",
   "execution_count": null,
   "metadata": {},
   "outputs": [],
   "source": []
  },
  {
   "cell_type": "code",
   "execution_count": null,
   "metadata": {},
   "outputs": [],
   "source": []
  },
  {
   "cell_type": "code",
   "execution_count": null,
   "metadata": {},
   "outputs": [],
   "source": []
  },
  {
   "cell_type": "code",
   "execution_count": null,
   "metadata": {},
   "outputs": [],
   "source": []
  },
  {
   "cell_type": "code",
   "execution_count": null,
   "metadata": {},
   "outputs": [],
   "source": []
  },
  {
   "cell_type": "code",
   "execution_count": null,
   "metadata": {},
   "outputs": [],
   "source": []
  },
  {
   "cell_type": "code",
   "execution_count": null,
   "metadata": {},
   "outputs": [],
   "source": []
  },
  {
   "cell_type": "code",
   "execution_count": null,
   "metadata": {},
   "outputs": [],
   "source": []
  },
  {
   "cell_type": "code",
   "execution_count": null,
   "metadata": {},
   "outputs": [],
   "source": []
  },
  {
   "cell_type": "code",
   "execution_count": null,
   "metadata": {},
   "outputs": [],
   "source": []
  },
  {
   "cell_type": "code",
   "execution_count": null,
   "metadata": {},
   "outputs": [],
   "source": []
  },
  {
   "cell_type": "code",
   "execution_count": null,
   "metadata": {},
   "outputs": [],
   "source": []
  },
  {
   "cell_type": "code",
   "execution_count": null,
   "metadata": {},
   "outputs": [],
   "source": []
  },
  {
   "cell_type": "code",
   "execution_count": null,
   "metadata": {},
   "outputs": [],
   "source": []
  },
  {
   "cell_type": "code",
   "execution_count": null,
   "metadata": {},
   "outputs": [],
   "source": []
  },
  {
   "cell_type": "code",
   "execution_count": null,
   "metadata": {},
   "outputs": [],
   "source": []
  },
  {
   "cell_type": "code",
   "execution_count": null,
   "metadata": {},
   "outputs": [],
   "source": []
  },
  {
   "cell_type": "code",
   "execution_count": null,
   "metadata": {},
   "outputs": [],
   "source": []
  },
  {
   "cell_type": "code",
   "execution_count": null,
   "metadata": {},
   "outputs": [],
   "source": []
  },
  {
   "cell_type": "code",
   "execution_count": null,
   "metadata": {},
   "outputs": [],
   "source": []
  },
  {
   "cell_type": "code",
   "execution_count": null,
   "metadata": {},
   "outputs": [],
   "source": []
  },
  {
   "cell_type": "code",
   "execution_count": null,
   "metadata": {},
   "outputs": [],
   "source": []
  },
  {
   "cell_type": "code",
   "execution_count": null,
   "metadata": {},
   "outputs": [],
   "source": []
  },
  {
   "cell_type": "code",
   "execution_count": null,
   "metadata": {},
   "outputs": [],
   "source": []
  },
  {
   "cell_type": "code",
   "execution_count": null,
   "metadata": {},
   "outputs": [],
   "source": []
  },
  {
   "cell_type": "code",
   "execution_count": null,
   "metadata": {},
   "outputs": [],
   "source": []
  },
  {
   "cell_type": "code",
   "execution_count": null,
   "metadata": {},
   "outputs": [],
   "source": []
  },
  {
   "cell_type": "code",
   "execution_count": null,
   "metadata": {},
   "outputs": [],
   "source": []
  },
  {
   "cell_type": "code",
   "execution_count": null,
   "metadata": {},
   "outputs": [],
   "source": []
  },
  {
   "cell_type": "code",
   "execution_count": null,
   "metadata": {},
   "outputs": [],
   "source": []
  },
  {
   "cell_type": "code",
   "execution_count": null,
   "metadata": {},
   "outputs": [],
   "source": []
  },
  {
   "cell_type": "code",
   "execution_count": null,
   "metadata": {},
   "outputs": [],
   "source": []
  },
  {
   "cell_type": "code",
   "execution_count": null,
   "metadata": {},
   "outputs": [],
   "source": []
  },
  {
   "cell_type": "code",
   "execution_count": null,
   "metadata": {},
   "outputs": [],
   "source": []
  },
  {
   "cell_type": "code",
   "execution_count": null,
   "metadata": {},
   "outputs": [],
   "source": []
  },
  {
   "cell_type": "code",
   "execution_count": null,
   "metadata": {},
   "outputs": [],
   "source": []
  },
  {
   "cell_type": "code",
   "execution_count": null,
   "metadata": {},
   "outputs": [],
   "source": []
  },
  {
   "cell_type": "code",
   "execution_count": null,
   "metadata": {},
   "outputs": [],
   "source": []
  },
  {
   "cell_type": "code",
   "execution_count": null,
   "metadata": {},
   "outputs": [],
   "source": []
  },
  {
   "cell_type": "code",
   "execution_count": null,
   "metadata": {},
   "outputs": [],
   "source": []
  },
  {
   "cell_type": "code",
   "execution_count": null,
   "metadata": {},
   "outputs": [],
   "source": []
  },
  {
   "cell_type": "code",
   "execution_count": null,
   "metadata": {},
   "outputs": [],
   "source": []
  },
  {
   "cell_type": "code",
   "execution_count": null,
   "metadata": {},
   "outputs": [],
   "source": []
  },
  {
   "cell_type": "code",
   "execution_count": null,
   "metadata": {},
   "outputs": [],
   "source": []
  },
  {
   "cell_type": "code",
   "execution_count": null,
   "metadata": {},
   "outputs": [],
   "source": []
  },
  {
   "cell_type": "code",
   "execution_count": null,
   "metadata": {},
   "outputs": [],
   "source": []
  },
  {
   "cell_type": "code",
   "execution_count": null,
   "metadata": {},
   "outputs": [],
   "source": []
  },
  {
   "cell_type": "code",
   "execution_count": null,
   "metadata": {},
   "outputs": [],
   "source": []
  },
  {
   "cell_type": "code",
   "execution_count": null,
   "metadata": {},
   "outputs": [],
   "source": []
  },
  {
   "cell_type": "code",
   "execution_count": null,
   "metadata": {},
   "outputs": [],
   "source": []
  },
  {
   "cell_type": "code",
   "execution_count": null,
   "metadata": {},
   "outputs": [],
   "source": []
  },
  {
   "cell_type": "code",
   "execution_count": null,
   "metadata": {},
   "outputs": [],
   "source": []
  },
  {
   "cell_type": "code",
   "execution_count": null,
   "metadata": {},
   "outputs": [],
   "source": []
  }
 ],
 "metadata": {
  "kernelspec": {
   "display_name": "eeg-gpu",
   "language": "python",
   "name": "eeg-gpu"
  },
  "language_info": {
   "codemirror_mode": {
    "name": "ipython",
    "version": 3
   },
   "file_extension": ".py",
   "mimetype": "text/x-python",
   "name": "python",
   "nbconvert_exporter": "python",
   "pygments_lexer": "ipython3",
   "version": "3.7.9"
  }
 },
 "nbformat": 4,
 "nbformat_minor": 4
}
