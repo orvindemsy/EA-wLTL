{
 "cells": [
  {
   "cell_type": "markdown",
   "metadata": {},
   "source": [
    "# Euclidean Alignment + Weighted TL"
   ]
  },
  {
   "cell_type": "markdown",
   "metadata": {},
   "source": [
    "## Load dataset"
   ]
  },
  {
   "cell_type": "code",
   "execution_count": 1,
   "metadata": {},
   "outputs": [],
   "source": [
    "import sys"
   ]
  },
  {
   "cell_type": "code",
   "execution_count": 2,
   "metadata": {},
   "outputs": [],
   "source": [
    "sys.path.append('D:\\Google_Drive\\JupyterNotebookProjects\\bci-research\\plan_c\\csp')"
   ]
  },
  {
   "cell_type": "code",
   "execution_count": 3,
   "metadata": {},
   "outputs": [],
   "source": [
    "import numpy as np\n",
    "import matplotlib.pyplot as plt\n",
    "import pandas as pd\n",
    "\n",
    "import moabb.datasets\n",
    "import moabb.paradigms\n",
    "\n",
    "\n",
    "from copy import deepcopy\n",
    "from csp.utils import subject_counter\n",
    "from csp.preprocess import fir_bandpass, apply_bandpass, fetch_left_right_EEG\n",
    "from csp.preprocess import split_EEG_one_class\n",
    "from csp.feat_extraction import compute_Z, feat_vector, true_label\n",
    "from csp.csp import CSP"
   ]
  },
  {
   "cell_type": "code",
   "execution_count": 4,
   "metadata": {},
   "outputs": [],
   "source": [
    "dframe = pd.DataFrame"
   ]
  },
  {
   "cell_type": "code",
   "execution_count": 5,
   "metadata": {},
   "outputs": [],
   "source": [
    "# First import the data\n",
    "\n",
    "# Number of subject, n + 1 for iteration purpose (there are 9 subjects)\n",
    "ns = 10\n",
    "\n",
    "# Creating dict to store original data and modified data\n",
    "# ori_data will serve as initial loaded data that will remain unchanged\n",
    "ori_data = dict()\n",
    "mod_data = dict() "
   ]
  },
  {
   "cell_type": "markdown",
   "metadata": {},
   "source": [
    "## Load Dataset"
   ]
  },
  {
   "cell_type": "code",
   "execution_count": 6,
   "metadata": {},
   "outputs": [],
   "source": [
    "# Iter over all data path then store them in sub0X variable\n",
    "for subj in range(1, 10):\n",
    "    data_path = '../../datasets/BCICIV2a/A{:02d}T.npz'.format(subj)\n",
    "    \n",
    "    # Load EEG data from datapath and store into subj0X variabel then store into ori_dict\n",
    "    # Then also fetch 's' (EEG data) into mod_data\n",
    "    ori_data[subj] = np.load(data_path)\n",
    "    mod_data[subj] = {}\n",
    "    mod_data[subj]['raw_EEG'] = deepcopy(ori_data[subj]['s'])\n",
    "    \n",
    "    # Remove last three EOG electrodes\n",
    "    mod_data[subj]['raw_EEG'] = np.delete(mod_data[subj]['raw_EEG'], np.s_[22:], 1)"
   ]
  },
  {
   "cell_type": "markdown",
   "metadata": {},
   "source": [
    "## Preprocessing"
   ]
  },
  {
   "cell_type": "markdown",
   "metadata": {},
   "source": [
    "### Apply Bandpass Filter"
   ]
  },
  {
   "cell_type": "code",
   "execution_count": 7,
   "metadata": {},
   "outputs": [],
   "source": [
    "from scipy.signal import firwin, freqs, lfilter"
   ]
  },
  {
   "cell_type": "code",
   "execution_count": 8,
   "metadata": {},
   "outputs": [],
   "source": [
    "# Frequency sampling at 250 Hz\n",
    "fs = 250\n",
    "\n",
    "# Applying bandpass filter 8-30 Hz to all subjects raw EEG\n",
    "b = fir_bandpass(51, low=8, high=30, fs=fs)"
   ]
  },
  {
   "cell_type": "code",
   "execution_count": 9,
   "metadata": {},
   "outputs": [],
   "source": [
    "## PREPROCESSING ##\n",
    "\n",
    "# Frequency sampling at 250 Hz\n",
    "fs = 250\n",
    "\n",
    "# Applying bandpass filter 8-30 Hz to all subjects raw EEG\n",
    "b = fir_bandpass(51, low=8, high=30, fs=fs)\n",
    "\n",
    "# Key to store result\n",
    "EEG_filtered = 'EEG_filtered'\n",
    "\n",
    "for subj in mod_data.keys():\n",
    "    temp_raw_EEG = mod_data[subj]['raw_EEG']\n",
    "    \n",
    "    mod_data[subj][EEG_filtered] = apply_bandpass(temp_raw_EEG, b)"
   ]
  },
  {
   "cell_type": "markdown",
   "metadata": {},
   "source": [
    "### Fetch Left and Right Class"
   ]
  },
  {
   "cell_type": "code",
   "execution_count": 10,
   "metadata": {},
   "outputs": [
    {
     "data": {
      "text/plain": [
       "dict_keys([1, 2, 3, 4, 5, 6, 7, 8, 9])"
      ]
     },
     "execution_count": 10,
     "metadata": {},
     "output_type": "execute_result"
    }
   ],
   "source": [
    "mod_data.keys()"
   ]
  },
  {
   "cell_type": "code",
   "execution_count": 11,
   "metadata": {},
   "outputs": [
    {
     "data": {
      "text/plain": [
       "dict_keys(['raw_EEG', 'EEG_filtered'])"
      ]
     },
     "execution_count": 11,
     "metadata": {},
     "output_type": "execute_result"
    }
   ],
   "source": [
    "mod_data[1].keys()"
   ]
  },
  {
   "cell_type": "code",
   "execution_count": 12,
   "metadata": {},
   "outputs": [
    {
     "name": "stdout",
     "output_type": "stream",
     "text": [
      "Processing for  1\n",
      "Processing for  2\n",
      "Processing for  3\n",
      "Processing for  4\n",
      "Processing for  5\n",
      "Processing for  6\n",
      "Processing for  7\n",
      "Processing for  8\n",
      "Processing for  9\n",
      "\t\tLeft \t\t Right\n",
      "subject01:\t(72, 22, 750)\t(72, 22, 750)\n",
      "subject02:\t(72, 22, 750)\t(72, 22, 750)\n",
      "subject03:\t(72, 22, 750)\t(72, 22, 750)\n",
      "subject04:\t(72, 22, 750)\t(72, 22, 750)\n",
      "subject05:\t(72, 22, 750)\t(72, 22, 750)\n",
      "subject06:\t(72, 22, 750)\t(72, 22, 750)\n",
      "subject07:\t(72, 22, 750)\t(72, 22, 750)\n",
      "subject08:\t(72, 22, 750)\t(72, 22, 750)\n",
      "subject09:\t(72, 22, 750)\t(72, 22, 750)\n"
     ]
    }
   ],
   "source": [
    "## Only fetch left and right class\n",
    "mod_data = fetch_left_right_EEG(mod_data, ori_data=ori_data)\n",
    "    \n",
    "# Checking current size of EEG left and right data\n",
    "print('\\t\\tLeft \\t\\t Right')\n",
    "\n",
    "for subj in mod_data.keys():\n",
    "    \n",
    "    temp = mod_data[subj]\n",
    "    print('subject{:02d}:\\t{}\\t{}'.format(subj, temp['EEG_left'].shape, temp['EEG_right'].shape)) "
   ]
  },
  {
   "cell_type": "markdown",
   "metadata": {},
   "source": [
    "## Apply Data Alignment on raw EEG"
   ]
  },
  {
   "cell_type": "code",
   "execution_count": 40,
   "metadata": {},
   "outputs": [],
   "source": [
    "# Import necessary library\n",
    "from scipy.linalg import sqrtm, inv \n",
    "\n",
    "def apply_EA(data, key_list):\n",
    "    '''\n",
    "    Apply Euclidean aligment on array-like objects for 1 subject\n",
    "    \n",
    "    PARAMETER:\n",
    "    data:\n",
    "    dictionary data of one subject.\n",
    "    dictionary containing left and right EEG data of each subject\n",
    "    \n",
    "    key_list:\n",
    "    keys inside dict in which data that is about to be aligned are stored\n",
    "    \n",
    "    OUTPUT:\n",
    "    dictionary data with aligned version of key_list\n",
    "    '''\n",
    "    \n",
    "    # Concatenate left and right class\n",
    "    left_key = [key for key in key_list if 'left' in key]\n",
    "    right_key = [key for key in key_list if 'right' in key]\n",
    "    \n",
    "    left_trial = data[left_key[0]]\n",
    "    right_trial = data[right_key[0]]\n",
    "    \n",
    "    # Concate both left and right trial\n",
    "    all_trials = np.concatenate([left_trial, right_trial], axis=0)\n",
    "\n",
    "    # Calculate reference matrix\n",
    "    RefEA = 0\n",
    "\n",
    "    # Iterate over all trials, compute reference EA\n",
    "    for trial in all_trials:\n",
    "        cov = np.cov(trial, rowvar=True)\n",
    "        RefEA += cov\n",
    "\n",
    "    # Average over all trials\n",
    "    RefEA = RefEA/all_trials.shape[0]\n",
    "\n",
    "    # Add to data\n",
    "    data['RefEA'] = RefEA \n",
    "    \n",
    "    # Compute R^(-0.5)\n",
    "    R_inv = sqrtm(inv(RefEA))\n",
    "\n",
    "    # Perform alignment on each trial\n",
    "    X_EA_left = []\n",
    "    X_EA_right = []\n",
    "    \n",
    "    for left, right in zip(left_trial, right_trial):\n",
    "        X_EA_left.append(R_inv@left)\n",
    "        X_EA_right.append(R_inv@right)\n",
    "\n",
    "    # Store as left_EA and right_EA\n",
    "    print('Adding EA_left and EA_right key ')\n",
    "    data['EEG_left_EA'] = np.array(X_EA_left)\n",
    "    data['EEG_right_EA'] = np.array(X_EA_right)"
   ]
  },
  {
   "cell_type": "code",
   "execution_count": 41,
   "metadata": {},
   "outputs": [
    {
     "name": "stdout",
     "output_type": "stream",
     "text": [
      "Processing subject  1\n",
      "Adding EA_left and EA_right key \n",
      "\n",
      "Processing subject  2\n",
      "Adding EA_left and EA_right key \n",
      "\n",
      "Processing subject  3\n",
      "Adding EA_left and EA_right key \n",
      "\n",
      "Processing subject  4\n",
      "Adding EA_left and EA_right key \n",
      "\n",
      "Processing subject  5\n",
      "Adding EA_left and EA_right key \n",
      "\n",
      "Processing subject  6\n",
      "Adding EA_left and EA_right key \n",
      "\n",
      "Processing subject  7\n",
      "Adding EA_left and EA_right key \n",
      "\n",
      "Processing subject  8\n",
      "Adding EA_left and EA_right key \n",
      "\n",
      "Processing subject  9\n",
      "Adding EA_left and EA_right key \n",
      "\n"
     ]
    }
   ],
   "source": [
    "# Iterate over all subjects to compute the aligned EEG trials\n",
    "# Define keys to be processed\n",
    "process_key = ['EEG_left', 'EEG_right']\n",
    "\n",
    "for subj in mod_data.keys():\n",
    "    print('Processing subject ', subj)\n",
    "    apply_EA(mod_data[subj], process_key)\n",
    "    print('')"
   ]
  },
  {
   "cell_type": "code",
   "execution_count": 42,
   "metadata": {},
   "outputs": [
    {
     "data": {
      "text/html": [
       "<div>\n",
       "<style scoped>\n",
       "    .dataframe tbody tr th:only-of-type {\n",
       "        vertical-align: middle;\n",
       "    }\n",
       "\n",
       "    .dataframe tbody tr th {\n",
       "        vertical-align: top;\n",
       "    }\n",
       "\n",
       "    .dataframe thead th {\n",
       "        text-align: right;\n",
       "    }\n",
       "</style>\n",
       "<table border=\"1\" class=\"dataframe\">\n",
       "  <thead>\n",
       "    <tr style=\"text-align: right;\">\n",
       "      <th></th>\n",
       "      <th>0</th>\n",
       "      <th>1</th>\n",
       "      <th>2</th>\n",
       "      <th>3</th>\n",
       "      <th>4</th>\n",
       "      <th>5</th>\n",
       "      <th>6</th>\n",
       "      <th>7</th>\n",
       "      <th>8</th>\n",
       "      <th>9</th>\n",
       "      <th>...</th>\n",
       "      <th>12</th>\n",
       "      <th>13</th>\n",
       "      <th>14</th>\n",
       "      <th>15</th>\n",
       "      <th>16</th>\n",
       "      <th>17</th>\n",
       "      <th>18</th>\n",
       "      <th>19</th>\n",
       "      <th>20</th>\n",
       "      <th>21</th>\n",
       "    </tr>\n",
       "  </thead>\n",
       "  <tbody>\n",
       "    <tr>\n",
       "      <th>0</th>\n",
       "      <td>25.650872</td>\n",
       "      <td>23.801770</td>\n",
       "      <td>25.398874</td>\n",
       "      <td>25.969270</td>\n",
       "      <td>25.502569</td>\n",
       "      <td>24.422906</td>\n",
       "      <td>19.415399</td>\n",
       "      <td>22.233508</td>\n",
       "      <td>24.068148</td>\n",
       "      <td>24.978227</td>\n",
       "      <td>...</td>\n",
       "      <td>21.427256</td>\n",
       "      <td>20.954147</td>\n",
       "      <td>22.368313</td>\n",
       "      <td>22.995651</td>\n",
       "      <td>22.929910</td>\n",
       "      <td>22.174650</td>\n",
       "      <td>20.525057</td>\n",
       "      <td>21.372880</td>\n",
       "      <td>21.020488</td>\n",
       "      <td>19.286099</td>\n",
       "    </tr>\n",
       "    <tr>\n",
       "      <th>1</th>\n",
       "      <td>23.801770</td>\n",
       "      <td>27.150986</td>\n",
       "      <td>26.371489</td>\n",
       "      <td>25.228500</td>\n",
       "      <td>23.802053</td>\n",
       "      <td>22.853112</td>\n",
       "      <td>22.410394</td>\n",
       "      <td>26.478632</td>\n",
       "      <td>26.046298</td>\n",
       "      <td>25.150637</td>\n",
       "      <td>...</td>\n",
       "      <td>20.105167</td>\n",
       "      <td>24.662392</td>\n",
       "      <td>24.560350</td>\n",
       "      <td>23.922925</td>\n",
       "      <td>23.004374</td>\n",
       "      <td>21.853748</td>\n",
       "      <td>22.627830</td>\n",
       "      <td>22.651384</td>\n",
       "      <td>21.776484</td>\n",
       "      <td>20.669979</td>\n",
       "    </tr>\n",
       "    <tr>\n",
       "      <th>2</th>\n",
       "      <td>25.398874</td>\n",
       "      <td>26.371489</td>\n",
       "      <td>27.433290</td>\n",
       "      <td>26.801438</td>\n",
       "      <td>25.802470</td>\n",
       "      <td>24.355214</td>\n",
       "      <td>21.774037</td>\n",
       "      <td>25.934938</td>\n",
       "      <td>26.985381</td>\n",
       "      <td>26.826847</td>\n",
       "      <td>...</td>\n",
       "      <td>21.532928</td>\n",
       "      <td>24.657343</td>\n",
       "      <td>25.605606</td>\n",
       "      <td>25.475202</td>\n",
       "      <td>24.800236</td>\n",
       "      <td>23.546719</td>\n",
       "      <td>23.584205</td>\n",
       "      <td>24.065762</td>\n",
       "      <td>23.291589</td>\n",
       "      <td>21.773354</td>\n",
       "    </tr>\n",
       "    <tr>\n",
       "      <th>3</th>\n",
       "      <td>25.969270</td>\n",
       "      <td>25.228500</td>\n",
       "      <td>26.801438</td>\n",
       "      <td>27.659533</td>\n",
       "      <td>26.845201</td>\n",
       "      <td>25.791479</td>\n",
       "      <td>20.371825</td>\n",
       "      <td>24.371657</td>\n",
       "      <td>26.244570</td>\n",
       "      <td>27.521350</td>\n",
       "      <td>...</td>\n",
       "      <td>22.458781</td>\n",
       "      <td>23.524072</td>\n",
       "      <td>24.970348</td>\n",
       "      <td>25.987195</td>\n",
       "      <td>25.584203</td>\n",
       "      <td>24.493158</td>\n",
       "      <td>23.287790</td>\n",
       "      <td>24.273317</td>\n",
       "      <td>23.791855</td>\n",
       "      <td>21.863690</td>\n",
       "    </tr>\n",
       "    <tr>\n",
       "      <th>4</th>\n",
       "      <td>25.502569</td>\n",
       "      <td>23.802053</td>\n",
       "      <td>25.802470</td>\n",
       "      <td>26.845201</td>\n",
       "      <td>27.173689</td>\n",
       "      <td>26.567991</td>\n",
       "      <td>19.680616</td>\n",
       "      <td>23.040357</td>\n",
       "      <td>25.509831</td>\n",
       "      <td>27.048137</td>\n",
       "      <td>...</td>\n",
       "      <td>23.987477</td>\n",
       "      <td>22.726972</td>\n",
       "      <td>24.718662</td>\n",
       "      <td>26.050557</td>\n",
       "      <td>26.392743</td>\n",
       "      <td>25.843799</td>\n",
       "      <td>23.431771</td>\n",
       "      <td>24.796053</td>\n",
       "      <td>24.798946</td>\n",
       "      <td>22.553711</td>\n",
       "    </tr>\n",
       "    <tr>\n",
       "      <th>5</th>\n",
       "      <td>24.422906</td>\n",
       "      <td>22.853112</td>\n",
       "      <td>24.355214</td>\n",
       "      <td>25.791479</td>\n",
       "      <td>26.567991</td>\n",
       "      <td>27.610340</td>\n",
       "      <td>18.892039</td>\n",
       "      <td>22.009959</td>\n",
       "      <td>24.089112</td>\n",
       "      <td>26.005228</td>\n",
       "      <td>...</td>\n",
       "      <td>25.190896</td>\n",
       "      <td>21.831232</td>\n",
       "      <td>23.522433</td>\n",
       "      <td>25.314428</td>\n",
       "      <td>26.187733</td>\n",
       "      <td>26.387183</td>\n",
       "      <td>22.746103</td>\n",
       "      <td>24.292881</td>\n",
       "      <td>24.810188</td>\n",
       "      <td>22.382268</td>\n",
       "    </tr>\n",
       "    <tr>\n",
       "      <th>6</th>\n",
       "      <td>19.415399</td>\n",
       "      <td>22.410394</td>\n",
       "      <td>21.774037</td>\n",
       "      <td>20.371825</td>\n",
       "      <td>19.680616</td>\n",
       "      <td>18.892039</td>\n",
       "      <td>23.258347</td>\n",
       "      <td>24.073195</td>\n",
       "      <td>22.937882</td>\n",
       "      <td>21.233750</td>\n",
       "      <td>...</td>\n",
       "      <td>17.943893</td>\n",
       "      <td>23.587079</td>\n",
       "      <td>22.777436</td>\n",
       "      <td>21.359103</td>\n",
       "      <td>20.498379</td>\n",
       "      <td>19.568472</td>\n",
       "      <td>21.765392</td>\n",
       "      <td>21.251735</td>\n",
       "      <td>20.315664</td>\n",
       "      <td>20.068136</td>\n",
       "    </tr>\n",
       "    <tr>\n",
       "      <th>7</th>\n",
       "      <td>22.233508</td>\n",
       "      <td>26.478632</td>\n",
       "      <td>25.934938</td>\n",
       "      <td>24.371657</td>\n",
       "      <td>23.040357</td>\n",
       "      <td>22.009959</td>\n",
       "      <td>24.073195</td>\n",
       "      <td>29.212638</td>\n",
       "      <td>27.883544</td>\n",
       "      <td>25.958381</td>\n",
       "      <td>...</td>\n",
       "      <td>20.155267</td>\n",
       "      <td>28.691638</td>\n",
       "      <td>27.828163</td>\n",
       "      <td>26.361353</td>\n",
       "      <td>24.919333</td>\n",
       "      <td>23.444717</td>\n",
       "      <td>26.449487</td>\n",
       "      <td>25.959270</td>\n",
       "      <td>24.698896</td>\n",
       "      <td>24.087153</td>\n",
       "    </tr>\n",
       "    <tr>\n",
       "      <th>8</th>\n",
       "      <td>24.068148</td>\n",
       "      <td>26.046298</td>\n",
       "      <td>26.985381</td>\n",
       "      <td>26.244570</td>\n",
       "      <td>25.509831</td>\n",
       "      <td>24.089112</td>\n",
       "      <td>22.937882</td>\n",
       "      <td>27.883544</td>\n",
       "      <td>28.815175</td>\n",
       "      <td>28.195631</td>\n",
       "      <td>...</td>\n",
       "      <td>22.245355</td>\n",
       "      <td>28.146128</td>\n",
       "      <td>29.003899</td>\n",
       "      <td>28.720509</td>\n",
       "      <td>27.612704</td>\n",
       "      <td>25.985761</td>\n",
       "      <td>27.805455</td>\n",
       "      <td>28.188471</td>\n",
       "      <td>27.140014</td>\n",
       "      <td>25.935444</td>\n",
       "    </tr>\n",
       "    <tr>\n",
       "      <th>9</th>\n",
       "      <td>24.978227</td>\n",
       "      <td>25.150637</td>\n",
       "      <td>26.826847</td>\n",
       "      <td>27.521350</td>\n",
       "      <td>27.048137</td>\n",
       "      <td>26.005228</td>\n",
       "      <td>21.233750</td>\n",
       "      <td>25.958381</td>\n",
       "      <td>28.195631</td>\n",
       "      <td>29.700272</td>\n",
       "      <td>...</td>\n",
       "      <td>23.816806</td>\n",
       "      <td>26.644129</td>\n",
       "      <td>28.570753</td>\n",
       "      <td>30.095586</td>\n",
       "      <td>29.350508</td>\n",
       "      <td>27.849800</td>\n",
       "      <td>27.782214</td>\n",
       "      <td>29.099506</td>\n",
       "      <td>28.483307</td>\n",
       "      <td>26.528539</td>\n",
       "    </tr>\n",
       "    <tr>\n",
       "      <th>10</th>\n",
       "      <td>24.410874</td>\n",
       "      <td>23.564027</td>\n",
       "      <td>25.596681</td>\n",
       "      <td>26.481037</td>\n",
       "      <td>27.158465</td>\n",
       "      <td>26.723192</td>\n",
       "      <td>20.269741</td>\n",
       "      <td>24.186266</td>\n",
       "      <td>26.937765</td>\n",
       "      <td>28.635363</td>\n",
       "      <td>...</td>\n",
       "      <td>25.897860</td>\n",
       "      <td>25.289907</td>\n",
       "      <td>27.736995</td>\n",
       "      <td>29.699320</td>\n",
       "      <td>30.229749</td>\n",
       "      <td>29.756871</td>\n",
       "      <td>27.590473</td>\n",
       "      <td>29.442814</td>\n",
       "      <td>29.760399</td>\n",
       "      <td>27.336146</td>\n",
       "    </tr>\n",
       "    <tr>\n",
       "      <th>11</th>\n",
       "      <td>23.161644</td>\n",
       "      <td>22.223726</td>\n",
       "      <td>23.800894</td>\n",
       "      <td>25.096437</td>\n",
       "      <td>26.225355</td>\n",
       "      <td>27.109909</td>\n",
       "      <td>19.129697</td>\n",
       "      <td>22.644265</td>\n",
       "      <td>24.933275</td>\n",
       "      <td>26.982910</td>\n",
       "      <td>...</td>\n",
       "      <td>27.480457</td>\n",
       "      <td>23.713362</td>\n",
       "      <td>25.751683</td>\n",
       "      <td>28.160053</td>\n",
       "      <td>29.631228</td>\n",
       "      <td>30.411783</td>\n",
       "      <td>26.090321</td>\n",
       "      <td>28.180414</td>\n",
       "      <td>29.343867</td>\n",
       "      <td>26.562896</td>\n",
       "    </tr>\n",
       "    <tr>\n",
       "      <th>12</th>\n",
       "      <td>21.427256</td>\n",
       "      <td>20.105167</td>\n",
       "      <td>21.532928</td>\n",
       "      <td>22.458781</td>\n",
       "      <td>23.987477</td>\n",
       "      <td>25.190896</td>\n",
       "      <td>17.943893</td>\n",
       "      <td>20.155267</td>\n",
       "      <td>22.245355</td>\n",
       "      <td>23.816806</td>\n",
       "      <td>...</td>\n",
       "      <td>28.009434</td>\n",
       "      <td>20.912863</td>\n",
       "      <td>22.833746</td>\n",
       "      <td>24.787765</td>\n",
       "      <td>26.700935</td>\n",
       "      <td>28.143748</td>\n",
       "      <td>23.144021</td>\n",
       "      <td>25.099392</td>\n",
       "      <td>26.550945</td>\n",
       "      <td>23.971835</td>\n",
       "    </tr>\n",
       "    <tr>\n",
       "      <th>13</th>\n",
       "      <td>20.954147</td>\n",
       "      <td>24.662392</td>\n",
       "      <td>24.657343</td>\n",
       "      <td>23.524072</td>\n",
       "      <td>22.726972</td>\n",
       "      <td>21.831232</td>\n",
       "      <td>23.587079</td>\n",
       "      <td>28.691638</td>\n",
       "      <td>28.146128</td>\n",
       "      <td>26.644129</td>\n",
       "      <td>...</td>\n",
       "      <td>20.912863</td>\n",
       "      <td>30.719867</td>\n",
       "      <td>30.140267</td>\n",
       "      <td>29.087249</td>\n",
       "      <td>27.523199</td>\n",
       "      <td>25.838365</td>\n",
       "      <td>30.610476</td>\n",
       "      <td>30.103127</td>\n",
       "      <td>28.752929</td>\n",
       "      <td>28.904435</td>\n",
       "    </tr>\n",
       "    <tr>\n",
       "      <th>14</th>\n",
       "      <td>22.368313</td>\n",
       "      <td>24.560350</td>\n",
       "      <td>25.605606</td>\n",
       "      <td>24.970348</td>\n",
       "      <td>24.718662</td>\n",
       "      <td>23.522433</td>\n",
       "      <td>22.777436</td>\n",
       "      <td>27.828163</td>\n",
       "      <td>29.003899</td>\n",
       "      <td>28.570753</td>\n",
       "      <td>...</td>\n",
       "      <td>22.833746</td>\n",
       "      <td>30.140267</td>\n",
       "      <td>31.350553</td>\n",
       "      <td>31.443664</td>\n",
       "      <td>30.131332</td>\n",
       "      <td>28.268248</td>\n",
       "      <td>31.846812</td>\n",
       "      <td>32.362798</td>\n",
       "      <td>31.209846</td>\n",
       "      <td>30.616481</td>\n",
       "    </tr>\n",
       "    <tr>\n",
       "      <th>15</th>\n",
       "      <td>22.995651</td>\n",
       "      <td>23.922925</td>\n",
       "      <td>25.475202</td>\n",
       "      <td>25.987195</td>\n",
       "      <td>26.050557</td>\n",
       "      <td>25.314428</td>\n",
       "      <td>21.359103</td>\n",
       "      <td>26.361353</td>\n",
       "      <td>28.720509</td>\n",
       "      <td>30.095586</td>\n",
       "      <td>...</td>\n",
       "      <td>24.787765</td>\n",
       "      <td>29.087249</td>\n",
       "      <td>31.443664</td>\n",
       "      <td>33.640593</td>\n",
       "      <td>32.676285</td>\n",
       "      <td>30.962528</td>\n",
       "      <td>32.645926</td>\n",
       "      <td>34.351470</td>\n",
       "      <td>33.748746</td>\n",
       "      <td>32.280344</td>\n",
       "    </tr>\n",
       "    <tr>\n",
       "      <th>16</th>\n",
       "      <td>22.929910</td>\n",
       "      <td>23.004374</td>\n",
       "      <td>24.800236</td>\n",
       "      <td>25.584203</td>\n",
       "      <td>26.392743</td>\n",
       "      <td>26.187733</td>\n",
       "      <td>20.498379</td>\n",
       "      <td>24.919333</td>\n",
       "      <td>27.612704</td>\n",
       "      <td>29.350508</td>\n",
       "      <td>...</td>\n",
       "      <td>26.700935</td>\n",
       "      <td>27.523199</td>\n",
       "      <td>30.131332</td>\n",
       "      <td>32.676285</td>\n",
       "      <td>33.208447</td>\n",
       "      <td>32.630264</td>\n",
       "      <td>31.572501</td>\n",
       "      <td>33.785209</td>\n",
       "      <td>34.358559</td>\n",
       "      <td>32.200463</td>\n",
       "    </tr>\n",
       "    <tr>\n",
       "      <th>17</th>\n",
       "      <td>22.174650</td>\n",
       "      <td>21.853748</td>\n",
       "      <td>23.546719</td>\n",
       "      <td>24.493158</td>\n",
       "      <td>25.843799</td>\n",
       "      <td>26.387183</td>\n",
       "      <td>19.568472</td>\n",
       "      <td>23.444717</td>\n",
       "      <td>25.985761</td>\n",
       "      <td>27.849800</td>\n",
       "      <td>...</td>\n",
       "      <td>28.143748</td>\n",
       "      <td>25.838365</td>\n",
       "      <td>28.268248</td>\n",
       "      <td>30.962528</td>\n",
       "      <td>32.630264</td>\n",
       "      <td>33.453260</td>\n",
       "      <td>29.856524</td>\n",
       "      <td>32.333902</td>\n",
       "      <td>33.932452</td>\n",
       "      <td>31.238636</td>\n",
       "    </tr>\n",
       "    <tr>\n",
       "      <th>18</th>\n",
       "      <td>20.525057</td>\n",
       "      <td>22.627830</td>\n",
       "      <td>23.584205</td>\n",
       "      <td>23.287790</td>\n",
       "      <td>23.431771</td>\n",
       "      <td>22.746103</td>\n",
       "      <td>21.765392</td>\n",
       "      <td>26.449487</td>\n",
       "      <td>27.805455</td>\n",
       "      <td>27.782214</td>\n",
       "      <td>...</td>\n",
       "      <td>23.144021</td>\n",
       "      <td>30.610476</td>\n",
       "      <td>31.846812</td>\n",
       "      <td>32.645926</td>\n",
       "      <td>31.572501</td>\n",
       "      <td>29.856524</td>\n",
       "      <td>35.272526</td>\n",
       "      <td>35.679673</td>\n",
       "      <td>34.802938</td>\n",
       "      <td>35.756329</td>\n",
       "    </tr>\n",
       "    <tr>\n",
       "      <th>19</th>\n",
       "      <td>21.372880</td>\n",
       "      <td>22.651384</td>\n",
       "      <td>24.065762</td>\n",
       "      <td>24.273317</td>\n",
       "      <td>24.796053</td>\n",
       "      <td>24.292881</td>\n",
       "      <td>21.251735</td>\n",
       "      <td>25.959270</td>\n",
       "      <td>28.188471</td>\n",
       "      <td>29.099506</td>\n",
       "      <td>...</td>\n",
       "      <td>25.099392</td>\n",
       "      <td>30.103127</td>\n",
       "      <td>32.362798</td>\n",
       "      <td>34.351470</td>\n",
       "      <td>33.785209</td>\n",
       "      <td>32.333902</td>\n",
       "      <td>35.679673</td>\n",
       "      <td>37.359102</td>\n",
       "      <td>37.054059</td>\n",
       "      <td>37.028614</td>\n",
       "    </tr>\n",
       "    <tr>\n",
       "      <th>20</th>\n",
       "      <td>21.020488</td>\n",
       "      <td>21.776484</td>\n",
       "      <td>23.291589</td>\n",
       "      <td>23.791855</td>\n",
       "      <td>24.798946</td>\n",
       "      <td>24.810188</td>\n",
       "      <td>20.315664</td>\n",
       "      <td>24.698896</td>\n",
       "      <td>27.140014</td>\n",
       "      <td>28.483307</td>\n",
       "      <td>...</td>\n",
       "      <td>26.550945</td>\n",
       "      <td>28.752929</td>\n",
       "      <td>31.209846</td>\n",
       "      <td>33.748746</td>\n",
       "      <td>34.358559</td>\n",
       "      <td>33.932452</td>\n",
       "      <td>34.802938</td>\n",
       "      <td>37.054059</td>\n",
       "      <td>38.127187</td>\n",
       "      <td>37.357648</td>\n",
       "    </tr>\n",
       "    <tr>\n",
       "      <th>21</th>\n",
       "      <td>19.286099</td>\n",
       "      <td>20.669979</td>\n",
       "      <td>21.773354</td>\n",
       "      <td>21.863690</td>\n",
       "      <td>22.553711</td>\n",
       "      <td>22.382268</td>\n",
       "      <td>20.068136</td>\n",
       "      <td>24.087153</td>\n",
       "      <td>25.935444</td>\n",
       "      <td>26.528539</td>\n",
       "      <td>...</td>\n",
       "      <td>23.971835</td>\n",
       "      <td>28.904435</td>\n",
       "      <td>30.616481</td>\n",
       "      <td>32.280344</td>\n",
       "      <td>32.200463</td>\n",
       "      <td>31.238636</td>\n",
       "      <td>35.756329</td>\n",
       "      <td>37.028614</td>\n",
       "      <td>37.357648</td>\n",
       "      <td>39.673266</td>\n",
       "    </tr>\n",
       "  </tbody>\n",
       "</table>\n",
       "<p>22 rows × 22 columns</p>\n",
       "</div>"
      ],
      "text/plain": [
       "           0          1          2          3          4          5   \\\n",
       "0   25.650872  23.801770  25.398874  25.969270  25.502569  24.422906   \n",
       "1   23.801770  27.150986  26.371489  25.228500  23.802053  22.853112   \n",
       "2   25.398874  26.371489  27.433290  26.801438  25.802470  24.355214   \n",
       "3   25.969270  25.228500  26.801438  27.659533  26.845201  25.791479   \n",
       "4   25.502569  23.802053  25.802470  26.845201  27.173689  26.567991   \n",
       "5   24.422906  22.853112  24.355214  25.791479  26.567991  27.610340   \n",
       "6   19.415399  22.410394  21.774037  20.371825  19.680616  18.892039   \n",
       "7   22.233508  26.478632  25.934938  24.371657  23.040357  22.009959   \n",
       "8   24.068148  26.046298  26.985381  26.244570  25.509831  24.089112   \n",
       "9   24.978227  25.150637  26.826847  27.521350  27.048137  26.005228   \n",
       "10  24.410874  23.564027  25.596681  26.481037  27.158465  26.723192   \n",
       "11  23.161644  22.223726  23.800894  25.096437  26.225355  27.109909   \n",
       "12  21.427256  20.105167  21.532928  22.458781  23.987477  25.190896   \n",
       "13  20.954147  24.662392  24.657343  23.524072  22.726972  21.831232   \n",
       "14  22.368313  24.560350  25.605606  24.970348  24.718662  23.522433   \n",
       "15  22.995651  23.922925  25.475202  25.987195  26.050557  25.314428   \n",
       "16  22.929910  23.004374  24.800236  25.584203  26.392743  26.187733   \n",
       "17  22.174650  21.853748  23.546719  24.493158  25.843799  26.387183   \n",
       "18  20.525057  22.627830  23.584205  23.287790  23.431771  22.746103   \n",
       "19  21.372880  22.651384  24.065762  24.273317  24.796053  24.292881   \n",
       "20  21.020488  21.776484  23.291589  23.791855  24.798946  24.810188   \n",
       "21  19.286099  20.669979  21.773354  21.863690  22.553711  22.382268   \n",
       "\n",
       "           6          7          8          9   ...         12         13  \\\n",
       "0   19.415399  22.233508  24.068148  24.978227  ...  21.427256  20.954147   \n",
       "1   22.410394  26.478632  26.046298  25.150637  ...  20.105167  24.662392   \n",
       "2   21.774037  25.934938  26.985381  26.826847  ...  21.532928  24.657343   \n",
       "3   20.371825  24.371657  26.244570  27.521350  ...  22.458781  23.524072   \n",
       "4   19.680616  23.040357  25.509831  27.048137  ...  23.987477  22.726972   \n",
       "5   18.892039  22.009959  24.089112  26.005228  ...  25.190896  21.831232   \n",
       "6   23.258347  24.073195  22.937882  21.233750  ...  17.943893  23.587079   \n",
       "7   24.073195  29.212638  27.883544  25.958381  ...  20.155267  28.691638   \n",
       "8   22.937882  27.883544  28.815175  28.195631  ...  22.245355  28.146128   \n",
       "9   21.233750  25.958381  28.195631  29.700272  ...  23.816806  26.644129   \n",
       "10  20.269741  24.186266  26.937765  28.635363  ...  25.897860  25.289907   \n",
       "11  19.129697  22.644265  24.933275  26.982910  ...  27.480457  23.713362   \n",
       "12  17.943893  20.155267  22.245355  23.816806  ...  28.009434  20.912863   \n",
       "13  23.587079  28.691638  28.146128  26.644129  ...  20.912863  30.719867   \n",
       "14  22.777436  27.828163  29.003899  28.570753  ...  22.833746  30.140267   \n",
       "15  21.359103  26.361353  28.720509  30.095586  ...  24.787765  29.087249   \n",
       "16  20.498379  24.919333  27.612704  29.350508  ...  26.700935  27.523199   \n",
       "17  19.568472  23.444717  25.985761  27.849800  ...  28.143748  25.838365   \n",
       "18  21.765392  26.449487  27.805455  27.782214  ...  23.144021  30.610476   \n",
       "19  21.251735  25.959270  28.188471  29.099506  ...  25.099392  30.103127   \n",
       "20  20.315664  24.698896  27.140014  28.483307  ...  26.550945  28.752929   \n",
       "21  20.068136  24.087153  25.935444  26.528539  ...  23.971835  28.904435   \n",
       "\n",
       "           14         15         16         17         18         19  \\\n",
       "0   22.368313  22.995651  22.929910  22.174650  20.525057  21.372880   \n",
       "1   24.560350  23.922925  23.004374  21.853748  22.627830  22.651384   \n",
       "2   25.605606  25.475202  24.800236  23.546719  23.584205  24.065762   \n",
       "3   24.970348  25.987195  25.584203  24.493158  23.287790  24.273317   \n",
       "4   24.718662  26.050557  26.392743  25.843799  23.431771  24.796053   \n",
       "5   23.522433  25.314428  26.187733  26.387183  22.746103  24.292881   \n",
       "6   22.777436  21.359103  20.498379  19.568472  21.765392  21.251735   \n",
       "7   27.828163  26.361353  24.919333  23.444717  26.449487  25.959270   \n",
       "8   29.003899  28.720509  27.612704  25.985761  27.805455  28.188471   \n",
       "9   28.570753  30.095586  29.350508  27.849800  27.782214  29.099506   \n",
       "10  27.736995  29.699320  30.229749  29.756871  27.590473  29.442814   \n",
       "11  25.751683  28.160053  29.631228  30.411783  26.090321  28.180414   \n",
       "12  22.833746  24.787765  26.700935  28.143748  23.144021  25.099392   \n",
       "13  30.140267  29.087249  27.523199  25.838365  30.610476  30.103127   \n",
       "14  31.350553  31.443664  30.131332  28.268248  31.846812  32.362798   \n",
       "15  31.443664  33.640593  32.676285  30.962528  32.645926  34.351470   \n",
       "16  30.131332  32.676285  33.208447  32.630264  31.572501  33.785209   \n",
       "17  28.268248  30.962528  32.630264  33.453260  29.856524  32.333902   \n",
       "18  31.846812  32.645926  31.572501  29.856524  35.272526  35.679673   \n",
       "19  32.362798  34.351470  33.785209  32.333902  35.679673  37.359102   \n",
       "20  31.209846  33.748746  34.358559  33.932452  34.802938  37.054059   \n",
       "21  30.616481  32.280344  32.200463  31.238636  35.756329  37.028614   \n",
       "\n",
       "           20         21  \n",
       "0   21.020488  19.286099  \n",
       "1   21.776484  20.669979  \n",
       "2   23.291589  21.773354  \n",
       "3   23.791855  21.863690  \n",
       "4   24.798946  22.553711  \n",
       "5   24.810188  22.382268  \n",
       "6   20.315664  20.068136  \n",
       "7   24.698896  24.087153  \n",
       "8   27.140014  25.935444  \n",
       "9   28.483307  26.528539  \n",
       "10  29.760399  27.336146  \n",
       "11  29.343867  26.562896  \n",
       "12  26.550945  23.971835  \n",
       "13  28.752929  28.904435  \n",
       "14  31.209846  30.616481  \n",
       "15  33.748746  32.280344  \n",
       "16  34.358559  32.200463  \n",
       "17  33.932452  31.238636  \n",
       "18  34.802938  35.756329  \n",
       "19  37.054059  37.028614  \n",
       "20  38.127187  37.357648  \n",
       "21  37.357648  39.673266  \n",
       "\n",
       "[22 rows x 22 columns]"
      ]
     },
     "execution_count": 42,
     "metadata": {},
     "output_type": "execute_result"
    }
   ],
   "source": [
    "dframe(mod_data[3]['RefEA'])"
   ]
  },
  {
   "cell_type": "code",
   "execution_count": null,
   "metadata": {},
   "outputs": [],
   "source": []
  },
  {
   "cell_type": "code",
   "execution_count": null,
   "metadata": {},
   "outputs": [],
   "source": []
  },
  {
   "cell_type": "code",
   "execution_count": 43,
   "metadata": {},
   "outputs": [],
   "source": [
    "left_alg = mod_data[2]['EEG_left_EA']"
   ]
  },
  {
   "cell_type": "code",
   "execution_count": 44,
   "metadata": {},
   "outputs": [
    {
     "data": {
      "text/plain": [
       "(72, 22, 750)"
      ]
     },
     "execution_count": 44,
     "metadata": {},
     "output_type": "execute_result"
    }
   ],
   "source": [
    "left_alg.shape"
   ]
  },
  {
   "cell_type": "code",
   "execution_count": 45,
   "metadata": {},
   "outputs": [],
   "source": [
    "summ = 0\n",
    "for tr in left_alg:\n",
    "    summ += np.cov(tr, rowvar=True)\n",
    "    \n",
    "I = summ/left_alg.shape[0]\n",
    "I = pd.DataFrame(np.round(I))"
   ]
  },
  {
   "cell_type": "code",
   "execution_count": 46,
   "metadata": {},
   "outputs": [
    {
     "data": {
      "text/html": [
       "<div>\n",
       "<style scoped>\n",
       "    .dataframe tbody tr th:only-of-type {\n",
       "        vertical-align: middle;\n",
       "    }\n",
       "\n",
       "    .dataframe tbody tr th {\n",
       "        vertical-align: top;\n",
       "    }\n",
       "\n",
       "    .dataframe thead th {\n",
       "        text-align: right;\n",
       "    }\n",
       "</style>\n",
       "<table border=\"1\" class=\"dataframe\">\n",
       "  <thead>\n",
       "    <tr style=\"text-align: right;\">\n",
       "      <th></th>\n",
       "      <th>0</th>\n",
       "      <th>1</th>\n",
       "      <th>2</th>\n",
       "      <th>3</th>\n",
       "      <th>4</th>\n",
       "      <th>5</th>\n",
       "      <th>6</th>\n",
       "      <th>7</th>\n",
       "      <th>8</th>\n",
       "      <th>9</th>\n",
       "      <th>...</th>\n",
       "      <th>12</th>\n",
       "      <th>13</th>\n",
       "      <th>14</th>\n",
       "      <th>15</th>\n",
       "      <th>16</th>\n",
       "      <th>17</th>\n",
       "      <th>18</th>\n",
       "      <th>19</th>\n",
       "      <th>20</th>\n",
       "      <th>21</th>\n",
       "    </tr>\n",
       "  </thead>\n",
       "  <tbody>\n",
       "    <tr>\n",
       "      <th>0</th>\n",
       "      <td>1.0</td>\n",
       "      <td>-0.0</td>\n",
       "      <td>0.0</td>\n",
       "      <td>-0.0</td>\n",
       "      <td>0.0</td>\n",
       "      <td>0.0</td>\n",
       "      <td>-0.0</td>\n",
       "      <td>0.0</td>\n",
       "      <td>0.0</td>\n",
       "      <td>0.0</td>\n",
       "      <td>...</td>\n",
       "      <td>0.0</td>\n",
       "      <td>0.0</td>\n",
       "      <td>0.0</td>\n",
       "      <td>0.0</td>\n",
       "      <td>0.0</td>\n",
       "      <td>0.0</td>\n",
       "      <td>-0.0</td>\n",
       "      <td>-0.0</td>\n",
       "      <td>0.0</td>\n",
       "      <td>0.0</td>\n",
       "    </tr>\n",
       "    <tr>\n",
       "      <th>1</th>\n",
       "      <td>-0.0</td>\n",
       "      <td>1.0</td>\n",
       "      <td>-0.0</td>\n",
       "      <td>0.0</td>\n",
       "      <td>-0.0</td>\n",
       "      <td>-0.0</td>\n",
       "      <td>0.0</td>\n",
       "      <td>-0.0</td>\n",
       "      <td>-0.0</td>\n",
       "      <td>0.0</td>\n",
       "      <td>...</td>\n",
       "      <td>0.0</td>\n",
       "      <td>0.0</td>\n",
       "      <td>0.0</td>\n",
       "      <td>0.0</td>\n",
       "      <td>-0.0</td>\n",
       "      <td>0.0</td>\n",
       "      <td>-0.0</td>\n",
       "      <td>-0.0</td>\n",
       "      <td>0.0</td>\n",
       "      <td>-0.0</td>\n",
       "    </tr>\n",
       "    <tr>\n",
       "      <th>2</th>\n",
       "      <td>0.0</td>\n",
       "      <td>-0.0</td>\n",
       "      <td>1.0</td>\n",
       "      <td>-0.0</td>\n",
       "      <td>0.0</td>\n",
       "      <td>-0.0</td>\n",
       "      <td>-0.0</td>\n",
       "      <td>-0.0</td>\n",
       "      <td>-0.0</td>\n",
       "      <td>0.0</td>\n",
       "      <td>...</td>\n",
       "      <td>-0.0</td>\n",
       "      <td>0.0</td>\n",
       "      <td>0.0</td>\n",
       "      <td>0.0</td>\n",
       "      <td>0.0</td>\n",
       "      <td>-0.0</td>\n",
       "      <td>0.0</td>\n",
       "      <td>-0.0</td>\n",
       "      <td>0.0</td>\n",
       "      <td>-0.0</td>\n",
       "    </tr>\n",
       "    <tr>\n",
       "      <th>3</th>\n",
       "      <td>-0.0</td>\n",
       "      <td>0.0</td>\n",
       "      <td>-0.0</td>\n",
       "      <td>1.0</td>\n",
       "      <td>0.0</td>\n",
       "      <td>-0.0</td>\n",
       "      <td>-0.0</td>\n",
       "      <td>0.0</td>\n",
       "      <td>0.0</td>\n",
       "      <td>0.0</td>\n",
       "      <td>...</td>\n",
       "      <td>0.0</td>\n",
       "      <td>-0.0</td>\n",
       "      <td>-0.0</td>\n",
       "      <td>0.0</td>\n",
       "      <td>-0.0</td>\n",
       "      <td>-0.0</td>\n",
       "      <td>-0.0</td>\n",
       "      <td>0.0</td>\n",
       "      <td>0.0</td>\n",
       "      <td>0.0</td>\n",
       "    </tr>\n",
       "    <tr>\n",
       "      <th>4</th>\n",
       "      <td>0.0</td>\n",
       "      <td>-0.0</td>\n",
       "      <td>0.0</td>\n",
       "      <td>0.0</td>\n",
       "      <td>1.0</td>\n",
       "      <td>0.0</td>\n",
       "      <td>0.0</td>\n",
       "      <td>0.0</td>\n",
       "      <td>-0.0</td>\n",
       "      <td>0.0</td>\n",
       "      <td>...</td>\n",
       "      <td>0.0</td>\n",
       "      <td>0.0</td>\n",
       "      <td>0.0</td>\n",
       "      <td>-0.0</td>\n",
       "      <td>-0.0</td>\n",
       "      <td>0.0</td>\n",
       "      <td>-0.0</td>\n",
       "      <td>0.0</td>\n",
       "      <td>-0.0</td>\n",
       "      <td>0.0</td>\n",
       "    </tr>\n",
       "    <tr>\n",
       "      <th>5</th>\n",
       "      <td>0.0</td>\n",
       "      <td>-0.0</td>\n",
       "      <td>-0.0</td>\n",
       "      <td>-0.0</td>\n",
       "      <td>0.0</td>\n",
       "      <td>1.0</td>\n",
       "      <td>0.0</td>\n",
       "      <td>0.0</td>\n",
       "      <td>0.0</td>\n",
       "      <td>-0.0</td>\n",
       "      <td>...</td>\n",
       "      <td>0.0</td>\n",
       "      <td>-0.0</td>\n",
       "      <td>-0.0</td>\n",
       "      <td>-0.0</td>\n",
       "      <td>0.0</td>\n",
       "      <td>0.0</td>\n",
       "      <td>0.0</td>\n",
       "      <td>0.0</td>\n",
       "      <td>0.0</td>\n",
       "      <td>-0.0</td>\n",
       "    </tr>\n",
       "    <tr>\n",
       "      <th>6</th>\n",
       "      <td>-0.0</td>\n",
       "      <td>0.0</td>\n",
       "      <td>-0.0</td>\n",
       "      <td>-0.0</td>\n",
       "      <td>0.0</td>\n",
       "      <td>0.0</td>\n",
       "      <td>1.0</td>\n",
       "      <td>0.0</td>\n",
       "      <td>0.0</td>\n",
       "      <td>-0.0</td>\n",
       "      <td>...</td>\n",
       "      <td>0.0</td>\n",
       "      <td>-0.0</td>\n",
       "      <td>-0.0</td>\n",
       "      <td>-0.0</td>\n",
       "      <td>0.0</td>\n",
       "      <td>-0.0</td>\n",
       "      <td>-0.0</td>\n",
       "      <td>-0.0</td>\n",
       "      <td>0.0</td>\n",
       "      <td>-0.0</td>\n",
       "    </tr>\n",
       "    <tr>\n",
       "      <th>7</th>\n",
       "      <td>0.0</td>\n",
       "      <td>-0.0</td>\n",
       "      <td>-0.0</td>\n",
       "      <td>0.0</td>\n",
       "      <td>0.0</td>\n",
       "      <td>0.0</td>\n",
       "      <td>0.0</td>\n",
       "      <td>1.0</td>\n",
       "      <td>-0.0</td>\n",
       "      <td>0.0</td>\n",
       "      <td>...</td>\n",
       "      <td>0.0</td>\n",
       "      <td>0.0</td>\n",
       "      <td>0.0</td>\n",
       "      <td>0.0</td>\n",
       "      <td>0.0</td>\n",
       "      <td>0.0</td>\n",
       "      <td>-0.0</td>\n",
       "      <td>0.0</td>\n",
       "      <td>0.0</td>\n",
       "      <td>0.0</td>\n",
       "    </tr>\n",
       "    <tr>\n",
       "      <th>8</th>\n",
       "      <td>0.0</td>\n",
       "      <td>-0.0</td>\n",
       "      <td>-0.0</td>\n",
       "      <td>0.0</td>\n",
       "      <td>-0.0</td>\n",
       "      <td>0.0</td>\n",
       "      <td>0.0</td>\n",
       "      <td>-0.0</td>\n",
       "      <td>1.0</td>\n",
       "      <td>0.0</td>\n",
       "      <td>...</td>\n",
       "      <td>0.0</td>\n",
       "      <td>0.0</td>\n",
       "      <td>0.0</td>\n",
       "      <td>0.0</td>\n",
       "      <td>0.0</td>\n",
       "      <td>0.0</td>\n",
       "      <td>-0.0</td>\n",
       "      <td>0.0</td>\n",
       "      <td>-0.0</td>\n",
       "      <td>0.0</td>\n",
       "    </tr>\n",
       "    <tr>\n",
       "      <th>9</th>\n",
       "      <td>0.0</td>\n",
       "      <td>0.0</td>\n",
       "      <td>0.0</td>\n",
       "      <td>0.0</td>\n",
       "      <td>0.0</td>\n",
       "      <td>-0.0</td>\n",
       "      <td>-0.0</td>\n",
       "      <td>0.0</td>\n",
       "      <td>0.0</td>\n",
       "      <td>1.0</td>\n",
       "      <td>...</td>\n",
       "      <td>0.0</td>\n",
       "      <td>-0.0</td>\n",
       "      <td>-0.0</td>\n",
       "      <td>-0.0</td>\n",
       "      <td>-0.0</td>\n",
       "      <td>-0.0</td>\n",
       "      <td>-0.0</td>\n",
       "      <td>0.0</td>\n",
       "      <td>0.0</td>\n",
       "      <td>-0.0</td>\n",
       "    </tr>\n",
       "    <tr>\n",
       "      <th>10</th>\n",
       "      <td>0.0</td>\n",
       "      <td>-0.0</td>\n",
       "      <td>0.0</td>\n",
       "      <td>0.0</td>\n",
       "      <td>-0.0</td>\n",
       "      <td>-0.0</td>\n",
       "      <td>0.0</td>\n",
       "      <td>0.0</td>\n",
       "      <td>0.0</td>\n",
       "      <td>-0.0</td>\n",
       "      <td>...</td>\n",
       "      <td>0.0</td>\n",
       "      <td>-0.0</td>\n",
       "      <td>0.0</td>\n",
       "      <td>-0.0</td>\n",
       "      <td>0.0</td>\n",
       "      <td>-0.0</td>\n",
       "      <td>0.0</td>\n",
       "      <td>0.0</td>\n",
       "      <td>0.0</td>\n",
       "      <td>0.0</td>\n",
       "    </tr>\n",
       "    <tr>\n",
       "      <th>11</th>\n",
       "      <td>0.0</td>\n",
       "      <td>0.0</td>\n",
       "      <td>0.0</td>\n",
       "      <td>-0.0</td>\n",
       "      <td>-0.0</td>\n",
       "      <td>0.0</td>\n",
       "      <td>-0.0</td>\n",
       "      <td>0.0</td>\n",
       "      <td>-0.0</td>\n",
       "      <td>0.0</td>\n",
       "      <td>...</td>\n",
       "      <td>-0.0</td>\n",
       "      <td>-0.0</td>\n",
       "      <td>-0.0</td>\n",
       "      <td>-0.0</td>\n",
       "      <td>-0.0</td>\n",
       "      <td>-0.0</td>\n",
       "      <td>-0.0</td>\n",
       "      <td>0.0</td>\n",
       "      <td>-0.0</td>\n",
       "      <td>0.0</td>\n",
       "    </tr>\n",
       "    <tr>\n",
       "      <th>12</th>\n",
       "      <td>0.0</td>\n",
       "      <td>0.0</td>\n",
       "      <td>-0.0</td>\n",
       "      <td>0.0</td>\n",
       "      <td>0.0</td>\n",
       "      <td>0.0</td>\n",
       "      <td>0.0</td>\n",
       "      <td>0.0</td>\n",
       "      <td>0.0</td>\n",
       "      <td>0.0</td>\n",
       "      <td>...</td>\n",
       "      <td>1.0</td>\n",
       "      <td>-0.0</td>\n",
       "      <td>0.0</td>\n",
       "      <td>-0.0</td>\n",
       "      <td>0.0</td>\n",
       "      <td>0.0</td>\n",
       "      <td>-0.0</td>\n",
       "      <td>0.0</td>\n",
       "      <td>-0.0</td>\n",
       "      <td>0.0</td>\n",
       "    </tr>\n",
       "    <tr>\n",
       "      <th>13</th>\n",
       "      <td>0.0</td>\n",
       "      <td>0.0</td>\n",
       "      <td>0.0</td>\n",
       "      <td>-0.0</td>\n",
       "      <td>0.0</td>\n",
       "      <td>-0.0</td>\n",
       "      <td>-0.0</td>\n",
       "      <td>0.0</td>\n",
       "      <td>0.0</td>\n",
       "      <td>-0.0</td>\n",
       "      <td>...</td>\n",
       "      <td>-0.0</td>\n",
       "      <td>1.0</td>\n",
       "      <td>-0.0</td>\n",
       "      <td>-0.0</td>\n",
       "      <td>0.0</td>\n",
       "      <td>-0.0</td>\n",
       "      <td>0.0</td>\n",
       "      <td>-0.0</td>\n",
       "      <td>0.0</td>\n",
       "      <td>-0.0</td>\n",
       "    </tr>\n",
       "    <tr>\n",
       "      <th>14</th>\n",
       "      <td>0.0</td>\n",
       "      <td>0.0</td>\n",
       "      <td>0.0</td>\n",
       "      <td>-0.0</td>\n",
       "      <td>0.0</td>\n",
       "      <td>-0.0</td>\n",
       "      <td>-0.0</td>\n",
       "      <td>0.0</td>\n",
       "      <td>0.0</td>\n",
       "      <td>-0.0</td>\n",
       "      <td>...</td>\n",
       "      <td>0.0</td>\n",
       "      <td>-0.0</td>\n",
       "      <td>1.0</td>\n",
       "      <td>-0.0</td>\n",
       "      <td>0.0</td>\n",
       "      <td>-0.0</td>\n",
       "      <td>0.0</td>\n",
       "      <td>0.0</td>\n",
       "      <td>0.0</td>\n",
       "      <td>-0.0</td>\n",
       "    </tr>\n",
       "    <tr>\n",
       "      <th>15</th>\n",
       "      <td>0.0</td>\n",
       "      <td>0.0</td>\n",
       "      <td>0.0</td>\n",
       "      <td>0.0</td>\n",
       "      <td>-0.0</td>\n",
       "      <td>-0.0</td>\n",
       "      <td>-0.0</td>\n",
       "      <td>0.0</td>\n",
       "      <td>0.0</td>\n",
       "      <td>-0.0</td>\n",
       "      <td>...</td>\n",
       "      <td>-0.0</td>\n",
       "      <td>-0.0</td>\n",
       "      <td>-0.0</td>\n",
       "      <td>1.0</td>\n",
       "      <td>-0.0</td>\n",
       "      <td>0.0</td>\n",
       "      <td>0.0</td>\n",
       "      <td>0.0</td>\n",
       "      <td>0.0</td>\n",
       "      <td>0.0</td>\n",
       "    </tr>\n",
       "    <tr>\n",
       "      <th>16</th>\n",
       "      <td>0.0</td>\n",
       "      <td>-0.0</td>\n",
       "      <td>0.0</td>\n",
       "      <td>-0.0</td>\n",
       "      <td>-0.0</td>\n",
       "      <td>0.0</td>\n",
       "      <td>0.0</td>\n",
       "      <td>0.0</td>\n",
       "      <td>0.0</td>\n",
       "      <td>-0.0</td>\n",
       "      <td>...</td>\n",
       "      <td>0.0</td>\n",
       "      <td>0.0</td>\n",
       "      <td>0.0</td>\n",
       "      <td>-0.0</td>\n",
       "      <td>1.0</td>\n",
       "      <td>-0.0</td>\n",
       "      <td>0.0</td>\n",
       "      <td>0.0</td>\n",
       "      <td>0.0</td>\n",
       "      <td>-0.0</td>\n",
       "    </tr>\n",
       "    <tr>\n",
       "      <th>17</th>\n",
       "      <td>0.0</td>\n",
       "      <td>0.0</td>\n",
       "      <td>-0.0</td>\n",
       "      <td>-0.0</td>\n",
       "      <td>0.0</td>\n",
       "      <td>0.0</td>\n",
       "      <td>-0.0</td>\n",
       "      <td>0.0</td>\n",
       "      <td>0.0</td>\n",
       "      <td>-0.0</td>\n",
       "      <td>...</td>\n",
       "      <td>0.0</td>\n",
       "      <td>-0.0</td>\n",
       "      <td>-0.0</td>\n",
       "      <td>0.0</td>\n",
       "      <td>-0.0</td>\n",
       "      <td>1.0</td>\n",
       "      <td>-0.0</td>\n",
       "      <td>-0.0</td>\n",
       "      <td>0.0</td>\n",
       "      <td>-0.0</td>\n",
       "    </tr>\n",
       "    <tr>\n",
       "      <th>18</th>\n",
       "      <td>-0.0</td>\n",
       "      <td>-0.0</td>\n",
       "      <td>0.0</td>\n",
       "      <td>-0.0</td>\n",
       "      <td>-0.0</td>\n",
       "      <td>0.0</td>\n",
       "      <td>-0.0</td>\n",
       "      <td>-0.0</td>\n",
       "      <td>-0.0</td>\n",
       "      <td>-0.0</td>\n",
       "      <td>...</td>\n",
       "      <td>-0.0</td>\n",
       "      <td>0.0</td>\n",
       "      <td>0.0</td>\n",
       "      <td>0.0</td>\n",
       "      <td>0.0</td>\n",
       "      <td>-0.0</td>\n",
       "      <td>1.0</td>\n",
       "      <td>0.0</td>\n",
       "      <td>-0.0</td>\n",
       "      <td>0.0</td>\n",
       "    </tr>\n",
       "    <tr>\n",
       "      <th>19</th>\n",
       "      <td>-0.0</td>\n",
       "      <td>-0.0</td>\n",
       "      <td>-0.0</td>\n",
       "      <td>0.0</td>\n",
       "      <td>0.0</td>\n",
       "      <td>0.0</td>\n",
       "      <td>-0.0</td>\n",
       "      <td>0.0</td>\n",
       "      <td>0.0</td>\n",
       "      <td>0.0</td>\n",
       "      <td>...</td>\n",
       "      <td>0.0</td>\n",
       "      <td>-0.0</td>\n",
       "      <td>0.0</td>\n",
       "      <td>0.0</td>\n",
       "      <td>0.0</td>\n",
       "      <td>-0.0</td>\n",
       "      <td>0.0</td>\n",
       "      <td>1.0</td>\n",
       "      <td>-0.0</td>\n",
       "      <td>-0.0</td>\n",
       "    </tr>\n",
       "    <tr>\n",
       "      <th>20</th>\n",
       "      <td>0.0</td>\n",
       "      <td>0.0</td>\n",
       "      <td>0.0</td>\n",
       "      <td>0.0</td>\n",
       "      <td>-0.0</td>\n",
       "      <td>0.0</td>\n",
       "      <td>0.0</td>\n",
       "      <td>0.0</td>\n",
       "      <td>-0.0</td>\n",
       "      <td>0.0</td>\n",
       "      <td>...</td>\n",
       "      <td>-0.0</td>\n",
       "      <td>0.0</td>\n",
       "      <td>0.0</td>\n",
       "      <td>0.0</td>\n",
       "      <td>0.0</td>\n",
       "      <td>0.0</td>\n",
       "      <td>-0.0</td>\n",
       "      <td>-0.0</td>\n",
       "      <td>1.0</td>\n",
       "      <td>-0.0</td>\n",
       "    </tr>\n",
       "    <tr>\n",
       "      <th>21</th>\n",
       "      <td>0.0</td>\n",
       "      <td>-0.0</td>\n",
       "      <td>-0.0</td>\n",
       "      <td>0.0</td>\n",
       "      <td>0.0</td>\n",
       "      <td>-0.0</td>\n",
       "      <td>-0.0</td>\n",
       "      <td>0.0</td>\n",
       "      <td>0.0</td>\n",
       "      <td>-0.0</td>\n",
       "      <td>...</td>\n",
       "      <td>0.0</td>\n",
       "      <td>-0.0</td>\n",
       "      <td>-0.0</td>\n",
       "      <td>0.0</td>\n",
       "      <td>-0.0</td>\n",
       "      <td>-0.0</td>\n",
       "      <td>0.0</td>\n",
       "      <td>-0.0</td>\n",
       "      <td>-0.0</td>\n",
       "      <td>1.0</td>\n",
       "    </tr>\n",
       "  </tbody>\n",
       "</table>\n",
       "<p>22 rows × 22 columns</p>\n",
       "</div>"
      ],
      "text/plain": [
       "     0    1    2    3    4    5    6    7    8    9   ...   12   13   14   15  \\\n",
       "0   1.0 -0.0  0.0 -0.0  0.0  0.0 -0.0  0.0  0.0  0.0  ...  0.0  0.0  0.0  0.0   \n",
       "1  -0.0  1.0 -0.0  0.0 -0.0 -0.0  0.0 -0.0 -0.0  0.0  ...  0.0  0.0  0.0  0.0   \n",
       "2   0.0 -0.0  1.0 -0.0  0.0 -0.0 -0.0 -0.0 -0.0  0.0  ... -0.0  0.0  0.0  0.0   \n",
       "3  -0.0  0.0 -0.0  1.0  0.0 -0.0 -0.0  0.0  0.0  0.0  ...  0.0 -0.0 -0.0  0.0   \n",
       "4   0.0 -0.0  0.0  0.0  1.0  0.0  0.0  0.0 -0.0  0.0  ...  0.0  0.0  0.0 -0.0   \n",
       "5   0.0 -0.0 -0.0 -0.0  0.0  1.0  0.0  0.0  0.0 -0.0  ...  0.0 -0.0 -0.0 -0.0   \n",
       "6  -0.0  0.0 -0.0 -0.0  0.0  0.0  1.0  0.0  0.0 -0.0  ...  0.0 -0.0 -0.0 -0.0   \n",
       "7   0.0 -0.0 -0.0  0.0  0.0  0.0  0.0  1.0 -0.0  0.0  ...  0.0  0.0  0.0  0.0   \n",
       "8   0.0 -0.0 -0.0  0.0 -0.0  0.0  0.0 -0.0  1.0  0.0  ...  0.0  0.0  0.0  0.0   \n",
       "9   0.0  0.0  0.0  0.0  0.0 -0.0 -0.0  0.0  0.0  1.0  ...  0.0 -0.0 -0.0 -0.0   \n",
       "10  0.0 -0.0  0.0  0.0 -0.0 -0.0  0.0  0.0  0.0 -0.0  ...  0.0 -0.0  0.0 -0.0   \n",
       "11  0.0  0.0  0.0 -0.0 -0.0  0.0 -0.0  0.0 -0.0  0.0  ... -0.0 -0.0 -0.0 -0.0   \n",
       "12  0.0  0.0 -0.0  0.0  0.0  0.0  0.0  0.0  0.0  0.0  ...  1.0 -0.0  0.0 -0.0   \n",
       "13  0.0  0.0  0.0 -0.0  0.0 -0.0 -0.0  0.0  0.0 -0.0  ... -0.0  1.0 -0.0 -0.0   \n",
       "14  0.0  0.0  0.0 -0.0  0.0 -0.0 -0.0  0.0  0.0 -0.0  ...  0.0 -0.0  1.0 -0.0   \n",
       "15  0.0  0.0  0.0  0.0 -0.0 -0.0 -0.0  0.0  0.0 -0.0  ... -0.0 -0.0 -0.0  1.0   \n",
       "16  0.0 -0.0  0.0 -0.0 -0.0  0.0  0.0  0.0  0.0 -0.0  ...  0.0  0.0  0.0 -0.0   \n",
       "17  0.0  0.0 -0.0 -0.0  0.0  0.0 -0.0  0.0  0.0 -0.0  ...  0.0 -0.0 -0.0  0.0   \n",
       "18 -0.0 -0.0  0.0 -0.0 -0.0  0.0 -0.0 -0.0 -0.0 -0.0  ... -0.0  0.0  0.0  0.0   \n",
       "19 -0.0 -0.0 -0.0  0.0  0.0  0.0 -0.0  0.0  0.0  0.0  ...  0.0 -0.0  0.0  0.0   \n",
       "20  0.0  0.0  0.0  0.0 -0.0  0.0  0.0  0.0 -0.0  0.0  ... -0.0  0.0  0.0  0.0   \n",
       "21  0.0 -0.0 -0.0  0.0  0.0 -0.0 -0.0  0.0  0.0 -0.0  ...  0.0 -0.0 -0.0  0.0   \n",
       "\n",
       "     16   17   18   19   20   21  \n",
       "0   0.0  0.0 -0.0 -0.0  0.0  0.0  \n",
       "1  -0.0  0.0 -0.0 -0.0  0.0 -0.0  \n",
       "2   0.0 -0.0  0.0 -0.0  0.0 -0.0  \n",
       "3  -0.0 -0.0 -0.0  0.0  0.0  0.0  \n",
       "4  -0.0  0.0 -0.0  0.0 -0.0  0.0  \n",
       "5   0.0  0.0  0.0  0.0  0.0 -0.0  \n",
       "6   0.0 -0.0 -0.0 -0.0  0.0 -0.0  \n",
       "7   0.0  0.0 -0.0  0.0  0.0  0.0  \n",
       "8   0.0  0.0 -0.0  0.0 -0.0  0.0  \n",
       "9  -0.0 -0.0 -0.0  0.0  0.0 -0.0  \n",
       "10  0.0 -0.0  0.0  0.0  0.0  0.0  \n",
       "11 -0.0 -0.0 -0.0  0.0 -0.0  0.0  \n",
       "12  0.0  0.0 -0.0  0.0 -0.0  0.0  \n",
       "13  0.0 -0.0  0.0 -0.0  0.0 -0.0  \n",
       "14  0.0 -0.0  0.0  0.0  0.0 -0.0  \n",
       "15 -0.0  0.0  0.0  0.0  0.0  0.0  \n",
       "16  1.0 -0.0  0.0  0.0  0.0 -0.0  \n",
       "17 -0.0  1.0 -0.0 -0.0  0.0 -0.0  \n",
       "18  0.0 -0.0  1.0  0.0 -0.0  0.0  \n",
       "19  0.0 -0.0  0.0  1.0 -0.0 -0.0  \n",
       "20  0.0  0.0 -0.0 -0.0  1.0 -0.0  \n",
       "21 -0.0 -0.0  0.0 -0.0 -0.0  1.0  \n",
       "\n",
       "[22 rows x 22 columns]"
      ]
     },
     "execution_count": 46,
     "metadata": {},
     "output_type": "execute_result"
    }
   ],
   "source": [
    "I"
   ]
  },
  {
   "cell_type": "code",
   "execution_count": null,
   "metadata": {},
   "outputs": [],
   "source": []
  },
  {
   "cell_type": "code",
   "execution_count": 47,
   "metadata": {},
   "outputs": [
    {
     "name": "stdout",
     "output_type": "stream",
     "text": [
      "Subject 1 OK!\n",
      "Subject 2 OK!\n",
      "Subject 3 OK!\n",
      "Subject 4 OK!\n",
      "Subject 5 OK!\n",
      "Subject 6 OK!\n",
      "Subject 7 OK!\n",
      "Subject 8 OK!\n",
      "Subject 9 OK!\n"
     ]
    }
   ],
   "source": [
    "# Sanity check\n",
    "for subj in mod_data.keys():\n",
    "    summ = 0\n",
    "    \n",
    "    left_alg = mod_data[subj]['EEG_left_EA']\n",
    "    right_alg = mod_data[subj]['EEG_right_EA']\n",
    "    \n",
    "    for tr in left_alg:\n",
    "        summ += np.cov(tr, rowvar=True)\n",
    "    \n",
    "    I = summ/left_alg.shape[0]\n",
    "    I = pd.DataFrame(np.round(I))\n",
    "    \n",
    "    # Sum up all matrix elements should equal to number of eeg channels, i.e. 22\n",
    "    assert (I.sum().sum() == 22)\n",
    "    print('Subject {} OK!'.format(subj))"
   ]
  },
  {
   "cell_type": "code",
   "execution_count": null,
   "metadata": {},
   "outputs": [],
   "source": []
  },
  {
   "cell_type": "markdown",
   "metadata": {},
   "source": [
    "## Visualize raw data with and without EA"
   ]
  },
  {
   "cell_type": "code",
   "execution_count": 48,
   "metadata": {},
   "outputs": [
    {
     "data": {
      "image/png": "[encoded data removed]",
      "text/plain": [
       "<Figure size 576x360 with 1 Axes>"
      ]
     },
     "metadata": {
      "needs_background": "light"
     },
     "output_type": "display_data"
    }
   ],
   "source": [
    "# let's try for one subject\n",
    "fig, ax = plt.subplots(1, 1,  figsize=(8, 5))\n",
    "n_alg = pd.DataFrame(mod_data[1]['EEG_left'][10][5])\n",
    "alg = pd.DataFrame(mod_data[1]['EEG_left_EA'][10][5])\n",
    "\n",
    "# n_alg.plot(ax=ax, color='k')\n",
    "alg.plot(ax=ax, color='red')\n",
    "plt.show()"
   ]
  },
  {
   "cell_type": "code",
   "execution_count": 26,
   "metadata": {},
   "outputs": [],
   "source": [
    "def visualize_raw_and_aligned(data_dict, no_subj=1, no_trial=0, fs=250):\n",
    "    '''\n",
    "    Will plot the visualization of dictionary, left and right hand class\n",
    "    \n",
    "    Parameter:\n",
    "    data_dict = data containing data of each subject\n",
    "    '''\n",
    "    left = data_dict[no_subj]['EEG_left'][no_trial]\n",
    "    right = data_dict[no_subj]['EEG_right'][no_trial]\n",
    "    left_alg = data_dict[no_subj]['EEG_left_EA'][no_trial]\n",
    "    right_alg = data_dict[no_subj]['EEG_right_EA'][no_trial]\n",
    "    \n",
    "    # Time\n",
    "    time = np.arange(left.shape[1])/fs\n",
    "    \n",
    "    # Number of electrodes\n",
    "    n_el = left.shape[0]\n",
    "    \n",
    "    # Plot each raw EEG and aligned raw EEG\n",
    "    fig, axes = plt.subplots(n_el, 2, figsize=(10, 15), sharex=True)\n",
    "    \n",
    "    # Title to each column\n",
    "    axes[0, 0].set_title('Left')\n",
    "    axes[0, 1].set_title('Right')\n",
    "\n",
    "    # Plot each eeg raw and aligned \n",
    "    for i, ax in enumerate(axes):\n",
    "        ax[0].plot(time, left[i], color='k', label='el ' + str(i))\n",
    "        ax[0].plot(time, left_alg[i], color='r', label='el ' + str(i))\n",
    "        ax[0].legend(loc=1)\n",
    "        \n",
    "        ax[1].plot(time, right[i], color='k', label='el ' + str(i))\n",
    "        ax[1].plot(time, right_alg[i], color='r', label='el ' + str(i))\n",
    "        ax[1].legend(loc=1)\n",
    "    plt.show()"
   ]
  },
  {
   "cell_type": "code",
   "execution_count": 27,
   "metadata": {},
   "outputs": [
    {
     "data": {
      "image/png": "[encoded data removed]",
      "text/plain": [
       "<Figure size 720x1080 with 44 Axes>"
      ]
     },
     "metadata": {
      "needs_background": "light"
     },
     "output_type": "display_data"
    }
   ],
   "source": [
    "visualize_raw_and_aligned(mod_data, no_subj=8, no_trial=0, fs=250)"
   ]
  },
  {
   "cell_type": "markdown",
   "metadata": {},
   "source": [
    "## Run CSP for both raw EEG and raw EEG aligned\n",
    "Should test EEG raw be aligned?"
   ]
  },
  {
   "cell_type": "code",
   "execution_count": 49,
   "metadata": {},
   "outputs": [
    {
     "name": "stdout",
     "output_type": "stream",
     "text": [
      "Processing split for 1\n",
      "Processing split for 2\n",
      "Processing split for 3\n",
      "Processing split for 4\n",
      "Processing split for 5\n",
      "Processing split for 6\n",
      "Processing split for 7\n",
      "Processing split for 8\n",
      "Processing split for 9\n"
     ]
    }
   ],
   "source": [
    "## Split to train and test data\n",
    "np.random.seed(42)\n",
    "for subj in mod_data.keys():\n",
    "    print('Processing split for', subj)\n",
    "    \n",
    "    mod_data[subj]['left_train'], mod_data[subj]['left_test'] = split_EEG_one_class(mod_data[subj]['EEG_left'], 0.8)\n",
    "    mod_data[subj]['right_train'], mod_data[subj]['right_test'] = split_EEG_one_class(mod_data[subj]['EEG_right'], 0.8)     \n",
    " \n",
    "    mod_data[subj]['left_train_EA'], mod_data[subj]['left_test_EA'] = split_EEG_one_class(mod_data[subj]['EEG_left_EA'], 0.8)\n",
    "    mod_data[subj]['right_train_EA'], mod_data[subj]['right_test_EA'] = split_EEG_one_class(mod_data[subj]['EEG_right_EA'], 0.8)   "
   ]
  },
  {
   "cell_type": "code",
   "execution_count": 50,
   "metadata": {},
   "outputs": [
    {
     "name": "stdout",
     "output_type": "stream",
     "text": [
      "==================== Not Aligned ======================\n",
      "\t\tLeft \t\t Right\n",
      "TRAINING\n",
      "subject01:\t(58, 22, 750)\t(58, 22, 750)\n",
      "subject02:\t(58, 22, 750)\t(58, 22, 750)\n",
      "subject03:\t(58, 22, 750)\t(58, 22, 750)\n",
      "subject04:\t(58, 22, 750)\t(58, 22, 750)\n",
      "subject05:\t(58, 22, 750)\t(58, 22, 750)\n",
      "subject06:\t(58, 22, 750)\t(58, 22, 750)\n",
      "subject07:\t(58, 22, 750)\t(58, 22, 750)\n",
      "subject08:\t(58, 22, 750)\t(58, 22, 750)\n",
      "subject09:\t(58, 22, 750)\t(58, 22, 750)\n",
      "TEST\n",
      "subject01:\t(14, 22, 750)\t(14, 22, 750)\n",
      "subject02:\t(14, 22, 750)\t(14, 22, 750)\n",
      "subject03:\t(14, 22, 750)\t(14, 22, 750)\n",
      "subject04:\t(14, 22, 750)\t(14, 22, 750)\n",
      "subject05:\t(14, 22, 750)\t(14, 22, 750)\n",
      "subject06:\t(14, 22, 750)\t(14, 22, 750)\n",
      "subject07:\t(14, 22, 750)\t(14, 22, 750)\n",
      "subject08:\t(14, 22, 750)\t(14, 22, 750)\n",
      "subject09:\t(14, 22, 750)\t(14, 22, 750)\n",
      "\n",
      "==================== Aligned ======================\n",
      "TRAINING\n",
      "subject01:\t(58, 22, 750)\t(58, 22, 750)\n",
      "subject02:\t(58, 22, 750)\t(58, 22, 750)\n",
      "subject03:\t(58, 22, 750)\t(58, 22, 750)\n",
      "subject04:\t(58, 22, 750)\t(58, 22, 750)\n",
      "subject05:\t(58, 22, 750)\t(58, 22, 750)\n",
      "subject06:\t(58, 22, 750)\t(58, 22, 750)\n",
      "subject07:\t(58, 22, 750)\t(58, 22, 750)\n",
      "subject08:\t(58, 22, 750)\t(58, 22, 750)\n",
      "subject09:\t(58, 22, 750)\t(58, 22, 750)\n",
      "TEST\n",
      "subject01:\t(14, 22, 750)\t(14, 22, 750)\n",
      "subject02:\t(14, 22, 750)\t(14, 22, 750)\n",
      "subject03:\t(14, 22, 750)\t(14, 22, 750)\n",
      "subject04:\t(14, 22, 750)\t(14, 22, 750)\n",
      "subject05:\t(14, 22, 750)\t(14, 22, 750)\n",
      "subject06:\t(14, 22, 750)\t(14, 22, 750)\n",
      "subject07:\t(14, 22, 750)\t(14, 22, 750)\n",
      "subject08:\t(14, 22, 750)\t(14, 22, 750)\n",
      "subject09:\t(14, 22, 750)\t(14, 22, 750)\n"
     ]
    }
   ],
   "source": [
    "# Checking size of EEG left and right data training and test data\n",
    "print(\"==================== Not Aligned ======================\")\n",
    "print('\\t\\tLeft \\t\\t Right')\n",
    "print('TRAINING')\n",
    "for subj in mod_data.keys():\n",
    "    \n",
    "    temp = mod_data[subj]\n",
    "    \n",
    "    print('subject{:02d}:\\t{}\\t{}'.format(subj, temp['left_train'].shape, temp['right_train'].shape))\n",
    "\n",
    "print('TEST')\n",
    "for subj in mod_data.keys():\n",
    "\n",
    "    temp = mod_data[subj]\n",
    "    \n",
    "    print('subject{:02d}:\\t{}\\t{}'.format(subj, temp['left_test'].shape, temp['right_test'].shape))\n",
    "\n",
    "print(\"\\n==================== Aligned ======================\")\n",
    "print('TRAINING')\n",
    "for subj in mod_data.keys():\n",
    "    \n",
    "    temp = mod_data[subj]\n",
    "    \n",
    "    print('subject{:02d}:\\t{}\\t{}'.format(subj, temp['left_train_EA'].shape, temp['right_train_EA'].shape))\n",
    "\n",
    "print('TEST')\n",
    "for subj in mod_data.keys():\n",
    "\n",
    "    temp = mod_data[subj]\n",
    "    \n",
    "    print('subject{:02d}:\\t{}\\t{}'.format(subj, temp['left_test_EA'].shape, temp['right_test_EA'].shape))    \n"
   ]
  },
  {
   "cell_type": "markdown",
   "metadata": {},
   "source": [
    "## CSP"
   ]
  },
  {
   "cell_type": "markdown",
   "metadata": {},
   "source": [
    "### For Not Aligned"
   ]
  },
  {
   "cell_type": "code",
   "execution_count": 51,
   "metadata": {},
   "outputs": [
    {
     "name": "stdout",
     "output_type": "stream",
     "text": [
      "====================== Not Aligned Data =====================\n",
      "Computing cov for  1\n",
      "---------------------------\n",
      "Computing covariance of each class and composite covariance\n",
      "Computing eigenval, eigenvec, and whitening matrix of composite covariance \n",
      "Generating common eigenvector from each class\n",
      "Spatial filter for  1\n",
      " \n",
      "Computing cov for  2\n",
      "---------------------------\n",
      "Computing covariance of each class and composite covariance\n",
      "Computing eigenval, eigenvec, and whitening matrix of composite covariance \n",
      "Generating common eigenvector from each class\n",
      "Spatial filter for  2\n",
      " \n",
      "Computing cov for  3\n",
      "---------------------------\n",
      "Computing covariance of each class and composite covariance\n",
      "Computing eigenval, eigenvec, and whitening matrix of composite covariance \n",
      "Generating common eigenvector from each class\n",
      "Spatial filter for  3\n",
      " \n",
      "Computing cov for  4\n",
      "---------------------------\n",
      "Computing covariance of each class and composite covariance\n",
      "Computing eigenval, eigenvec, and whitening matrix of composite covariance \n",
      "Generating common eigenvector from each class\n",
      "Spatial filter for  4\n",
      " \n",
      "Computing cov for  5\n",
      "---------------------------\n",
      "Computing covariance of each class and composite covariance\n",
      "Computing eigenval, eigenvec, and whitening matrix of composite covariance \n",
      "Generating common eigenvector from each class\n",
      "Spatial filter for  5\n",
      " \n",
      "Computing cov for  6\n",
      "---------------------------\n",
      "Computing covariance of each class and composite covariance\n",
      "Computing eigenval, eigenvec, and whitening matrix of composite covariance \n",
      "Generating common eigenvector from each class\n",
      "Spatial filter for  6\n",
      " \n",
      "Computing cov for  7\n",
      "---------------------------\n",
      "Computing covariance of each class and composite covariance\n",
      "Computing eigenval, eigenvec, and whitening matrix of composite covariance \n",
      "Generating common eigenvector from each class\n",
      "Spatial filter for  7\n",
      " \n",
      "Computing cov for  8\n",
      "---------------------------\n",
      "Computing covariance of each class and composite covariance\n",
      "Computing eigenval, eigenvec, and whitening matrix of composite covariance \n",
      "Generating common eigenvector from each class\n",
      "Spatial filter for  8\n",
      " \n",
      "Computing cov for  9\n",
      "---------------------------\n",
      "Computing covariance of each class and composite covariance\n",
      "Computing eigenval, eigenvec, and whitening matrix of composite covariance \n",
      "Generating common eigenvector from each class\n",
      "Spatial filter for  9\n",
      " \n"
     ]
    }
   ],
   "source": [
    "csp = CSP()\n",
    "\n",
    "print(\"====================== Not Aligned Data =====================\")\n",
    "for subj in mod_data.keys():\n",
    "\n",
    "    print('Computing cov for ', subj)\n",
    "    print('---------------------------')\n",
    "    \n",
    "    mod_data[subj]['CSP'] = {}\n",
    "    \n",
    "    # Covariance\n",
    "    print('Computing covariance of each class and composite covariance')\n",
    "    mod_data[subj]['CSP']['cov_left'] = csp.compute_cov(mod_data[subj]['left_train'])\n",
    "    mod_data[subj]['CSP']['cov_right'] = csp.compute_cov(mod_data[subj]['right_train'])\n",
    "    mod_data[subj]['CSP']['cov_comp']  = mod_data[subj]['CSP']['cov_left'] + mod_data[subj]['CSP']['cov_right']\n",
    "    \n",
    "    # Whitening matrix\n",
    "    print('Computing eigenval, eigenvec, and whitening matrix of composite covariance ')\n",
    "    mod_data[subj]['CSP']['whitening'] = {}\n",
    "    \n",
    "    \n",
    "    # Decomposing composite covariance into eigenvector and eigenvalue\n",
    "    temp_whitening = mod_data[subj]['CSP']['whitening']\n",
    "    temp_cov = mod_data[subj]['CSP']['cov_comp']\n",
    "    \n",
    "    temp_whitening['eigval'], temp_whitening['eigvec'] = csp.decompose_cov(temp_cov)\n",
    "\n",
    "    # White matrix\n",
    "    temp_whitening['P'] = csp.white_matrix(temp_whitening['eigval'], temp_whitening['eigvec'])\n",
    "    \n",
    "    # Common eigenvec from Sl and Sr\n",
    "    print('Generating common eigenvector from each class')\n",
    "    mod_data[subj]['CSP']['S_left'] = {}\n",
    "    mod_data[subj]['CSP']['S_right'] = {}  \n",
    "    \n",
    "    # Where to access data\n",
    "    temp_P = mod_data[subj]['CSP']['whitening']['P']\n",
    "    Cl = mod_data[subj]['CSP']['cov_left']\n",
    "    Cr = mod_data[subj]['CSP']['cov_right']\n",
    "    \n",
    "    # Where to store result\n",
    "    temp_Sl = mod_data[subj]['CSP']['S_left']\n",
    "    temp_Sr = mod_data[subj]['CSP']['S_right']\n",
    "\n",
    "    # LEFT\n",
    "    Sl = csp.compute_S(Cl, temp_P)\n",
    "    temp_Sl['eigvec'], temp_Sl['eigval'] = csp.decompose_S(Sl, 'descending')\n",
    "    \n",
    "    # RIGHT\n",
    "    Sr = csp.compute_S(Cr, temp_P)\n",
    "    temp_Sr['eigvec'], temp_Sr['eigval'] = csp.decompose_S(Sr, 'ascending')   \n",
    "    \n",
    "    # Spatial filter\n",
    "    print('Spatial filter for ',subj)\n",
    "    temp_eigvec = mod_data[subj]['CSP']['S_left']['eigvec']\n",
    "    temp_P = mod_data[subj]['CSP']['whitening']['P']\n",
    "    \n",
    "    mod_data[subj]['CSP']['W'] = csp.spatial_filter(temp_eigvec, temp_P)\n",
    "    \n",
    "    print(' ')"
   ]
  },
  {
   "cell_type": "markdown",
   "metadata": {},
   "source": [
    "### Aligned Data"
   ]
  },
  {
   "cell_type": "code",
   "execution_count": 52,
   "metadata": {},
   "outputs": [
    {
     "name": "stdout",
     "output_type": "stream",
     "text": [
      "====================== Aligned Data =====================\n",
      "Computing cov for  1\n",
      "---------------------------\n",
      "Computing covariance of each class and composite covariance\n",
      "Computing eigenval, eigenvec, and whitening matrix of composite covariance \n",
      "Generating common eigenvector from each class\n",
      "Spatial filter for  1\n",
      " \n",
      "Computing cov for  2\n",
      "---------------------------\n",
      "Computing covariance of each class and composite covariance\n",
      "Computing eigenval, eigenvec, and whitening matrix of composite covariance \n",
      "Generating common eigenvector from each class\n",
      "Spatial filter for  2\n",
      " \n",
      "Computing cov for  3\n",
      "---------------------------\n",
      "Computing covariance of each class and composite covariance\n",
      "Computing eigenval, eigenvec, and whitening matrix of composite covariance \n",
      "Generating common eigenvector from each class\n",
      "Spatial filter for  3\n",
      " \n",
      "Computing cov for  4\n",
      "---------------------------\n",
      "Computing covariance of each class and composite covariance\n",
      "Computing eigenval, eigenvec, and whitening matrix of composite covariance \n",
      "Generating common eigenvector from each class\n",
      "Spatial filter for  4\n",
      " \n",
      "Computing cov for  5\n",
      "---------------------------\n",
      "Computing covariance of each class and composite covariance\n",
      "Computing eigenval, eigenvec, and whitening matrix of composite covariance \n",
      "Generating common eigenvector from each class\n",
      "Spatial filter for  5\n",
      " \n",
      "Computing cov for  6\n",
      "---------------------------\n",
      "Computing covariance of each class and composite covariance\n",
      "Computing eigenval, eigenvec, and whitening matrix of composite covariance \n",
      "Generating common eigenvector from each class\n",
      "Spatial filter for  6\n",
      " \n",
      "Computing cov for  7\n",
      "---------------------------\n",
      "Computing covariance of each class and composite covariance\n",
      "Computing eigenval, eigenvec, and whitening matrix of composite covariance \n",
      "Generating common eigenvector from each class\n",
      "Spatial filter for  7\n",
      " \n",
      "Computing cov for  8\n",
      "---------------------------\n",
      "Computing covariance of each class and composite covariance\n",
      "Computing eigenval, eigenvec, and whitening matrix of composite covariance \n",
      "Generating common eigenvector from each class\n",
      "Spatial filter for  8\n",
      " \n",
      "Computing cov for  9\n",
      "---------------------------\n",
      "Computing covariance of each class and composite covariance\n",
      "Computing eigenval, eigenvec, and whitening matrix of composite covariance \n",
      "Generating common eigenvector from each class\n",
      "Spatial filter for  9\n",
      " \n"
     ]
    }
   ],
   "source": [
    "csp = CSP()\n",
    "\n",
    "print(\"====================== Aligned Data =====================\")\n",
    "for subj in mod_data.keys():\n",
    "\n",
    "    print('Computing cov for ', subj)\n",
    "    print('---------------------------')\n",
    "    \n",
    "    mod_data[subj]['CSP_EA'] = {}\n",
    "    \n",
    "    # Covariance\n",
    "    print('Computing covariance of each class and composite covariance')\n",
    "    mod_data[subj]['CSP_EA']['cov_left'] = csp.compute_cov(mod_data[subj]['EEG_left_EA'])\n",
    "    mod_data[subj]['CSP_EA']['cov_right'] = csp.compute_cov(mod_data[subj]['EEG_right_EA'])\n",
    "    mod_data[subj]['CSP_EA']['cov_comp']  = mod_data[subj]['CSP_EA']['cov_left'] + mod_data[subj]['CSP_EA']['cov_right']\n",
    "    \n",
    "    # Whitening matrix\n",
    "    print('Computing eigenval, eigenvec, and whitening matrix of composite covariance ')\n",
    "    mod_data[subj]['CSP_EA']['whitening'] = {}\n",
    "    \n",
    "    \n",
    "    # Decomposing composite covariance into eigenvector and eigenvalue\n",
    "    temp_whitening = mod_data[subj]['CSP_EA']['whitening']\n",
    "    temp_cov = mod_data[subj]['CSP_EA']['cov_comp']\n",
    "    \n",
    "    temp_whitening['eigval'], temp_whitening['eigvec'] = csp.decompose_cov(temp_cov)\n",
    "\n",
    "    # White matrix\n",
    "    temp_whitening['P'] = csp.white_matrix(temp_whitening['eigval'], temp_whitening['eigvec'])\n",
    "    \n",
    "    # Common eigenvec from Sl and Sr\n",
    "    print('Generating common eigenvector from each class')\n",
    "    mod_data[subj]['CSP_EA']['S_left'] = {}\n",
    "    mod_data[subj]['CSP_EA']['S_right'] = {}  \n",
    "    \n",
    "    # Where to access data\n",
    "    temp_P = mod_data[subj]['CSP_EA']['whitening']['P']\n",
    "    Cl = mod_data[subj]['CSP_EA']['cov_left']\n",
    "    Cr = mod_data[subj]['CSP_EA']['cov_right']\n",
    "    \n",
    "    # Where to store result\n",
    "    temp_Sl = mod_data[subj]['CSP_EA']['S_left']\n",
    "    temp_Sr = mod_data[subj]['CSP_EA']['S_right']\n",
    "\n",
    "    # LEFT\n",
    "    Sl = csp.compute_S(Cl, temp_P)\n",
    "    temp_Sl['eigvec'], temp_Sl['eigval'] = csp.decompose_S(Sl, 'descending')\n",
    "    \n",
    "    # RIGHT\n",
    "    Sr = csp.compute_S(Cr, temp_P)\n",
    "    temp_Sr['eigvec'], temp_Sr['eigval'] = csp.decompose_S(Sr, 'ascending')   \n",
    "    \n",
    "    # Spatial filter\n",
    "    print('Spatial filter for ',subj)\n",
    "    temp_eigvec = mod_data[subj]['CSP_EA']['S_left']['eigvec']\n",
    "    temp_P = mod_data[subj]['CSP_EA']['whitening']['P']\n",
    "    \n",
    "    mod_data[subj]['CSP_EA']['W'] = csp.spatial_filter(temp_eigvec, temp_P)\n",
    "    \n",
    "    print(' ')"
   ]
  },
  {
   "cell_type": "code",
   "execution_count": null,
   "metadata": {},
   "outputs": [],
   "source": []
  },
  {
   "cell_type": "code",
   "execution_count": null,
   "metadata": {},
   "outputs": [],
   "source": []
  },
  {
   "cell_type": "markdown",
   "metadata": {},
   "source": [
    "## Train Feature"
   ]
  },
  {
   "cell_type": "markdown",
   "metadata": {},
   "source": [
    "### Not Aligned Data"
   ]
  },
  {
   "cell_type": "code",
   "execution_count": 53,
   "metadata": {},
   "outputs": [
    {
     "name": "stdout",
     "output_type": "stream",
     "text": [
      "============ Not Aligned ===============\n",
      "Generating training vector for  1\n",
      "Training dataset shape (116, 5)\n",
      "\n",
      "Generating training vector for  2\n",
      "Training dataset shape (116, 5)\n",
      "\n",
      "Generating training vector for  3\n",
      "Training dataset shape (116, 5)\n",
      "\n",
      "Generating training vector for  4\n",
      "Training dataset shape (116, 5)\n",
      "\n",
      "Generating training vector for  5\n",
      "Training dataset shape (116, 5)\n",
      "\n",
      "Generating training vector for  6\n",
      "Training dataset shape (116, 5)\n",
      "\n",
      "Generating training vector for  7\n",
      "Training dataset shape (116, 5)\n",
      "\n",
      "Generating training vector for  8\n",
      "Training dataset shape (116, 5)\n",
      "\n",
      "Generating training vector for  9\n",
      "Training dataset shape (116, 5)\n",
      "\n"
     ]
    }
   ],
   "source": [
    "# Select number of filter\n",
    "m = 2\n",
    "\n",
    "# Seed to fix randomization\n",
    "np.random.seed(42)\n",
    "\n",
    "print('============ Not Aligned ===============')\n",
    "# Create new keys for trainning and test feature vector\n",
    "for subj in mod_data.keys():\n",
    "    \n",
    "    print('Generating training vector for ', subj)\n",
    "    \n",
    "    mod_data[subj]['train']= {}  \n",
    "\n",
    "    temp_W = mod_data[subj]['CSP']['W']\n",
    "    temp_EEG_left = mod_data[subj]['left_train']\n",
    "    temp_EEG_right = mod_data[subj]['right_train']\n",
    "    \n",
    "    # LEFT\n",
    "    mod_data[subj]['train']['Z_left'] = compute_Z(temp_W, temp_EEG_left, m)\n",
    "    mod_data[subj]['train']['feat_left'] = feat_vector(mod_data[subj]['train']['Z_left'])\n",
    "    left_label = true_label(mod_data[subj]['train']['feat_left'], hand='left')\n",
    "    \n",
    "    # RIGHT\n",
    "    mod_data[subj]['train']['Z_right'] = compute_Z(temp_W, temp_EEG_right, m)\n",
    "    mod_data[subj]['train']['feat_right'] = feat_vector(mod_data[subj]['train']['Z_right'])     \n",
    "    right_label = true_label(mod_data[subj]['train']['feat_right'], hand='right')\n",
    "\n",
    "    # Combine all trials and labels\n",
    "    left = np.concatenate([mod_data[subj]['train']['feat_left'], left_label], axis=1)\n",
    "    right = np.concatenate([mod_data[subj]['train']['feat_right'], right_label], axis=1)\n",
    "\n",
    "    # Combine all left and right trials\n",
    "    mod_data[subj]['train']['feat_train'] = np.vstack([left, right])\n",
    "    \n",
    "    np.random.shuffle(mod_data[subj]['train']['feat_train'])\n",
    "    \n",
    "    print('Training dataset shape {}\\n'.format(mod_data[subj]['train']['feat_train'].shape))"
   ]
  },
  {
   "cell_type": "code",
   "execution_count": 54,
   "metadata": {},
   "outputs": [
    {
     "data": {
      "text/plain": [
       "array([[-0.80850967, -0.6600156 , -0.48623359, -0.52374037,  1.        ],\n",
       "       [-0.40809937, -0.50156184, -0.85628869, -0.80985649,  0.        ],\n",
       "       [-0.45061195, -0.53515375, -0.78251033, -0.72343572,  0.        ],\n",
       "       [-0.62933009, -0.5755371 , -0.46896779, -0.79636582,  0.        ],\n",
       "       [-0.7143548 , -0.53946605, -0.52948956, -0.65221154,  0.        ]])"
      ]
     },
     "execution_count": 54,
     "metadata": {},
     "output_type": "execute_result"
    }
   ],
   "source": [
    "mod_data[1]['train']['feat_train'][:5]"
   ]
  },
  {
   "cell_type": "code",
   "execution_count": null,
   "metadata": {},
   "outputs": [],
   "source": []
  },
  {
   "cell_type": "markdown",
   "metadata": {},
   "source": [
    "### Aligned Data"
   ]
  },
  {
   "cell_type": "code",
   "execution_count": 55,
   "metadata": {},
   "outputs": [
    {
     "name": "stdout",
     "output_type": "stream",
     "text": [
      "============ Aligned ===============\n",
      "Generating training vector for  1\n",
      "Training dataset shape (116, 5)\n",
      "\n",
      "Generating training vector for  2\n",
      "Training dataset shape (116, 5)\n",
      "\n",
      "Generating training vector for  3\n",
      "Training dataset shape (116, 5)\n",
      "\n",
      "Generating training vector for  4\n",
      "Training dataset shape (116, 5)\n",
      "\n",
      "Generating training vector for  5\n",
      "Training dataset shape (116, 5)\n",
      "\n",
      "Generating training vector for  6\n",
      "Training dataset shape (116, 5)\n",
      "\n",
      "Generating training vector for  7\n",
      "Training dataset shape (116, 5)\n",
      "\n",
      "Generating training vector for  8\n",
      "Training dataset shape (116, 5)\n",
      "\n",
      "Generating training vector for  9\n",
      "Training dataset shape (116, 5)\n",
      "\n"
     ]
    }
   ],
   "source": [
    "# Select number of filter\n",
    "m = 2\n",
    "\n",
    "# Seed to fix randomization\n",
    "np.random.seed(42)\n",
    "\n",
    "print('============ Aligned ===============')\n",
    "# Create new keys for trainning and test feature vector\n",
    "for subj in mod_data.keys():\n",
    "    \n",
    "    print('Generating training vector for ', subj)\n",
    "    \n",
    "    mod_data[subj]['train_EA']= {}  \n",
    "\n",
    "    temp_W = mod_data[subj]['CSP_EA']['W']\n",
    "    temp_EEG_left = mod_data[subj]['left_train_EA']\n",
    "    temp_EEG_right = mod_data[subj]['right_train_EA']\n",
    "    \n",
    "    # LEFT\n",
    "    mod_data[subj]['train_EA']['Z_left'] = compute_Z(temp_W, temp_EEG_left, m)\n",
    "    mod_data[subj]['train_EA']['feat_left'] = feat_vector(mod_data[subj]['train_EA']['Z_left'])\n",
    "    left_label = true_label(mod_data[subj]['train_EA']['feat_left'], hand='left')\n",
    "    \n",
    "    # RIGHT\n",
    "    mod_data[subj]['train_EA']['Z_right'] = compute_Z(temp_W, temp_EEG_right, m)\n",
    "    mod_data[subj]['train_EA']['feat_right'] = feat_vector(mod_data[subj]['train_EA']['Z_right'])     \n",
    "    right_label = true_label(mod_data[subj]['train_EA']['feat_right'], hand='right')\n",
    "\n",
    "    # Combine all trials and labels\n",
    "    left = np.concatenate([mod_data[subj]['train_EA']['feat_left'], left_label], axis=1)\n",
    "    right = np.concatenate([mod_data[subj]['train_EA']['feat_right'], right_label], axis=1)\n",
    "\n",
    "    # Combine all left and right trials\n",
    "    mod_data[subj]['train_EA']['feat_train'] = np.vstack([left, right])\n",
    "    \n",
    "    np.random.shuffle(mod_data[subj]['train_EA']['feat_train'])\n",
    "    \n",
    "    print('Training dataset shape {}\\n'.format(mod_data[subj]['train_EA']['feat_train'].shape))"
   ]
  },
  {
   "cell_type": "code",
   "execution_count": null,
   "metadata": {},
   "outputs": [],
   "source": []
  },
  {
   "cell_type": "code",
   "execution_count": null,
   "metadata": {},
   "outputs": [],
   "source": []
  },
  {
   "cell_type": "code",
   "execution_count": null,
   "metadata": {},
   "outputs": [],
   "source": []
  },
  {
   "cell_type": "markdown",
   "metadata": {},
   "source": [
    "## Test Feature"
   ]
  },
  {
   "cell_type": "markdown",
   "metadata": {},
   "source": [
    "### For Not Aligned"
   ]
  },
  {
   "cell_type": "code",
   "execution_count": 56,
   "metadata": {},
   "outputs": [
    {
     "name": "stdout",
     "output_type": "stream",
     "text": [
      "Generating test vector for  1\n",
      "Test dataset shape (28, 5)\n",
      "\n",
      "Generating test vector for  2\n",
      "Test dataset shape (28, 5)\n",
      "\n",
      "Generating test vector for  3\n",
      "Test dataset shape (28, 5)\n",
      "\n",
      "Generating test vector for  4\n",
      "Test dataset shape (28, 5)\n",
      "\n",
      "Generating test vector for  5\n",
      "Test dataset shape (28, 5)\n",
      "\n",
      "Generating test vector for  6\n",
      "Test dataset shape (28, 5)\n",
      "\n",
      "Generating test vector for  7\n",
      "Test dataset shape (28, 5)\n",
      "\n",
      "Generating test vector for  8\n",
      "Test dataset shape (28, 5)\n",
      "\n",
      "Generating test vector for  9\n",
      "Test dataset shape (28, 5)\n",
      "\n"
     ]
    }
   ],
   "source": [
    "# Create new keys for test feature vector\n",
    "np.random.seed(42)\n",
    "\n",
    "for subj in mod_data.keys():\n",
    "    \n",
    "    print('Generating test vector for ', subj)\n",
    "    \n",
    "    mod_data[subj]['test']= {}  \n",
    "\n",
    "    temp_W = mod_data[subj]['CSP']['W']\n",
    "    temp_EEG_left = mod_data[subj]['left_test']\n",
    "    temp_EEG_right = mod_data[subj]['right_test']\n",
    "      \n",
    "    # LEFT\n",
    "    mod_data[subj]['test']['Z_left'] = compute_Z(temp_W, temp_EEG_left, m)\n",
    "    mod_data[subj]['test']['feat_left'] = feat_vector(mod_data[subj]['test']['Z_left'])\n",
    "    left_label = true_label(mod_data[subj]['test']['feat_left'], hand='left')\n",
    "    \n",
    "    # RIGHT\n",
    "    mod_data[subj]['test']['Z_right'] = compute_Z(temp_W, temp_EEG_right, m)\n",
    "    mod_data[subj]['test']['feat_right'] = feat_vector(mod_data[subj]['test']['Z_right'])     \n",
    "    right_label = true_label(mod_data[subj]['test']['feat_right'], hand='right')\n",
    "\n",
    "    # Combine all trials and labels\n",
    "    left = np.concatenate([mod_data[subj]['test']['feat_left'], left_label], axis=1)\n",
    "    right = np.concatenate([mod_data[subj]['test']['feat_right'], right_label], axis=1)\n",
    "\n",
    "    # Combine all left and right trials\n",
    "    mod_data[subj]['test']['feat_test'] = np.vstack([left, right])\n",
    "    \n",
    "    np.random.shuffle(mod_data[subj]['test']['feat_test'])\n",
    "    \n",
    "    print('Test dataset shape {}\\n'.format(mod_data[subj]['test']['feat_test'].shape))"
   ]
  },
  {
   "cell_type": "code",
   "execution_count": 57,
   "metadata": {},
   "outputs": [
    {
     "data": {
      "text/plain": [
       "array([[-0.54764994, -0.52291841, -0.59991892, -0.78140058,  0.        ],\n",
       "       [-0.78563928, -0.50154629, -0.4974035 , -0.69260143,  1.        ],\n",
       "       [-0.50800975, -0.44099642, -0.73292701, -0.84665142,  0.        ],\n",
       "       [-0.69895462, -0.65752097, -0.50560207, -0.57220645,  1.        ],\n",
       "       [-0.42377025, -0.5038312 , -0.81735151, -0.80309321,  0.        ]])"
      ]
     },
     "execution_count": 57,
     "metadata": {},
     "output_type": "execute_result"
    }
   ],
   "source": [
    "mod_data[1]['test']['feat_test'][:5]"
   ]
  },
  {
   "cell_type": "code",
   "execution_count": null,
   "metadata": {},
   "outputs": [],
   "source": []
  },
  {
   "cell_type": "code",
   "execution_count": null,
   "metadata": {},
   "outputs": [],
   "source": []
  },
  {
   "cell_type": "markdown",
   "metadata": {},
   "source": [
    "### For Aligned"
   ]
  },
  {
   "cell_type": "code",
   "execution_count": 58,
   "metadata": {},
   "outputs": [
    {
     "name": "stdout",
     "output_type": "stream",
     "text": [
      "Generating test vector for  1\n",
      "Test dataset shape (28, 5)\n",
      "\n",
      "Generating test vector for  2\n",
      "Test dataset shape (28, 5)\n",
      "\n",
      "Generating test vector for  3\n",
      "Test dataset shape (28, 5)\n",
      "\n",
      "Generating test vector for  4\n",
      "Test dataset shape (28, 5)\n",
      "\n",
      "Generating test vector for  5\n",
      "Test dataset shape (28, 5)\n",
      "\n",
      "Generating test vector for  6\n",
      "Test dataset shape (28, 5)\n",
      "\n",
      "Generating test vector for  7\n",
      "Test dataset shape (28, 5)\n",
      "\n",
      "Generating test vector for  8\n",
      "Test dataset shape (28, 5)\n",
      "\n",
      "Generating test vector for  9\n",
      "Test dataset shape (28, 5)\n",
      "\n"
     ]
    }
   ],
   "source": [
    "# Create new keys for test feature vector\n",
    "np.random.seed(42)\n",
    "\n",
    "for subj in mod_data.keys():\n",
    "    \n",
    "    print('Generating test vector for ', subj)\n",
    "    \n",
    "    mod_data[subj]['test_EA']= {}  \n",
    "\n",
    "    temp_W = mod_data[subj]['CSP_EA']['W']\n",
    "    temp_EEG_left = mod_data[subj]['left_test_EA']\n",
    "    temp_EEG_right = mod_data[subj]['right_test_EA']\n",
    "      \n",
    "    # LEFT\n",
    "    mod_data[subj]['test_EA']['Z_left'] = compute_Z(temp_W, temp_EEG_left, m)\n",
    "    mod_data[subj]['test_EA']['feat_left'] = feat_vector(mod_data[subj]['test_EA']['Z_left'])\n",
    "    left_label = true_label(mod_data[subj]['test_EA']['feat_left'], hand='left')\n",
    "    \n",
    "    # RIGHT\n",
    "    mod_data[subj]['test_EA']['Z_right'] = compute_Z(temp_W, temp_EEG_right, m)\n",
    "    mod_data[subj]['test_EA']['feat_right'] = feat_vector(mod_data[subj]['test_EA']['Z_right'])     \n",
    "    right_label = true_label(mod_data[subj]['test_EA']['feat_right'], hand='right')\n",
    "\n",
    "    # Combine all trials and labels\n",
    "    left = np.concatenate([mod_data[subj]['test_EA']['feat_left'], left_label], axis=1)\n",
    "    right = np.concatenate([mod_data[subj]['test_EA']['feat_right'], right_label], axis=1)\n",
    "\n",
    "    # Combine all left and right trials\n",
    "    mod_data[subj]['test_EA']['feat_test'] = np.vstack([left, right])\n",
    "    \n",
    "    np.random.shuffle(mod_data[subj]['test_EA']['feat_test'])\n",
    "    \n",
    "    print('Test dataset shape {}\\n'.format(mod_data[subj]['test_EA']['feat_test'].shape))"
   ]
  },
  {
   "cell_type": "code",
   "execution_count": null,
   "metadata": {},
   "outputs": [],
   "source": []
  },
  {
   "cell_type": "markdown",
   "metadata": {},
   "source": [
    "### Is CSP feat from aligned raw equal to Identity?"
   ]
  },
  {
   "cell_type": "code",
   "execution_count": 35,
   "metadata": {},
   "outputs": [],
   "source": [
    "all_feats = mod_data[1]['train']['feat_train'][:, :-1]"
   ]
  },
  {
   "cell_type": "code",
   "execution_count": 36,
   "metadata": {},
   "outputs": [
    {
     "data": {
      "text/plain": [
       "(116, 4)"
      ]
     },
     "execution_count": 36,
     "metadata": {},
     "output_type": "execute_result"
    }
   ],
   "source": [
    "all_feats.shape"
   ]
  },
  {
   "cell_type": "code",
   "execution_count": 37,
   "metadata": {},
   "outputs": [],
   "source": [
    "# Calculate reference matrix\n",
    "R = 0\n",
    "\n",
    "# Iterate over all trials\n",
    "for trial in all_feats:\n",
    "    trial = trial[:, None]\n",
    "    cov = trial@trial.T\n",
    "    R += cov\n",
    "\n",
    "# Average over all trials\n",
    "R = R/all_feats.shape[0]\n",
    "\n",
    "# Compute R^(-0.5)\n",
    "R_inv = sqrtm(inv(R))\n",
    "\n",
    "# Perform alignment on each trial\n",
    "X_hat = []\n",
    "for trial in all_feats:\n",
    "    X_hat.append(R_inv@trial)\n",
    "\n",
    "    \n",
    "X_hat = np.array(X_hat)"
   ]
  },
  {
   "cell_type": "code",
   "execution_count": 38,
   "metadata": {},
   "outputs": [
    {
     "data": {
      "text/plain": [
       "(116, 4)"
      ]
     },
     "execution_count": 38,
     "metadata": {},
     "output_type": "execute_result"
    }
   ],
   "source": [
    "X_hat.shape"
   ]
  },
  {
   "cell_type": "code",
   "execution_count": 44,
   "metadata": {},
   "outputs": [
    {
     "data": {
      "text/html": [
       "<div>\n",
       "<style scoped>\n",
       "    .dataframe tbody tr th:only-of-type {\n",
       "        vertical-align: middle;\n",
       "    }\n",
       "\n",
       "    .dataframe tbody tr th {\n",
       "        vertical-align: top;\n",
       "    }\n",
       "\n",
       "    .dataframe thead th {\n",
       "        text-align: right;\n",
       "    }\n",
       "</style>\n",
       "<table border=\"1\" class=\"dataframe\">\n",
       "  <thead>\n",
       "    <tr style=\"text-align: right;\">\n",
       "      <th></th>\n",
       "      <th>0</th>\n",
       "      <th>1</th>\n",
       "      <th>2</th>\n",
       "      <th>3</th>\n",
       "    </tr>\n",
       "  </thead>\n",
       "  <tbody>\n",
       "    <tr>\n",
       "      <th>0</th>\n",
       "      <td>0.38</td>\n",
       "      <td>0.37</td>\n",
       "      <td>0.37</td>\n",
       "      <td>0.37</td>\n",
       "    </tr>\n",
       "    <tr>\n",
       "      <th>1</th>\n",
       "      <td>0.37</td>\n",
       "      <td>0.38</td>\n",
       "      <td>0.37</td>\n",
       "      <td>0.37</td>\n",
       "    </tr>\n",
       "    <tr>\n",
       "      <th>2</th>\n",
       "      <td>0.37</td>\n",
       "      <td>0.37</td>\n",
       "      <td>0.37</td>\n",
       "      <td>0.37</td>\n",
       "    </tr>\n",
       "    <tr>\n",
       "      <th>3</th>\n",
       "      <td>0.37</td>\n",
       "      <td>0.37</td>\n",
       "      <td>0.37</td>\n",
       "      <td>0.38</td>\n",
       "    </tr>\n",
       "  </tbody>\n",
       "</table>\n",
       "</div>"
      ],
      "text/plain": [
       "      0     1     2     3\n",
       "0  0.38  0.37  0.37  0.37\n",
       "1  0.37  0.38  0.37  0.37\n",
       "2  0.37  0.37  0.37  0.37\n",
       "3  0.37  0.37  0.37  0.38"
      ]
     },
     "execution_count": 44,
     "metadata": {},
     "output_type": "execute_result"
    }
   ],
   "source": [
    "all_feats = mod_data[5]['train_alg']['feat_train'][:, :-1]\n",
    "\n",
    "summ=0\n",
    "for tr in all_feats:\n",
    "    tr = tr[:, None]\n",
    "    summ += tr@tr.T\n",
    "    \n",
    "    I = summ/all_feats.shape[0]\n",
    "    I = pd.DataFrame(np.round(I, 2))\n",
    "    \n",
    "I"
   ]
  },
  {
   "cell_type": "code",
   "execution_count": null,
   "metadata": {},
   "outputs": [],
   "source": []
  },
  {
   "cell_type": "code",
   "execution_count": null,
   "metadata": {},
   "outputs": [],
   "source": []
  },
  {
   "cell_type": "markdown",
   "metadata": {},
   "source": [
    "### Comparing feature distribution of not-aligned vs aligned raw EEG"
   ]
  },
  {
   "cell_type": "code",
   "execution_count": 45,
   "metadata": {},
   "outputs": [],
   "source": [
    "from sklearn.manifold import TSNE"
   ]
  },
  {
   "cell_type": "code",
   "execution_count": 49,
   "metadata": {},
   "outputs": [
    {
     "name": "stdout",
     "output_type": "stream",
     "text": [
      "Processing subject:  1\n",
      "Processing subject:  2\n",
      "Processing subject:  3\n",
      "Processing subject:  4\n",
      "Processing subject:  5\n",
      "Processing subject:  6\n",
      "Processing subject:  7\n",
      "Processing subject:  8\n",
      "Processing subject:  9\n"
     ]
    }
   ],
   "source": [
    "X_alg = np.array([])\n",
    "X = np.array([])\n",
    "\n",
    "list_subj = []\n",
    "\n",
    "for subj in mod_data.keys():\n",
    "    print('Processing subject: ', subj)\n",
    "    feat_alg = mod_data[subj]['train_alg']['feat_train'][:, :-1]\n",
    "    feat = mod_data[subj]['train']['feat_train'][:, :-1]\n",
    "\n",
    "    if (len(X) == 0) or (len(X_alg) == 0):\n",
    "        X = feat\n",
    "        X_alg = feat_alg\n",
    "    else:\n",
    "        X = np.vstack([X, feat])\n",
    "        X_alg = np.vstack([X_alg, feat])\n",
    "        \n",
    "    list_subj.append([subj]*len(feat))\n",
    "    \n",
    "list_subj = np.array(list_subj).ravel()\n",
    "X_sne = TSNE(n_iter=1000).fit_transform(X)\n",
    "X_sne_alg = TSNE(n_iter=1000).fit_transform(X_alg)"
   ]
  },
  {
   "cell_type": "code",
   "execution_count": 50,
   "metadata": {},
   "outputs": [
    {
     "name": "stdout",
     "output_type": "stream",
     "text": [
      "(1044, 2)\n",
      "(1044, 2)\n"
     ]
    }
   ],
   "source": [
    "print(X_sne.shape)\n",
    "print(X_sne_alg.shape)"
   ]
  },
  {
   "cell_type": "code",
   "execution_count": 51,
   "metadata": {},
   "outputs": [],
   "source": [
    "# Define palette\n",
    "import seaborn as sns"
   ]
  },
  {
   "cell_type": "code",
   "execution_count": 52,
   "metadata": {},
   "outputs": [],
   "source": [
    "palette = np.array(sns.color_palette(palette='bright', n_colors=10))"
   ]
  },
  {
   "cell_type": "code",
   "execution_count": 384,
   "metadata": {},
   "outputs": [
    {
     "data": {
      "image/png": "[encoded data removed]",
      "text/plain": [
       "<Figure size 576x576 with 1 Axes>"
      ]
     },
     "metadata": {
      "needs_background": "light"
     },
     "output_type": "display_data"
    }
   ],
   "source": [
    "f = plt.figure(figsize=(8, 8))\n",
    "ax = plt.subplots(aspect='equal')\n",
    "\n",
    "for i in np.unique(list_subj)[:3]:\n",
    "    sc = ax.scatter(X_embed[list_subj==i][:, 0], X_embed[list_subj==i][:, 1], lw=0, s=40, color=palette[i], label=i)\n",
    "    ax.legend()\n",
    "    ax.axis('off')\n",
    "    ax.axis('tight')\n",
    "\n",
    "plt.show()"
   ]
  },
  {
   "cell_type": "code",
   "execution_count": 385,
   "metadata": {},
   "outputs": [
    {
     "data": {
      "image/png": "[encoded data removed]",
      "text/plain": [
       "<Figure size 576x576 with 1 Axes>"
      ]
     },
     "metadata": {
      "needs_background": "light"
     },
     "output_type": "display_data"
    }
   ],
   "source": [
    "f = plt.figure(figsize=(8, 8))\n",
    "ax = plt.subplot(aspect='equal')\n",
    "\n",
    "for i in np.unique(list_subj)[:3]:\n",
    "    sc = ax.scatter(X_embed[list_subj==i][:, 0], X_embed[list_subj==i][:, 1], lw=0, s=40, color=palette[i], label=i)\n",
    "    ax.legend()\n",
    "    ax.axis('off')\n",
    "    ax.axis('tight')\n",
    "\n",
    "plt.show()"
   ]
  },
  {
   "cell_type": "code",
   "execution_count": null,
   "metadata": {},
   "outputs": [],
   "source": []
  },
  {
   "cell_type": "code",
   "execution_count": null,
   "metadata": {},
   "outputs": [],
   "source": []
  },
  {
   "cell_type": "code",
   "execution_count": null,
   "metadata": {},
   "outputs": [],
   "source": []
  },
  {
   "cell_type": "code",
   "execution_count": null,
   "metadata": {},
   "outputs": [],
   "source": []
  },
  {
   "cell_type": "code",
   "execution_count": null,
   "metadata": {},
   "outputs": [],
   "source": []
  },
  {
   "cell_type": "code",
   "execution_count": null,
   "metadata": {},
   "outputs": [],
   "source": []
  },
  {
   "cell_type": "code",
   "execution_count": null,
   "metadata": {},
   "outputs": [],
   "source": []
  },
  {
   "cell_type": "code",
   "execution_count": null,
   "metadata": {},
   "outputs": [],
   "source": []
  },
  {
   "cell_type": "code",
   "execution_count": null,
   "metadata": {},
   "outputs": [],
   "source": []
  },
  {
   "cell_type": "code",
   "execution_count": null,
   "metadata": {},
   "outputs": [],
   "source": []
  },
  {
   "cell_type": "code",
   "execution_count": null,
   "metadata": {},
   "outputs": [],
   "source": []
  },
  {
   "cell_type": "code",
   "execution_count": null,
   "metadata": {},
   "outputs": [],
   "source": []
  },
  {
   "cell_type": "code",
   "execution_count": null,
   "metadata": {},
   "outputs": [],
   "source": []
  },
  {
   "cell_type": "code",
   "execution_count": null,
   "metadata": {},
   "outputs": [],
   "source": []
  },
  {
   "cell_type": "code",
   "execution_count": 290,
   "metadata": {},
   "outputs": [
    {
     "data": {
      "text/plain": [
       "(1044, 4)"
      ]
     },
     "execution_count": 290,
     "metadata": {},
     "output_type": "execute_result"
    }
   ],
   "source": [
    "X.shape"
   ]
  },
  {
   "cell_type": "code",
   "execution_count": 291,
   "metadata": {},
   "outputs": [
    {
     "data": {
      "text/plain": [
       "9"
      ]
     },
     "execution_count": 291,
     "metadata": {},
     "output_type": "execute_result"
    }
   ],
   "source": [
    "len(list_subj)"
   ]
  },
  {
   "cell_type": "code",
   "execution_count": 307,
   "metadata": {},
   "outputs": [
    {
     "data": {
      "text/plain": [
       "array([2, 2, 2, 2, 2, 2, 2, 2, 2, 2, 2, 2, 2, 2, 2, 2, 2, 2, 2, 2, 2, 2,\n",
       "       2, 2, 2, 2, 2, 2, 2, 2, 2, 2, 2, 2, 2, 2, 2, 2, 2, 2, 2, 2, 2, 2,\n",
       "       2, 2, 2, 2, 2, 2, 2, 2, 2, 2, 2, 2, 2, 2, 2, 2, 2, 2, 2, 2, 2, 2,\n",
       "       2, 2, 2, 2, 2, 2, 2, 2, 2, 2, 2, 2, 2, 2, 2, 2, 2, 2, 2, 2, 2, 2,\n",
       "       2, 2, 2, 2, 2, 2, 2, 2, 2, 2, 2, 2, 2, 2, 2, 2, 2, 2, 2, 2, 2, 2,\n",
       "       2, 2, 2, 2, 2, 2])"
      ]
     },
     "execution_count": 307,
     "metadata": {},
     "output_type": "execute_result"
    }
   ],
   "source": [
    "list_subj[116:232]"
   ]
  },
  {
   "cell_type": "code",
   "execution_count": null,
   "metadata": {},
   "outputs": [],
   "source": []
  },
  {
   "cell_type": "code",
   "execution_count": null,
   "metadata": {},
   "outputs": [],
   "source": []
  },
  {
   "cell_type": "code",
   "execution_count": null,
   "metadata": {},
   "outputs": [],
   "source": []
  },
  {
   "cell_type": "code",
   "execution_count": null,
   "metadata": {},
   "outputs": [],
   "source": []
  },
  {
   "cell_type": "code",
   "execution_count": 285,
   "metadata": {},
   "outputs": [],
   "source": [
    "list_subj=[]"
   ]
  },
  {
   "cell_type": "code",
   "execution_count": 286,
   "metadata": {},
   "outputs": [],
   "source": [
    "list_subj.append([1]*len(feat))"
   ]
  },
  {
   "cell_type": "code",
   "execution_count": 293,
   "metadata": {},
   "outputs": [
    {
     "data": {
      "text/plain": [
       "9"
      ]
     },
     "execution_count": 293,
     "metadata": {},
     "output_type": "execute_result"
    }
   ],
   "source": [
    "len(list_subj)"
   ]
  },
  {
   "cell_type": "code",
   "execution_count": 296,
   "metadata": {},
   "outputs": [],
   "source": [
    "aaa = np.array(list_subj).ravel()"
   ]
  },
  {
   "cell_type": "code",
   "execution_count": 298,
   "metadata": {},
   "outputs": [
    {
     "data": {
      "text/plain": [
       "(1044,)"
      ]
     },
     "execution_count": 298,
     "metadata": {},
     "output_type": "execute_result"
    }
   ],
   "source": [
    "aaa"
   ]
  },
  {
   "cell_type": "code",
   "execution_count": null,
   "metadata": {},
   "outputs": [],
   "source": []
  },
  {
   "cell_type": "code",
   "execution_count": null,
   "metadata": {},
   "outputs": [],
   "source": []
  },
  {
   "cell_type": "code",
   "execution_count": 246,
   "metadata": {},
   "outputs": [],
   "source": [
    "del aa"
   ]
  },
  {
   "cell_type": "code",
   "execution_count": 249,
   "metadata": {},
   "outputs": [],
   "source": [
    "aa = np.array([])"
   ]
  },
  {
   "cell_type": "code",
   "execution_count": 258,
   "metadata": {},
   "outputs": [],
   "source": [
    "if len(aa) == 0:\n",
    "    aa = b\n",
    "else:\n",
    "    aa = np.concatenate([aa, b])"
   ]
  },
  {
   "cell_type": "code",
   "execution_count": 259,
   "metadata": {},
   "outputs": [
    {
     "data": {
      "text/plain": [
       "array([[4, 2, 4],\n",
       "       [4, 3, 2],\n",
       "       [1, 2, 3],\n",
       "       [4, 2, 4],\n",
       "       [4, 3, 2],\n",
       "       [1, 2, 3],\n",
       "       [4, 2, 4],\n",
       "       [4, 3, 2],\n",
       "       [1, 2, 3]])"
      ]
     },
     "execution_count": 259,
     "metadata": {},
     "output_type": "execute_result"
    }
   ],
   "source": [
    "aa"
   ]
  },
  {
   "cell_type": "code",
   "execution_count": 252,
   "metadata": {},
   "outputs": [],
   "source": [
    "b = np.random.randint(1, 5, 9).reshape(3, 3)"
   ]
  },
  {
   "cell_type": "code",
   "execution_count": 253,
   "metadata": {},
   "outputs": [
    {
     "data": {
      "text/plain": [
       "array([[4, 2, 4],\n",
       "       [4, 3, 2],\n",
       "       [1, 2, 3]])"
      ]
     },
     "execution_count": 253,
     "metadata": {},
     "output_type": "execute_result"
    }
   ],
   "source": [
    "b"
   ]
  },
  {
   "cell_type": "code",
   "execution_count": null,
   "metadata": {},
   "outputs": [],
   "source": []
  },
  {
   "cell_type": "code",
   "execution_count": 37,
   "metadata": {},
   "outputs": [
    {
     "data": {
      "text/plain": [
       "(116, 4)"
      ]
     },
     "execution_count": 37,
     "metadata": {},
     "output_type": "execute_result"
    }
   ],
   "source": [
    "cek = mod_data[1]['train']['feat_train'][:, :-1]\n",
    "cek.shape"
   ]
  },
  {
   "cell_type": "code",
   "execution_count": 44,
   "metadata": {},
   "outputs": [
    {
     "data": {
      "text/html": [
       "<div>\n",
       "<style scoped>\n",
       "    .dataframe tbody tr th:only-of-type {\n",
       "        vertical-align: middle;\n",
       "    }\n",
       "\n",
       "    .dataframe tbody tr th {\n",
       "        vertical-align: top;\n",
       "    }\n",
       "\n",
       "    .dataframe thead th {\n",
       "        text-align: right;\n",
       "    }\n",
       "</style>\n",
       "<table border=\"1\" class=\"dataframe\">\n",
       "  <thead>\n",
       "    <tr style=\"text-align: right;\">\n",
       "      <th></th>\n",
       "      <th>0</th>\n",
       "      <th>1</th>\n",
       "      <th>2</th>\n",
       "      <th>3</th>\n",
       "    </tr>\n",
       "  </thead>\n",
       "  <tbody>\n",
       "    <tr>\n",
       "      <th>0</th>\n",
       "      <td>-0.808510</td>\n",
       "      <td>-0.660016</td>\n",
       "      <td>-0.486234</td>\n",
       "      <td>-0.523740</td>\n",
       "    </tr>\n",
       "    <tr>\n",
       "      <th>1</th>\n",
       "      <td>-0.408099</td>\n",
       "      <td>-0.501562</td>\n",
       "      <td>-0.856289</td>\n",
       "      <td>-0.809856</td>\n",
       "    </tr>\n",
       "    <tr>\n",
       "      <th>2</th>\n",
       "      <td>-0.450612</td>\n",
       "      <td>-0.535154</td>\n",
       "      <td>-0.782510</td>\n",
       "      <td>-0.723436</td>\n",
       "    </tr>\n",
       "    <tr>\n",
       "      <th>3</th>\n",
       "      <td>-0.629330</td>\n",
       "      <td>-0.575537</td>\n",
       "      <td>-0.468968</td>\n",
       "      <td>-0.796366</td>\n",
       "    </tr>\n",
       "    <tr>\n",
       "      <th>4</th>\n",
       "      <td>-0.714355</td>\n",
       "      <td>-0.539466</td>\n",
       "      <td>-0.529490</td>\n",
       "      <td>-0.652212</td>\n",
       "    </tr>\n",
       "    <tr>\n",
       "      <th>...</th>\n",
       "      <td>...</td>\n",
       "      <td>...</td>\n",
       "      <td>...</td>\n",
       "      <td>...</td>\n",
       "    </tr>\n",
       "    <tr>\n",
       "      <th>111</th>\n",
       "      <td>-0.845827</td>\n",
       "      <td>-0.680004</td>\n",
       "      <td>-0.506660</td>\n",
       "      <td>-0.472319</td>\n",
       "    </tr>\n",
       "    <tr>\n",
       "      <th>112</th>\n",
       "      <td>-0.623381</td>\n",
       "      <td>-0.686391</td>\n",
       "      <td>-0.549838</td>\n",
       "      <td>-0.562002</td>\n",
       "    </tr>\n",
       "    <tr>\n",
       "      <th>113</th>\n",
       "      <td>-0.887604</td>\n",
       "      <td>-0.768211</td>\n",
       "      <td>-0.487944</td>\n",
       "      <td>-0.426191</td>\n",
       "    </tr>\n",
       "    <tr>\n",
       "      <th>114</th>\n",
       "      <td>-0.436771</td>\n",
       "      <td>-0.551932</td>\n",
       "      <td>-0.689931</td>\n",
       "      <td>-0.825595</td>\n",
       "    </tr>\n",
       "    <tr>\n",
       "      <th>115</th>\n",
       "      <td>-0.825858</td>\n",
       "      <td>-0.734828</td>\n",
       "      <td>-0.424348</td>\n",
       "      <td>-0.537423</td>\n",
       "    </tr>\n",
       "  </tbody>\n",
       "</table>\n",
       "<p>116 rows × 4 columns</p>\n",
       "</div>"
      ],
      "text/plain": [
       "            0         1         2         3\n",
       "0   -0.808510 -0.660016 -0.486234 -0.523740\n",
       "1   -0.408099 -0.501562 -0.856289 -0.809856\n",
       "2   -0.450612 -0.535154 -0.782510 -0.723436\n",
       "3   -0.629330 -0.575537 -0.468968 -0.796366\n",
       "4   -0.714355 -0.539466 -0.529490 -0.652212\n",
       "..        ...       ...       ...       ...\n",
       "111 -0.845827 -0.680004 -0.506660 -0.472319\n",
       "112 -0.623381 -0.686391 -0.549838 -0.562002\n",
       "113 -0.887604 -0.768211 -0.487944 -0.426191\n",
       "114 -0.436771 -0.551932 -0.689931 -0.825595\n",
       "115 -0.825858 -0.734828 -0.424348 -0.537423\n",
       "\n",
       "[116 rows x 4 columns]"
      ]
     },
     "execution_count": 44,
     "metadata": {},
     "output_type": "execute_result"
    }
   ],
   "source": [
    "dframe(cek)"
   ]
  },
  {
   "cell_type": "code",
   "execution_count": 40,
   "metadata": {},
   "outputs": [],
   "source": [
    "tsne = TSNE(n_components=2, perplexity=30, n_iter=1000, verbose=1)"
   ]
  },
  {
   "cell_type": "code",
   "execution_count": 48,
   "metadata": {},
   "outputs": [
    {
     "name": "stdout",
     "output_type": "stream",
     "text": [
      "[t-SNE] Computing 91 nearest neighbors...\n",
      "[t-SNE] Indexed 116 samples in 0.000s...\n",
      "[t-SNE] Computed neighbors for 116 samples in 0.001s...\n",
      "[t-SNE] Computed conditional probabilities for sample 116 / 116\n",
      "[t-SNE] Mean sigma: 0.108572\n",
      "[t-SNE] KL divergence after 250 iterations with early exaggeration: 51.217098\n",
      "[t-SNE] KL divergence after 750 iterations: 0.178550\n"
     ]
    }
   ],
   "source": [
    "new_cek = tsne.fit_transform(cek)"
   ]
  },
  {
   "cell_type": "code",
   "execution_count": 50,
   "metadata": {},
   "outputs": [
    {
     "data": {
      "text/html": [
       "<div>\n",
       "<style scoped>\n",
       "    .dataframe tbody tr th:only-of-type {\n",
       "        vertical-align: middle;\n",
       "    }\n",
       "\n",
       "    .dataframe tbody tr th {\n",
       "        vertical-align: top;\n",
       "    }\n",
       "\n",
       "    .dataframe thead th {\n",
       "        text-align: right;\n",
       "    }\n",
       "</style>\n",
       "<table border=\"1\" class=\"dataframe\">\n",
       "  <thead>\n",
       "    <tr style=\"text-align: right;\">\n",
       "      <th></th>\n",
       "      <th>0</th>\n",
       "      <th>1</th>\n",
       "    </tr>\n",
       "  </thead>\n",
       "  <tbody>\n",
       "    <tr>\n",
       "      <th>0</th>\n",
       "      <td>-5.444751</td>\n",
       "      <td>-0.722711</td>\n",
       "    </tr>\n",
       "    <tr>\n",
       "      <th>1</th>\n",
       "      <td>2.711400</td>\n",
       "      <td>-11.772081</td>\n",
       "    </tr>\n",
       "    <tr>\n",
       "      <th>2</th>\n",
       "      <td>2.418437</td>\n",
       "      <td>-10.558172</td>\n",
       "    </tr>\n",
       "    <tr>\n",
       "      <th>3</th>\n",
       "      <td>1.742441</td>\n",
       "      <td>-5.806313</td>\n",
       "    </tr>\n",
       "    <tr>\n",
       "      <th>4</th>\n",
       "      <td>0.001353</td>\n",
       "      <td>-4.193713</td>\n",
       "    </tr>\n",
       "    <tr>\n",
       "      <th>...</th>\n",
       "      <td>...</td>\n",
       "      <td>...</td>\n",
       "    </tr>\n",
       "    <tr>\n",
       "      <th>111</th>\n",
       "      <td>-5.988103</td>\n",
       "      <td>0.827369</td>\n",
       "    </tr>\n",
       "    <tr>\n",
       "      <th>112</th>\n",
       "      <td>-3.277307</td>\n",
       "      <td>-5.463563</td>\n",
       "    </tr>\n",
       "    <tr>\n",
       "      <th>113</th>\n",
       "      <td>-7.245087</td>\n",
       "      <td>1.829665</td>\n",
       "    </tr>\n",
       "    <tr>\n",
       "      <th>114</th>\n",
       "      <td>1.221289</td>\n",
       "      <td>-11.040916</td>\n",
       "    </tr>\n",
       "    <tr>\n",
       "      <th>115</th>\n",
       "      <td>-7.470093</td>\n",
       "      <td>-0.333676</td>\n",
       "    </tr>\n",
       "  </tbody>\n",
       "</table>\n",
       "<p>116 rows × 2 columns</p>\n",
       "</div>"
      ],
      "text/plain": [
       "            0          1\n",
       "0   -5.444751  -0.722711\n",
       "1    2.711400 -11.772081\n",
       "2    2.418437 -10.558172\n",
       "3    1.742441  -5.806313\n",
       "4    0.001353  -4.193713\n",
       "..        ...        ...\n",
       "111 -5.988103   0.827369\n",
       "112 -3.277307  -5.463563\n",
       "113 -7.245087   1.829665\n",
       "114  1.221289 -11.040916\n",
       "115 -7.470093  -0.333676\n",
       "\n",
       "[116 rows x 2 columns]"
      ]
     },
     "execution_count": 50,
     "metadata": {},
     "output_type": "execute_result"
    }
   ],
   "source": [
    "dframe(new_cek)"
   ]
  },
  {
   "cell_type": "code",
   "execution_count": null,
   "metadata": {},
   "outputs": [],
   "source": []
  },
  {
   "cell_type": "code",
   "execution_count": null,
   "metadata": {},
   "outputs": [],
   "source": []
  },
  {
   "cell_type": "code",
   "execution_count": null,
   "metadata": {},
   "outputs": [],
   "source": []
  },
  {
   "cell_type": "code",
   "execution_count": null,
   "metadata": {},
   "outputs": [],
   "source": []
  },
  {
   "cell_type": "code",
   "execution_count": null,
   "metadata": {},
   "outputs": [],
   "source": []
  },
  {
   "cell_type": "code",
   "execution_count": null,
   "metadata": {},
   "outputs": [],
   "source": []
  },
  {
   "cell_type": "code",
   "execution_count": null,
   "metadata": {},
   "outputs": [],
   "source": []
  },
  {
   "cell_type": "code",
   "execution_count": null,
   "metadata": {},
   "outputs": [],
   "source": []
  },
  {
   "cell_type": "code",
   "execution_count": null,
   "metadata": {},
   "outputs": [],
   "source": []
  },
  {
   "cell_type": "code",
   "execution_count": null,
   "metadata": {},
   "outputs": [],
   "source": []
  },
  {
   "cell_type": "code",
   "execution_count": 154,
   "metadata": {},
   "outputs": [],
   "source": [
    "import numpy as np\n",
    "from numpy import linalg\n",
    "from numpy.linalg import norm\n",
    "from scipy.spatial.distance import squareform, pdist\n",
    "\n",
    "# We import sklearn.\n",
    "import sklearn\n",
    "from sklearn.manifold import TSNE\n",
    "from sklearn.datasets import load_digits\n",
    "from sklearn.preprocessing import scale"
   ]
  },
  {
   "cell_type": "code",
   "execution_count": 155,
   "metadata": {},
   "outputs": [
    {
     "data": {
      "text/plain": [
       "(1797, 64)"
      ]
     },
     "execution_count": 155,
     "metadata": {},
     "output_type": "execute_result"
    }
   ],
   "source": [
    "digits = load_digits()\n",
    "digits.data.shape"
   ]
  },
  {
   "cell_type": "code",
   "execution_count": 142,
   "metadata": {},
   "outputs": [
    {
     "data": {
      "text/plain": [
       "sklearn.utils.Bunch"
      ]
     },
     "execution_count": 142,
     "metadata": {},
     "output_type": "execute_result"
    }
   ],
   "source": [
    "type(digits)"
   ]
  },
  {
   "cell_type": "code",
   "execution_count": 156,
   "metadata": {},
   "outputs": [],
   "source": [
    "X = np.vstack([digits.data[digits.target==i] for i in range(10)])"
   ]
  },
  {
   "cell_type": "code",
   "execution_count": 157,
   "metadata": {},
   "outputs": [],
   "source": [
    "y = np.hstack([digits.target[digits.target==i] for i in range(10)])"
   ]
  },
  {
   "cell_type": "code",
   "execution_count": 159,
   "metadata": {},
   "outputs": [
    {
     "data": {
      "text/plain": [
       "array([0, 0, 0, 0, 0, 0, 0, 0, 0, 0, 0, 0, 0, 0, 0, 0, 0, 0, 0, 0])"
      ]
     },
     "execution_count": 159,
     "metadata": {},
     "output_type": "execute_result"
    }
   ],
   "source": [
    "y[:20]"
   ]
  },
  {
   "cell_type": "code",
   "execution_count": 176,
   "metadata": {},
   "outputs": [
    {
     "data": {
      "text/plain": [
       "<matplotlib.image.AxesImage at 0x29826c96cc8>"
      ]
     },
     "execution_count": 176,
     "metadata": {},
     "output_type": "execute_result"
    },
    {
     "data": {
      "image/png": "[encoded data removed]",
      "text/plain": [
       "<Figure size 216x216 with 1 Axes>"
      ]
     },
     "metadata": {
      "needs_background": "light"
     },
     "output_type": "display_data"
    }
   ],
   "source": [
    "plt.figure(figsize=(3, 3))\n",
    "plt.imshow(X[20].reshape(8, -1), interpolation='hanning', cmap='gray')"
   ]
  },
  {
   "cell_type": "code",
   "execution_count": null,
   "metadata": {},
   "outputs": [],
   "source": []
  },
  {
   "cell_type": "code",
   "execution_count": null,
   "metadata": {},
   "outputs": [],
   "source": []
  },
  {
   "cell_type": "code",
   "execution_count": null,
   "metadata": {},
   "outputs": [],
   "source": []
  },
  {
   "cell_type": "code",
   "execution_count": null,
   "metadata": {},
   "outputs": [],
   "source": []
  },
  {
   "cell_type": "code",
   "execution_count": 195,
   "metadata": {},
   "outputs": [],
   "source": [
    "dig = TSNE(n_iter=2000).fit_transform(X)"
   ]
  },
  {
   "cell_type": "code",
   "execution_count": 121,
   "metadata": {},
   "outputs": [
    {
     "data": {
      "text/plain": [
       "array([0, 1, 2, 3, 4, 5, 6, 7, 8, 9])"
      ]
     },
     "execution_count": 121,
     "metadata": {},
     "output_type": "execute_result"
    }
   ],
   "source": [
    "np.unique(y)"
   ]
  },
  {
   "cell_type": "code",
   "execution_count": 127,
   "metadata": {},
   "outputs": [],
   "source": [
    "np.random.seed(42)\n",
    "colorlist=dict()\n",
    "for i in np.unique(y):\n",
    "    colorlist[i] =np.random.rand(3, )"
   ]
  },
  {
   "cell_type": "code",
   "execution_count": 128,
   "metadata": {},
   "outputs": [
    {
     "data": {
      "text/plain": [
       "{0: array([0.37454012, 0.95071431, 0.73199394]),\n",
       " 1: array([0.59865848, 0.15601864, 0.15599452]),\n",
       " 2: array([0.05808361, 0.86617615, 0.60111501]),\n",
       " 3: array([0.70807258, 0.02058449, 0.96990985]),\n",
       " 4: array([0.83244264, 0.21233911, 0.18182497]),\n",
       " 5: array([0.18340451, 0.30424224, 0.52475643]),\n",
       " 6: array([0.43194502, 0.29122914, 0.61185289]),\n",
       " 7: array([0.13949386, 0.29214465, 0.36636184]),\n",
       " 8: array([0.45606998, 0.78517596, 0.19967378]),\n",
       " 9: array([0.51423444, 0.59241457, 0.04645041])}"
      ]
     },
     "execution_count": 128,
     "metadata": {},
     "output_type": "execute_result"
    }
   ],
   "source": [
    "colorlist"
   ]
  },
  {
   "cell_type": "code",
   "execution_count": 178,
   "metadata": {},
   "outputs": [],
   "source": [
    "import seaborn as sns"
   ]
  },
  {
   "cell_type": "code",
   "execution_count": 181,
   "metadata": {},
   "outputs": [],
   "source": [
    "palette = np.array(sns.color_palette(\"hls\", 10))"
   ]
  },
  {
   "cell_type": "code",
   "execution_count": 182,
   "metadata": {},
   "outputs": [
    {
     "data": {
      "text/plain": [
       "array([[0.86  , 0.3712, 0.34  ],\n",
       "       [0.86  , 0.6832, 0.34  ],\n",
       "       [0.7248, 0.86  , 0.34  ],\n",
       "       [0.4128, 0.86  , 0.34  ],\n",
       "       [0.34  , 0.86  , 0.5792],\n",
       "       [0.34  , 0.8288, 0.86  ],\n",
       "       [0.34  , 0.5168, 0.86  ],\n",
       "       [0.4752, 0.34  , 0.86  ],\n",
       "       [0.7872, 0.34  , 0.86  ],\n",
       "       [0.86  , 0.34  , 0.6208]])"
      ]
     },
     "execution_count": 182,
     "metadata": {},
     "output_type": "execute_result"
    }
   ],
   "source": [
    "palette"
   ]
  },
  {
   "cell_type": "code",
   "execution_count": 150,
   "metadata": {},
   "outputs": [
    {
     "data": {
      "text/plain": [
       "(1797,)"
      ]
     },
     "execution_count": 150,
     "metadata": {},
     "output_type": "execute_result"
    }
   ],
   "source": [
    "y.shape"
   ]
  },
  {
   "cell_type": "code",
   "execution_count": 151,
   "metadata": {},
   "outputs": [
    {
     "data": {
      "text/plain": [
       "array([0, 0, 0, ..., 9, 9, 9])"
      ]
     },
     "execution_count": 151,
     "metadata": {},
     "output_type": "execute_result"
    }
   ],
   "source": [
    "y.astype(np.int)"
   ]
  },
  {
   "cell_type": "code",
   "execution_count": null,
   "metadata": {},
   "outputs": [],
   "source": []
  },
  {
   "cell_type": "code",
   "execution_count": null,
   "metadata": {},
   "outputs": [],
   "source": []
  },
  {
   "cell_type": "code",
   "execution_count": 196,
   "metadata": {},
   "outputs": [
    {
     "data": {
      "image/png": "[encoded data removed]",
      "text/plain": [
       "<Figure size 576x576 with 1 Axes>"
      ]
     },
     "metadata": {
      "needs_background": "light"
     },
     "output_type": "display_data"
    }
   ],
   "source": [
    "f = plt.figure(figsize=(8, 8))\n",
    "ax = plt.subplot(aspect='equal')\n",
    "sc = ax.scatter(dig[:, 0], dig[:, 1], lw=0, s=40, c=palette[y.astype(np.int)])\n",
    "ax.axis('off')\n",
    "ax.axis('tight')\n",
    "plt.show()"
   ]
  },
  {
   "cell_type": "code",
   "execution_count": 194,
   "metadata": {},
   "outputs": [
    {
     "data": {
      "text/plain": [
       "(-65.14748973846436, 65.0366231918335, -66.32433757781982, 84.2858434677124)"
      ]
     },
     "execution_count": 194,
     "metadata": {},
     "output_type": "execute_result"
    },
    {
     "data": {
      "image/png": "[encoded data removed]",
      "text/plain": [
       "<Figure size 576x576 with 1 Axes>"
      ]
     },
     "metadata": {
      "needs_background": "light"
     },
     "output_type": "display_data"
    }
   ],
   "source": [
    "f = plt.figure(figsize=(8, 8))\n",
    "ax = plt.subplot(aspect='equal')\n",
    "sc = ax.scatter(dig[:, 0], dig[:, 1], lw=0, s=40, c=palette[y.astype(np.int)])\n",
    "ax.axis('off')\n",
    "ax.axis('tight')\n",
    "plt.show()"
   ]
  },
  {
   "cell_type": "code",
   "execution_count": null,
   "metadata": {},
   "outputs": [],
   "source": []
  },
  {
   "cell_type": "code",
   "execution_count": null,
   "metadata": {},
   "outputs": [],
   "source": []
  },
  {
   "cell_type": "code",
   "execution_count": null,
   "metadata": {},
   "outputs": [],
   "source": []
  },
  {
   "cell_type": "code",
   "execution_count": 192,
   "metadata": {},
   "outputs": [],
   "source": [
    "colorlist = np.array(sns.color_palette('hls', 10))"
   ]
  },
  {
   "cell_type": "code",
   "execution_count": 193,
   "metadata": {},
   "outputs": [
    {
     "data": {
      "image/png": "[encoded data removed]",
      "text/plain": [
       "<Figure size 576x576 with 1 Axes>"
      ]
     },
     "metadata": {
      "needs_background": "light"
     },
     "output_type": "display_data"
    }
   ],
   "source": [
    "f = plt.figure(figsize=(8, 8))\n",
    "ax = plt.subplot(aspect='equal')\n",
    "for i in np.unique(y):\n",
    "    sc = ax.scatter(dig[y==i][:, 0], dig[y==i][:, 1], lw=0, s=40, color=colorlist[i], label=i)\n",
    "    ax.legend()\n",
    "    ax.axis('off')\n",
    "    ax.axis('tight')\n",
    "\n",
    "plt.show()"
   ]
  },
  {
   "cell_type": "code",
   "execution_count": null,
   "metadata": {},
   "outputs": [],
   "source": []
  },
  {
   "cell_type": "code",
   "execution_count": null,
   "metadata": {},
   "outputs": [],
   "source": []
  },
  {
   "cell_type": "code",
   "execution_count": null,
   "metadata": {},
   "outputs": [],
   "source": []
  },
  {
   "cell_type": "code",
   "execution_count": 83,
   "metadata": {},
   "outputs": [],
   "source": [
    "import matplotlib as mpl"
   ]
  },
  {
   "cell_type": "code",
   "execution_count": 84,
   "metadata": {},
   "outputs": [],
   "source": [
    "N = 20"
   ]
  },
  {
   "cell_type": "code",
   "execution_count": 97,
   "metadata": {},
   "outputs": [
    {
     "data": {
      "image/png": "[encoded data removed]",
      "text/plain": [
       "<Figure size 432x432 with 1 Axes>"
      ]
     },
     "metadata": {
      "needs_background": "light"
     },
     "output_type": "display_data"
    }
   ],
   "source": [
    "fig, ax = plt.subplots(1, 1, figsize=(6, 6))\n",
    "\n",
    "x = np.random.rand(1000)\n",
    "y = np.random.rand(1000)\n",
    "tag = np.random.randint(0,N,1000)\n",
    "\n",
    "cmap = plt.cm.jet\n",
    "\n",
    "cmaplist = [cmap(i) for i in range(cmap.N)]\n",
    "\n",
    "cmap = cmap.from_list('Custom cmap', cmaplist, cmap.N)\n"
   ]
  },
  {
   "cell_type": "code",
   "execution_count": 98,
   "metadata": {},
   "outputs": [
    {
     "data": {
      "text/plain": [
       "<matplotlib.colors.LinearSegmentedColormap at 0x29826471808>"
      ]
     },
     "execution_count": 98,
     "metadata": {},
     "output_type": "execute_result"
    }
   ],
   "source": [
    "cmap"
   ]
  },
  {
   "cell_type": "code",
   "execution_count": null,
   "metadata": {},
   "outputs": [],
   "source": []
  },
  {
   "cell_type": "code",
   "execution_count": null,
   "metadata": {},
   "outputs": [],
   "source": []
  },
  {
   "cell_type": "code",
   "execution_count": null,
   "metadata": {},
   "outputs": [],
   "source": []
  },
  {
   "cell_type": "code",
   "execution_count": null,
   "metadata": {},
   "outputs": [],
   "source": []
  },
  {
   "cell_type": "code",
   "execution_count": null,
   "metadata": {},
   "outputs": [],
   "source": []
  },
  {
   "cell_type": "code",
   "execution_count": null,
   "metadata": {},
   "outputs": [],
   "source": []
  },
  {
   "cell_type": "code",
   "execution_count": null,
   "metadata": {},
   "outputs": [],
   "source": []
  },
  {
   "cell_type": "markdown",
   "metadata": {},
   "source": [
    "## Preprocessing\n",
    "First, grab only 'session_T' then divide eeg_data (X) into left and right hand   \n",
    "In this early experiment subject 1 and 2 will be used as target while the rest as sources"
   ]
  },
  {
   "cell_type": "code",
   "execution_count": 47,
   "metadata": {},
   "outputs": [
    {
     "data": {
      "text/plain": [
       "(288, 22, 751)"
      ]
     },
     "execution_count": 47,
     "metadata": {},
     "output_type": "execute_result"
    }
   ],
   "source": [
    "ori_data[1]['X'].shape"
   ]
  },
  {
   "cell_type": "code",
   "execution_count": 50,
   "metadata": {},
   "outputs": [],
   "source": [
    "# Only take data belonging to session_T, do this for all subjects\n",
    "from copy import deepcopy\n",
    "all_data = deepcopy(ori_data)\n",
    "\n",
    "for subj in range(1, 10):\n",
    "    idx = all_data[subj]['meta'][all_data[subj]['meta'].session == 'session_T'].index.values\n",
    "    all_data[subj]['X'] = all_data[subj]['X'][idx]\n",
    "    all_data[subj]['X'] = all_data[subj]['X'].reshape(all_data[subj]['X'].shape[0], all_data[subj]['X'].shape[1], all_data[subj]['X'].shape[2])\n",
    "    all_data[subj]['y'] = all_data[subj]['y'][idx]\n",
    "    \n",
    "    # Divide them into left and right hand\n",
    "    all_data[subj]['left_hand'] = all_data[subj]['X'][all_data[subj]['y'] == 'left_hand']\n",
    "    all_data[subj]['right_hand'] = all_data[subj]['X'][all_data[subj]['y'] == 'right_hand']    "
   ]
  },
  {
   "cell_type": "code",
   "execution_count": 51,
   "metadata": {},
   "outputs": [
    {
     "data": {
      "text/plain": [
       "(144, 22, 751)"
      ]
     },
     "execution_count": 51,
     "metadata": {},
     "output_type": "execute_result"
    }
   ],
   "source": [
    "all_data[1]['X'].shape"
   ]
  },
  {
   "cell_type": "code",
   "execution_count": 117,
   "metadata": {},
   "outputs": [
    {
     "data": {
      "text/plain": [
       "array([ -9.14191696, -11.40696936, -11.21258134,  -8.68376597,\n",
       "        -4.59912832,  -0.07569719,   3.82230888,   6.37972667,\n",
       "         7.34021711,   6.84364185,   5.27707906,   3.13170091,\n",
       "         0.90441751,  -0.97811483,  -2.24226967,  -2.83512959,\n",
       "        -2.91667921,  -2.75111618,  -2.55369506,  -2.39425553,\n",
       "        -2.21951115,  -1.96513015,  -1.65853343,  -1.41987996,\n",
       "        -1.3510833 ,  -1.3986444 ,  -1.30718873,  -0.72060542,\n",
       "         0.61540869,   2.66583416,   5.04424169,   7.11533515,\n",
       "         8.21400666,   7.88211124,   6.03172741,   2.98828778,\n",
       "        -0.58888536,  -3.88415456,  -6.15702562,  -6.96137681,\n",
       "        -6.27615009,  -4.49536536,  -2.28072811,  -0.33397538,\n",
       "         0.82926733,   1.02836715,   0.4405955 ,  -0.5073915 ,\n",
       "        -1.33304814,  -1.69128295])"
      ]
     },
     "execution_count": 117,
     "metadata": {},
     "output_type": "execute_result"
    }
   ],
   "source": [
    "all_data[1]['left_hand'][0][0][:50]"
   ]
  },
  {
   "cell_type": "code",
   "execution_count": null,
   "metadata": {},
   "outputs": [],
   "source": []
  },
  {
   "cell_type": "code",
   "execution_count": null,
   "metadata": {},
   "outputs": [],
   "source": []
  },
  {
   "cell_type": "code",
   "execution_count": null,
   "metadata": {},
   "outputs": [],
   "source": []
  },
  {
   "cell_type": "code",
   "execution_count": 113,
   "metadata": {
    "collapsed": true,
    "jupyter": {
     "outputs_hidden": true
    }
   },
   "outputs": [
    {
     "name": "stdout",
     "output_type": "stream",
     "text": [
      "98242\n",
      "100250\n",
      "112163\n",
      "114058\n",
      "116030\n",
      "124069\n",
      "126135\n",
      "130237\n",
      "140283\n",
      "154531\n",
      "168776\n",
      "186876\n",
      "189204\n",
      "191207\n",
      "197085\n",
      "201113\n",
      "208998\n",
      "214809\n",
      "229142\n",
      "239079\n",
      "245162\n",
      "251366\n",
      "261676\n",
      "283711\n",
      "289960\n",
      "297948\n",
      "299998\n",
      "313611\n",
      "321841\n",
      "333953\n",
      "346094\n",
      "348201\n",
      "354427\n",
      "364371\n",
      "376373\n",
      "380546\n",
      "384877\n",
      "386795\n",
      "398764\n",
      "402668\n",
      "404563\n",
      "430788\n",
      "442929\n",
      "447128\n",
      "451262\n",
      "455346\n",
      "459281\n",
      "469374\n",
      "481712\n",
      "489701\n",
      "491618\n",
      "505314\n",
      "529584\n",
      "537693\n",
      "541871\n",
      "546054\n",
      "548097\n",
      "550161\n",
      "552181\n",
      "572157\n",
      "576544\n",
      "600205\n",
      "622505\n",
      "626419\n",
      "632502\n",
      "636599\n",
      "642889\n",
      "646996\n",
      "654876\n",
      "663044\n",
      "666878\n",
      "671051\n"
     ]
    }
   ],
   "source": [
    "fs = 250\n",
    "mi_dur = 5\n",
    "\n",
    "left_hand = []\n",
    "for i in left_pos:\n",
    "    print(i)\n",
    "    left = X1['s'][i+int(fs*0.5): i + int(fs*3.5)]\n",
    "    left_hand.append(left.T)\n",
    "    \n",
    "left_hand = np.array(left_hand)\n",
    "#     right_hand = X1['s'][right_pos]"
   ]
  },
  {
   "cell_type": "code",
   "execution_count": 119,
   "metadata": {},
   "outputs": [
    {
     "data": {
      "text/plain": [
       "array([-19.48242188, -16.65039062, -10.79101562, -15.0390625 ,\n",
       "       -15.57617188, -16.25976562, -14.01367188, -16.89453125,\n",
       "       -11.71875   , -11.08398438,  -3.36914062,  -5.90820312,\n",
       "         0.43945312,   5.51757812,   5.2734375 ,   4.78515625,\n",
       "         4.93164062,   9.27734375,   3.95507812,   4.44335938,\n",
       "        -6.15234375,  -9.08203125,  -9.27734375, -13.96484375,\n",
       "       -17.48046875, -18.75      , -24.95117188, -23.6328125 ,\n",
       "       -24.95117188, -23.73046875, -22.265625  , -20.65429688,\n",
       "       -22.11914062, -28.90625   , -26.41601562, -21.82617188,\n",
       "       -28.27148438, -24.4140625 , -17.578125  , -17.52929688,\n",
       "       -14.69726562,  -7.37304688,  -2.5390625 ,  -3.515625  ,\n",
       "        -6.93359375,  -8.69140625,  -7.95898438,  -2.24609375,\n",
       "        -6.00585938,  -4.93164062])"
      ]
     },
     "execution_count": 119,
     "metadata": {},
     "output_type": "execute_result"
    }
   ],
   "source": [
    "left_hand[0][0][:50]"
   ]
  },
  {
   "cell_type": "code",
   "execution_count": null,
   "metadata": {},
   "outputs": [],
   "source": []
  },
  {
   "cell_type": "code",
   "execution_count": null,
   "metadata": {},
   "outputs": [],
   "source": []
  },
  {
   "cell_type": "code",
   "execution_count": null,
   "metadata": {},
   "outputs": [],
   "source": []
  },
  {
   "cell_type": "code",
   "execution_count": 53,
   "metadata": {},
   "outputs": [],
   "source": [
    "# Sanity check\n",
    "# trial_no = 60\n",
    "# assert np.all(all_data[1]['X'][trial_no][0].shape == ori_data[1]['X'][trial_no].shape)\n",
    "# assert np.all(all_data[1]['X'][trial_no][0] == ori_data[1]['X'][trial_no])"
   ]
  },
  {
   "cell_type": "code",
   "execution_count": 18,
   "metadata": {},
   "outputs": [
    {
     "name": "stdout",
     "output_type": "stream",
     "text": [
      "For subject: 1\n",
      "['right_hand' 'left_hand' 'left_hand' 'right_hand' 'right_hand']\n",
      "[1 0 0 1 1]\n",
      "\n",
      "For subject: 2\n",
      "['left_hand' 'right_hand' 'right_hand' 'left_hand' 'right_hand']\n",
      "[0 1 1 0 1]\n",
      "\n",
      "For subject: 3\n",
      "['left_hand' 'right_hand' 'right_hand' 'left_hand' 'right_hand']\n",
      "[0 1 1 0 1]\n",
      "\n",
      "For subject: 4\n",
      "['left_hand' 'left_hand' 'left_hand' 'right_hand' 'left_hand']\n",
      "[0 0 0 1 0]\n",
      "\n",
      "For subject: 5\n",
      "['left_hand' 'right_hand' 'right_hand' 'left_hand' 'right_hand']\n",
      "[0 1 1 0 1]\n",
      "\n",
      "For subject: 6\n",
      "['right_hand' 'right_hand' 'left_hand' 'right_hand' 'left_hand']\n",
      "[1 1 0 1 0]\n",
      "\n",
      "For subject: 7\n",
      "['left_hand' 'right_hand' 'right_hand' 'left_hand' 'right_hand']\n",
      "[0 1 1 0 1]\n",
      "\n",
      "For subject: 8\n",
      "['left_hand' 'right_hand' 'right_hand' 'left_hand' 'right_hand']\n",
      "[0 1 1 0 1]\n",
      "\n",
      "For subject: 9\n",
      "['right_hand' 'right_hand' 'left_hand' 'right_hand' 'left_hand']\n",
      "[1 1 0 1 0]\n",
      "\n"
     ]
    }
   ],
   "source": [
    "# Currently label is still in string format change this to integer\n",
    "from sklearn.preprocessing import LabelEncoder\n",
    "enc = LabelEncoder()\n",
    "enc.fit(all_data[1]['y'])\n",
    "\n",
    "for i in all_data.keys():\n",
    "    print('For subject:', i)\n",
    "    print(all_data[i]['y'][:5])\n",
    "    \n",
    "    # Transform all label\n",
    "    all_data[i]['y'] = enc.transform(all_data[i]['y'])\n",
    "    \n",
    "    print(all_data[i]['y'][:5])\n",
    "    print('')"
   ]
  },
  {
   "cell_type": "code",
   "execution_count": null,
   "metadata": {},
   "outputs": [],
   "source": [
    "#"
   ]
  },
  {
   "cell_type": "code",
   "execution_count": 46,
   "metadata": {},
   "outputs": [
    {
     "data": {
      "text/plain": [
       "0      session_T\n",
       "1      session_T\n",
       "2      session_T\n",
       "3      session_T\n",
       "4      session_T\n",
       "         ...    \n",
       "283    session_E\n",
       "284    session_E\n",
       "285    session_E\n",
       "286    session_E\n",
       "287    session_E\n",
       "Name: session, Length: 288, dtype: object"
      ]
     },
     "execution_count": 46,
     "metadata": {},
     "output_type": "execute_result"
    }
   ],
   "source": [
    "ori_data[1]['meta'].session == 'session_T'"
   ]
  },
  {
   "cell_type": "code",
   "execution_count": null,
   "metadata": {},
   "outputs": [],
   "source": []
  },
  {
   "cell_type": "code",
   "execution_count": null,
   "metadata": {},
   "outputs": [],
   "source": []
  },
  {
   "cell_type": "code",
   "execution_count": 39,
   "metadata": {},
   "outputs": [],
   "source": [
    "# Check with the original data npz\n",
    "for i in range(1, 2):\n",
    "    X = np.load('../../datasets/BCICIV2a/A{:02d}T.npz'.format(i))\n",
    "    "
   ]
  },
  {
   "cell_type": "code",
   "execution_count": 42,
   "metadata": {},
   "outputs": [
    {
     "data": {
      "text/plain": [
       "['s', 'etyp', 'epos', 'edur', 'artifacts']"
      ]
     },
     "execution_count": 42,
     "metadata": {},
     "output_type": "execute_result"
    }
   ],
   "source": [
    "X.files"
   ]
  },
  {
   "cell_type": "code",
   "execution_count": null,
   "metadata": {},
   "outputs": [],
   "source": []
  },
  {
   "cell_type": "code",
   "execution_count": null,
   "metadata": {},
   "outputs": [],
   "source": []
  },
  {
   "cell_type": "code",
   "execution_count": null,
   "metadata": {},
   "outputs": [],
   "source": []
  },
  {
   "cell_type": "code",
   "execution_count": null,
   "metadata": {},
   "outputs": [],
   "source": []
  },
  {
   "cell_type": "code",
   "execution_count": null,
   "metadata": {},
   "outputs": [],
   "source": []
  },
  {
   "cell_type": "code",
   "execution_count": null,
   "metadata": {},
   "outputs": [],
   "source": []
  },
  {
   "cell_type": "code",
   "execution_count": null,
   "metadata": {},
   "outputs": [],
   "source": []
  },
  {
   "cell_type": "code",
   "execution_count": null,
   "metadata": {},
   "outputs": [],
   "source": []
  },
  {
   "cell_type": "code",
   "execution_count": null,
   "metadata": {},
   "outputs": [],
   "source": []
  },
  {
   "cell_type": "code",
   "execution_count": null,
   "metadata": {},
   "outputs": [],
   "source": []
  },
  {
   "cell_type": "code",
   "execution_count": null,
   "metadata": {},
   "outputs": [],
   "source": []
  },
  {
   "cell_type": "code",
   "execution_count": null,
   "metadata": {},
   "outputs": [],
   "source": []
  },
  {
   "cell_type": "code",
   "execution_count": null,
   "metadata": {},
   "outputs": [],
   "source": []
  },
  {
   "cell_type": "code",
   "execution_count": null,
   "metadata": {},
   "outputs": [],
   "source": []
  },
  {
   "cell_type": "code",
   "execution_count": null,
   "metadata": {},
   "outputs": [],
   "source": []
  },
  {
   "cell_type": "code",
   "execution_count": null,
   "metadata": {},
   "outputs": [],
   "source": []
  },
  {
   "cell_type": "code",
   "execution_count": null,
   "metadata": {},
   "outputs": [],
   "source": []
  },
  {
   "cell_type": "code",
   "execution_count": null,
   "metadata": {},
   "outputs": [],
   "source": []
  },
  {
   "cell_type": "code",
   "execution_count": null,
   "metadata": {},
   "outputs": [],
   "source": []
  },
  {
   "cell_type": "code",
   "execution_count": null,
   "metadata": {},
   "outputs": [],
   "source": []
  },
  {
   "cell_type": "code",
   "execution_count": null,
   "metadata": {},
   "outputs": [],
   "source": []
  },
  {
   "cell_type": "code",
   "execution_count": null,
   "metadata": {},
   "outputs": [],
   "source": []
  },
  {
   "cell_type": "code",
   "execution_count": null,
   "metadata": {},
   "outputs": [],
   "source": []
  },
  {
   "cell_type": "code",
   "execution_count": null,
   "metadata": {},
   "outputs": [],
   "source": []
  },
  {
   "cell_type": "code",
   "execution_count": null,
   "metadata": {},
   "outputs": [],
   "source": []
  },
  {
   "cell_type": "code",
   "execution_count": null,
   "metadata": {},
   "outputs": [],
   "source": []
  },
  {
   "cell_type": "code",
   "execution_count": null,
   "metadata": {},
   "outputs": [],
   "source": []
  },
  {
   "cell_type": "code",
   "execution_count": null,
   "metadata": {},
   "outputs": [],
   "source": []
  },
  {
   "cell_type": "code",
   "execution_count": null,
   "metadata": {},
   "outputs": [],
   "source": []
  },
  {
   "cell_type": "code",
   "execution_count": null,
   "metadata": {},
   "outputs": [],
   "source": []
  },
  {
   "cell_type": "code",
   "execution_count": null,
   "metadata": {},
   "outputs": [],
   "source": []
  },
  {
   "cell_type": "code",
   "execution_count": null,
   "metadata": {},
   "outputs": [],
   "source": []
  },
  {
   "cell_type": "code",
   "execution_count": null,
   "metadata": {},
   "outputs": [],
   "source": []
  },
  {
   "cell_type": "code",
   "execution_count": null,
   "metadata": {},
   "outputs": [],
   "source": []
  },
  {
   "cell_type": "code",
   "execution_count": null,
   "metadata": {},
   "outputs": [],
   "source": []
  },
  {
   "cell_type": "code",
   "execution_count": null,
   "metadata": {},
   "outputs": [],
   "source": []
  },
  {
   "cell_type": "code",
   "execution_count": null,
   "metadata": {},
   "outputs": [],
   "source": []
  },
  {
   "cell_type": "code",
   "execution_count": null,
   "metadata": {},
   "outputs": [],
   "source": []
  },
  {
   "cell_type": "code",
   "execution_count": null,
   "metadata": {},
   "outputs": [],
   "source": []
  },
  {
   "cell_type": "code",
   "execution_count": null,
   "metadata": {},
   "outputs": [],
   "source": []
  },
  {
   "cell_type": "code",
   "execution_count": null,
   "metadata": {},
   "outputs": [],
   "source": []
  },
  {
   "cell_type": "code",
   "execution_count": null,
   "metadata": {},
   "outputs": [],
   "source": []
  },
  {
   "cell_type": "code",
   "execution_count": null,
   "metadata": {},
   "outputs": [],
   "source": []
  },
  {
   "cell_type": "code",
   "execution_count": null,
   "metadata": {},
   "outputs": [],
   "source": []
  },
  {
   "cell_type": "code",
   "execution_count": null,
   "metadata": {},
   "outputs": [],
   "source": []
  },
  {
   "cell_type": "code",
   "execution_count": null,
   "metadata": {},
   "outputs": [],
   "source": []
  },
  {
   "cell_type": "code",
   "execution_count": null,
   "metadata": {},
   "outputs": [],
   "source": []
  },
  {
   "cell_type": "code",
   "execution_count": null,
   "metadata": {},
   "outputs": [],
   "source": []
  },
  {
   "cell_type": "code",
   "execution_count": null,
   "metadata": {},
   "outputs": [],
   "source": []
  },
  {
   "cell_type": "code",
   "execution_count": null,
   "metadata": {},
   "outputs": [],
   "source": []
  },
  {
   "cell_type": "code",
   "execution_count": null,
   "metadata": {},
   "outputs": [],
   "source": []
  },
  {
   "cell_type": "code",
   "execution_count": null,
   "metadata": {},
   "outputs": [],
   "source": []
  },
  {
   "cell_type": "code",
   "execution_count": null,
   "metadata": {},
   "outputs": [],
   "source": []
  },
  {
   "cell_type": "code",
   "execution_count": null,
   "metadata": {},
   "outputs": [],
   "source": []
  },
  {
   "cell_type": "code",
   "execution_count": null,
   "metadata": {},
   "outputs": [],
   "source": []
  },
  {
   "cell_type": "code",
   "execution_count": null,
   "metadata": {},
   "outputs": [],
   "source": []
  },
  {
   "cell_type": "code",
   "execution_count": null,
   "metadata": {},
   "outputs": [],
   "source": []
  },
  {
   "cell_type": "code",
   "execution_count": null,
   "metadata": {},
   "outputs": [],
   "source": []
  },
  {
   "cell_type": "code",
   "execution_count": null,
   "metadata": {},
   "outputs": [],
   "source": []
  },
  {
   "cell_type": "code",
   "execution_count": null,
   "metadata": {},
   "outputs": [],
   "source": []
  },
  {
   "cell_type": "code",
   "execution_count": null,
   "metadata": {},
   "outputs": [],
   "source": []
  },
  {
   "cell_type": "code",
   "execution_count": null,
   "metadata": {},
   "outputs": [],
   "source": []
  },
  {
   "cell_type": "code",
   "execution_count": null,
   "metadata": {},
   "outputs": [],
   "source": []
  },
  {
   "cell_type": "code",
   "execution_count": null,
   "metadata": {},
   "outputs": [],
   "source": []
  },
  {
   "cell_type": "code",
   "execution_count": null,
   "metadata": {},
   "outputs": [],
   "source": []
  }
 ],
 "metadata": {
  "kernelspec": {
   "display_name": "Python 3",
   "language": "python",
   "name": "python3"
  },
  "language_info": {
   "codemirror_mode": {
    "name": "ipython",
    "version": 3
   },
   "file_extension": ".py",
   "mimetype": "text/x-python",
   "name": "python",
   "nbconvert_exporter": "python",
   "pygments_lexer": "ipython3",
   "version": "3.7.9"
  },
  "toc-autonumbering": true
 },
 "nbformat": 4,
 "nbformat_minor": 4
}
